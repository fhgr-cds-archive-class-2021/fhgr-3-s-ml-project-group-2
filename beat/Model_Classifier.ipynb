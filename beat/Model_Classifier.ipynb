{
 "cells": [
  {
   "cell_type": "code",
   "execution_count": 1,
   "id": "e0d36688",
   "metadata": {},
   "outputs": [],
   "source": [
    "import pandas as pd\n",
    "import numpy as np\n",
    "from sklearn.ensemble import RandomForestClassifier\n",
    "from sklearn.ensemble import RandomForestRegressor\n",
    "from sklearn.metrics import mean_squared_error, r2_score\n",
    "from sklearn.ensemble import GradientBoostingClassifier\n",
    "from sklearn.metrics import confusion_matrix, ConfusionMatrixDisplay"
   ]
  },
  {
   "cell_type": "code",
   "execution_count": 2,
   "id": "f5637174",
   "metadata": {},
   "outputs": [],
   "source": [
    "data_test=pd.read_csv(\"../app/data/02_test.csv\",encoding=\"iso-8859-1\", low_memory=False, delimiter=\";\")\n",
    "data_train=pd.read_csv(\"../app/data/02_train.csv\",encoding=\"iso-8859-1\", low_memory=False, delimiter=\";\")"
   ]
  },
  {
   "cell_type": "code",
   "execution_count": 3,
   "id": "4cbf24e9",
   "metadata": {},
   "outputs": [
    {
     "data": {
      "text/html": [
       "<div>\n",
       "<style scoped>\n",
       "    .dataframe tbody tr th:only-of-type {\n",
       "        vertical-align: middle;\n",
       "    }\n",
       "\n",
       "    .dataframe tbody tr th {\n",
       "        vertical-align: top;\n",
       "    }\n",
       "\n",
       "    .dataframe thead th {\n",
       "        text-align: right;\n",
       "    }\n",
       "</style>\n",
       "<table border=\"1\" class=\"dataframe\">\n",
       "  <thead>\n",
       "    <tr style=\"text-align: right;\">\n",
       "      <th></th>\n",
       "      <th>Lng</th>\n",
       "      <th>Lat</th>\n",
       "      <th>square</th>\n",
       "      <th>livingRoom</th>\n",
       "      <th>drawingRoom</th>\n",
       "      <th>kitchen</th>\n",
       "      <th>bathRoom</th>\n",
       "      <th>floor</th>\n",
       "      <th>buildingType</th>\n",
       "      <th>renovationCondition</th>\n",
       "      <th>...</th>\n",
       "      <th>placeRank</th>\n",
       "      <th>town</th>\n",
       "      <th>districtPopulation</th>\n",
       "      <th>districtArea</th>\n",
       "      <th>tradeYear</th>\n",
       "      <th>tradeMonth</th>\n",
       "      <th>tradeDay</th>\n",
       "      <th>floorType</th>\n",
       "      <th>constructionTimePeriod</th>\n",
       "      <th>totalPrice</th>\n",
       "    </tr>\n",
       "  </thead>\n",
       "  <tbody>\n",
       "    <tr>\n",
       "      <th>0</th>\n",
       "      <td>116.432684</td>\n",
       "      <td>40.077562</td>\n",
       "      <td>104.02</td>\n",
       "      <td>2</td>\n",
       "      <td>1</td>\n",
       "      <td>1</td>\n",
       "      <td>1</td>\n",
       "      <td>6</td>\n",
       "      <td>118742</td>\n",
       "      <td>81441</td>\n",
       "      <td>...</td>\n",
       "      <td>133606</td>\n",
       "      <td>219943</td>\n",
       "      <td>2269487.0</td>\n",
       "      <td>1430.0</td>\n",
       "      <td>2015</td>\n",
       "      <td>11</td>\n",
       "      <td>21</td>\n",
       "      <td>82499</td>\n",
       "      <td>52625</td>\n",
       "      <td>237.5</td>\n",
       "    </tr>\n",
       "    <tr>\n",
       "      <th>1</th>\n",
       "      <td>116.432684</td>\n",
       "      <td>40.077562</td>\n",
       "      <td>102.27</td>\n",
       "      <td>2</td>\n",
       "      <td>1</td>\n",
       "      <td>1</td>\n",
       "      <td>1</td>\n",
       "      <td>20</td>\n",
       "      <td>58087</td>\n",
       "      <td>81641</td>\n",
       "      <td>...</td>\n",
       "      <td>133606</td>\n",
       "      <td>219943</td>\n",
       "      <td>2269487.0</td>\n",
       "      <td>1430.0</td>\n",
       "      <td>2013</td>\n",
       "      <td>7</td>\n",
       "      <td>27</td>\n",
       "      <td>82499</td>\n",
       "      <td>52625</td>\n",
       "      <td>210.0</td>\n",
       "    </tr>\n",
       "    <tr>\n",
       "      <th>2</th>\n",
       "      <td>116.438800</td>\n",
       "      <td>40.054941</td>\n",
       "      <td>53.00</td>\n",
       "      <td>2</td>\n",
       "      <td>1</td>\n",
       "      <td>1</td>\n",
       "      <td>2</td>\n",
       "      <td>17</td>\n",
       "      <td>41617</td>\n",
       "      <td>81441</td>\n",
       "      <td>...</td>\n",
       "      <td>81988</td>\n",
       "      <td>219943</td>\n",
       "      <td>3452460.0</td>\n",
       "      <td>470.8</td>\n",
       "      <td>2016</td>\n",
       "      <td>10</td>\n",
       "      <td>19</td>\n",
       "      <td>44240</td>\n",
       "      <td>52625</td>\n",
       "      <td>462.0</td>\n",
       "    </tr>\n",
       "    <tr>\n",
       "      <th>3</th>\n",
       "      <td>116.364866</td>\n",
       "      <td>39.964032</td>\n",
       "      <td>64.90</td>\n",
       "      <td>2</td>\n",
       "      <td>1</td>\n",
       "      <td>1</td>\n",
       "      <td>1</td>\n",
       "      <td>6</td>\n",
       "      <td>118742</td>\n",
       "      <td>81441</td>\n",
       "      <td>...</td>\n",
       "      <td>133606</td>\n",
       "      <td>219943</td>\n",
       "      <td>1106214.0</td>\n",
       "      <td>46.5</td>\n",
       "      <td>2016</td>\n",
       "      <td>7</td>\n",
       "      <td>5</td>\n",
       "      <td>82499</td>\n",
       "      <td>16497</td>\n",
       "      <td>390.0</td>\n",
       "    </tr>\n",
       "    <tr>\n",
       "      <th>4</th>\n",
       "      <td>116.364028</td>\n",
       "      <td>39.870465</td>\n",
       "      <td>69.10</td>\n",
       "      <td>2</td>\n",
       "      <td>2</td>\n",
       "      <td>1</td>\n",
       "      <td>1</td>\n",
       "      <td>6</td>\n",
       "      <td>118742</td>\n",
       "      <td>53150</td>\n",
       "      <td>...</td>\n",
       "      <td>81988</td>\n",
       "      <td>219943</td>\n",
       "      <td>1106214.0</td>\n",
       "      <td>46.5</td>\n",
       "      <td>2016</td>\n",
       "      <td>2</td>\n",
       "      <td>22</td>\n",
       "      <td>25725</td>\n",
       "      <td>136686</td>\n",
       "      <td>246.0</td>\n",
       "    </tr>\n",
       "  </tbody>\n",
       "</table>\n",
       "<p>5 rows × 27 columns</p>\n",
       "</div>"
      ],
      "text/plain": [
       "          Lng        Lat  square  livingRoom  drawingRoom  kitchen  bathRoom  \\\n",
       "0  116.432684  40.077562  104.02           2            1        1         1   \n",
       "1  116.432684  40.077562  102.27           2            1        1         1   \n",
       "2  116.438800  40.054941   53.00           2            1        1         2   \n",
       "3  116.364866  39.964032   64.90           2            1        1         1   \n",
       "4  116.364028  39.870465   69.10           2            2        1         1   \n",
       "\n",
       "   floor  buildingType  renovationCondition  ...  placeRank    town  \\\n",
       "0      6        118742                81441  ...     133606  219943   \n",
       "1     20         58087                81641  ...     133606  219943   \n",
       "2     17         41617                81441  ...      81988  219943   \n",
       "3      6        118742                81441  ...     133606  219943   \n",
       "4      6        118742                53150  ...      81988  219943   \n",
       "\n",
       "   districtPopulation  districtArea  tradeYear  tradeMonth  tradeDay  \\\n",
       "0           2269487.0        1430.0       2015          11        21   \n",
       "1           2269487.0        1430.0       2013           7        27   \n",
       "2           3452460.0         470.8       2016          10        19   \n",
       "3           1106214.0          46.5       2016           7         5   \n",
       "4           1106214.0          46.5       2016           2        22   \n",
       "\n",
       "   floorType  constructionTimePeriod  totalPrice  \n",
       "0      82499                   52625       237.5  \n",
       "1      82499                   52625       210.0  \n",
       "2      44240                   52625       462.0  \n",
       "3      82499                   16497       390.0  \n",
       "4      25725                  136686       246.0  \n",
       "\n",
       "[5 rows x 27 columns]"
      ]
     },
     "execution_count": 3,
     "metadata": {},
     "output_type": "execute_result"
    }
   ],
   "source": [
    "data_test.head()"
   ]
  },
  {
   "cell_type": "code",
   "execution_count": 6,
   "id": "16b2ec11",
   "metadata": {},
   "outputs": [
    {
     "data": {
      "text/html": [
       "<div>\n",
       "<style scoped>\n",
       "    .dataframe tbody tr th:only-of-type {\n",
       "        vertical-align: middle;\n",
       "    }\n",
       "\n",
       "    .dataframe tbody tr th {\n",
       "        vertical-align: top;\n",
       "    }\n",
       "\n",
       "    .dataframe thead th {\n",
       "        text-align: right;\n",
       "    }\n",
       "</style>\n",
       "<table border=\"1\" class=\"dataframe\">\n",
       "  <thead>\n",
       "    <tr style=\"text-align: right;\">\n",
       "      <th></th>\n",
       "      <th>Lng</th>\n",
       "      <th>Lat</th>\n",
       "      <th>square</th>\n",
       "      <th>livingRoom</th>\n",
       "      <th>drawingRoom</th>\n",
       "      <th>kitchen</th>\n",
       "      <th>bathRoom</th>\n",
       "      <th>floor</th>\n",
       "      <th>buildingType</th>\n",
       "      <th>renovationCondition</th>\n",
       "      <th>...</th>\n",
       "      <th>placeRank</th>\n",
       "      <th>town</th>\n",
       "      <th>districtPopulation</th>\n",
       "      <th>districtArea</th>\n",
       "      <th>tradeYear</th>\n",
       "      <th>tradeMonth</th>\n",
       "      <th>tradeDay</th>\n",
       "      <th>floorType</th>\n",
       "      <th>constructionTimePeriod</th>\n",
       "      <th>totalPrice</th>\n",
       "    </tr>\n",
       "  </thead>\n",
       "  <tbody>\n",
       "    <tr>\n",
       "      <th>3595</th>\n",
       "      <td>116.269851</td>\n",
       "      <td>39.897262</td>\n",
       "      <td>45.99</td>\n",
       "      <td>1.0</td>\n",
       "      <td>1.0</td>\n",
       "      <td>1.0</td>\n",
       "      <td>1.0</td>\n",
       "      <td>6.0</td>\n",
       "      <td>118742.0</td>\n",
       "      <td>81641.0</td>\n",
       "      <td>...</td>\n",
       "      <td>133606.0</td>\n",
       "      <td>219943.0</td>\n",
       "      <td>3133469.0</td>\n",
       "      <td>426.0</td>\n",
       "      <td>2011.0</td>\n",
       "      <td>11.0</td>\n",
       "      <td>23.0</td>\n",
       "      <td>82499.0</td>\n",
       "      <td>136686.0</td>\n",
       "      <td>0.1</td>\n",
       "    </tr>\n",
       "    <tr>\n",
       "      <th>4284</th>\n",
       "      <td>116.361669</td>\n",
       "      <td>39.934204</td>\n",
       "      <td>68.90</td>\n",
       "      <td>3.0</td>\n",
       "      <td>1.0</td>\n",
       "      <td>1.0</td>\n",
       "      <td>1.0</td>\n",
       "      <td>6.0</td>\n",
       "      <td>118742.0</td>\n",
       "      <td>81641.0</td>\n",
       "      <td>...</td>\n",
       "      <td>133606.0</td>\n",
       "      <td>219943.0</td>\n",
       "      <td>1106214.0</td>\n",
       "      <td>46.5</td>\n",
       "      <td>2011.0</td>\n",
       "      <td>12.0</td>\n",
       "      <td>10.0</td>\n",
       "      <td>25725.0</td>\n",
       "      <td>136686.0</td>\n",
       "      <td>0.1</td>\n",
       "    </tr>\n",
       "    <tr>\n",
       "      <th>5760</th>\n",
       "      <td>116.457814</td>\n",
       "      <td>39.770511</td>\n",
       "      <td>95.77</td>\n",
       "      <td>2.0</td>\n",
       "      <td>1.0</td>\n",
       "      <td>1.0</td>\n",
       "      <td>1.0</td>\n",
       "      <td>16.0</td>\n",
       "      <td>41617.0</td>\n",
       "      <td>81641.0</td>\n",
       "      <td>...</td>\n",
       "      <td>133606.0</td>\n",
       "      <td>219943.0</td>\n",
       "      <td>1993591.0</td>\n",
       "      <td>1012.0</td>\n",
       "      <td>2012.0</td>\n",
       "      <td>6.0</td>\n",
       "      <td>4.0</td>\n",
       "      <td>82499.0</td>\n",
       "      <td>136686.0</td>\n",
       "      <td>0.1</td>\n",
       "    </tr>\n",
       "    <tr>\n",
       "      <th>6478</th>\n",
       "      <td>116.368607</td>\n",
       "      <td>39.848997</td>\n",
       "      <td>78.79</td>\n",
       "      <td>3.0</td>\n",
       "      <td>2.0</td>\n",
       "      <td>1.0</td>\n",
       "      <td>2.0</td>\n",
       "      <td>6.0</td>\n",
       "      <td>118742.0</td>\n",
       "      <td>81641.0</td>\n",
       "      <td>...</td>\n",
       "      <td>133606.0</td>\n",
       "      <td>219943.0</td>\n",
       "      <td>2019764.0</td>\n",
       "      <td>304.2</td>\n",
       "      <td>2013.0</td>\n",
       "      <td>1.0</td>\n",
       "      <td>7.0</td>\n",
       "      <td>25725.0</td>\n",
       "      <td>136686.0</td>\n",
       "      <td>0.1</td>\n",
       "    </tr>\n",
       "    <tr>\n",
       "      <th>6529</th>\n",
       "      <td>116.303130</td>\n",
       "      <td>39.950488</td>\n",
       "      <td>57.60</td>\n",
       "      <td>2.0</td>\n",
       "      <td>1.0</td>\n",
       "      <td>1.0</td>\n",
       "      <td>1.0</td>\n",
       "      <td>21.0</td>\n",
       "      <td>58087.0</td>\n",
       "      <td>81441.0</td>\n",
       "      <td>...</td>\n",
       "      <td>81988.0</td>\n",
       "      <td>219943.0</td>\n",
       "      <td>3133469.0</td>\n",
       "      <td>426.0</td>\n",
       "      <td>2014.0</td>\n",
       "      <td>10.0</td>\n",
       "      <td>25.0</td>\n",
       "      <td>48571.0</td>\n",
       "      <td>136686.0</td>\n",
       "      <td>0.1</td>\n",
       "    </tr>\n",
       "    <tr>\n",
       "      <th>...</th>\n",
       "      <td>...</td>\n",
       "      <td>...</td>\n",
       "      <td>...</td>\n",
       "      <td>...</td>\n",
       "      <td>...</td>\n",
       "      <td>...</td>\n",
       "      <td>...</td>\n",
       "      <td>...</td>\n",
       "      <td>...</td>\n",
       "      <td>...</td>\n",
       "      <td>...</td>\n",
       "      <td>...</td>\n",
       "      <td>...</td>\n",
       "      <td>...</td>\n",
       "      <td>...</td>\n",
       "      <td>...</td>\n",
       "      <td>...</td>\n",
       "      <td>...</td>\n",
       "      <td>...</td>\n",
       "      <td>...</td>\n",
       "      <td>...</td>\n",
       "    </tr>\n",
       "    <tr>\n",
       "      <th>87106</th>\n",
       "      <td>116.475046</td>\n",
       "      <td>39.882090</td>\n",
       "      <td>56.94</td>\n",
       "      <td>2.0</td>\n",
       "      <td>1.0</td>\n",
       "      <td>1.0</td>\n",
       "      <td>1.0</td>\n",
       "      <td>6.0</td>\n",
       "      <td>118742.0</td>\n",
       "      <td>81641.0</td>\n",
       "      <td>...</td>\n",
       "      <td>133606.0</td>\n",
       "      <td>219943.0</td>\n",
       "      <td>3452460.0</td>\n",
       "      <td>470.8</td>\n",
       "      <td>2011.0</td>\n",
       "      <td>10.0</td>\n",
       "      <td>7.0</td>\n",
       "      <td>82499.0</td>\n",
       "      <td>16497.0</td>\n",
       "      <td>0.1</td>\n",
       "    </tr>\n",
       "    <tr>\n",
       "      <th>89372</th>\n",
       "      <td>116.381497</td>\n",
       "      <td>39.977750</td>\n",
       "      <td>45.80</td>\n",
       "      <td>1.0</td>\n",
       "      <td>1.0</td>\n",
       "      <td>1.0</td>\n",
       "      <td>1.0</td>\n",
       "      <td>9.0</td>\n",
       "      <td>41617.0</td>\n",
       "      <td>81641.0</td>\n",
       "      <td>...</td>\n",
       "      <td>81988.0</td>\n",
       "      <td>219943.0</td>\n",
       "      <td>3452460.0</td>\n",
       "      <td>470.8</td>\n",
       "      <td>2014.0</td>\n",
       "      <td>9.0</td>\n",
       "      <td>16.0</td>\n",
       "      <td>44240.0</td>\n",
       "      <td>136686.0</td>\n",
       "      <td>0.2</td>\n",
       "    </tr>\n",
       "    <tr>\n",
       "      <th>89933</th>\n",
       "      <td>116.498241</td>\n",
       "      <td>39.971858</td>\n",
       "      <td>49.49</td>\n",
       "      <td>1.0</td>\n",
       "      <td>1.0</td>\n",
       "      <td>0.0</td>\n",
       "      <td>1.0</td>\n",
       "      <td>21.0</td>\n",
       "      <td>41617.0</td>\n",
       "      <td>53150.0</td>\n",
       "      <td>...</td>\n",
       "      <td>133606.0</td>\n",
       "      <td>219943.0</td>\n",
       "      <td>3452460.0</td>\n",
       "      <td>470.8</td>\n",
       "      <td>2015.0</td>\n",
       "      <td>4.0</td>\n",
       "      <td>17.0</td>\n",
       "      <td>82499.0</td>\n",
       "      <td>52625.0</td>\n",
       "      <td>0.1</td>\n",
       "    </tr>\n",
       "    <tr>\n",
       "      <th>90055</th>\n",
       "      <td>116.352166</td>\n",
       "      <td>39.920264</td>\n",
       "      <td>38.70</td>\n",
       "      <td>1.0</td>\n",
       "      <td>1.0</td>\n",
       "      <td>1.0</td>\n",
       "      <td>1.0</td>\n",
       "      <td>16.0</td>\n",
       "      <td>58087.0</td>\n",
       "      <td>81641.0</td>\n",
       "      <td>...</td>\n",
       "      <td>133606.0</td>\n",
       "      <td>219943.0</td>\n",
       "      <td>1106214.0</td>\n",
       "      <td>46.5</td>\n",
       "      <td>2011.0</td>\n",
       "      <td>10.0</td>\n",
       "      <td>15.0</td>\n",
       "      <td>82499.0</td>\n",
       "      <td>136686.0</td>\n",
       "      <td>0.1</td>\n",
       "    </tr>\n",
       "    <tr>\n",
       "      <th>91464</th>\n",
       "      <td>116.435657</td>\n",
       "      <td>39.875802</td>\n",
       "      <td>170.00</td>\n",
       "      <td>4.0</td>\n",
       "      <td>2.0</td>\n",
       "      <td>1.0</td>\n",
       "      <td>2.0</td>\n",
       "      <td>20.0</td>\n",
       "      <td>58087.0</td>\n",
       "      <td>81641.0</td>\n",
       "      <td>...</td>\n",
       "      <td>81988.0</td>\n",
       "      <td>219943.0</td>\n",
       "      <td>708829.0</td>\n",
       "      <td>40.6</td>\n",
       "      <td>2011.0</td>\n",
       "      <td>9.0</td>\n",
       "      <td>15.0</td>\n",
       "      <td>48571.0</td>\n",
       "      <td>136686.0</td>\n",
       "      <td>0.1</td>\n",
       "    </tr>\n",
       "  </tbody>\n",
       "</table>\n",
       "<p>72 rows × 27 columns</p>\n",
       "</div>"
      ],
      "text/plain": [
       "              Lng        Lat  square  livingRoom  drawingRoom  kitchen  \\\n",
       "3595   116.269851  39.897262   45.99         1.0          1.0      1.0   \n",
       "4284   116.361669  39.934204   68.90         3.0          1.0      1.0   \n",
       "5760   116.457814  39.770511   95.77         2.0          1.0      1.0   \n",
       "6478   116.368607  39.848997   78.79         3.0          2.0      1.0   \n",
       "6529   116.303130  39.950488   57.60         2.0          1.0      1.0   \n",
       "...           ...        ...     ...         ...          ...      ...   \n",
       "87106  116.475046  39.882090   56.94         2.0          1.0      1.0   \n",
       "89372  116.381497  39.977750   45.80         1.0          1.0      1.0   \n",
       "89933  116.498241  39.971858   49.49         1.0          1.0      0.0   \n",
       "90055  116.352166  39.920264   38.70         1.0          1.0      1.0   \n",
       "91464  116.435657  39.875802  170.00         4.0          2.0      1.0   \n",
       "\n",
       "       bathRoom  floor  buildingType  renovationCondition  ...  placeRank  \\\n",
       "3595        1.0    6.0      118742.0              81641.0  ...   133606.0   \n",
       "4284        1.0    6.0      118742.0              81641.0  ...   133606.0   \n",
       "5760        1.0   16.0       41617.0              81641.0  ...   133606.0   \n",
       "6478        2.0    6.0      118742.0              81641.0  ...   133606.0   \n",
       "6529        1.0   21.0       58087.0              81441.0  ...    81988.0   \n",
       "...         ...    ...           ...                  ...  ...        ...   \n",
       "87106       1.0    6.0      118742.0              81641.0  ...   133606.0   \n",
       "89372       1.0    9.0       41617.0              81641.0  ...    81988.0   \n",
       "89933       1.0   21.0       41617.0              53150.0  ...   133606.0   \n",
       "90055       1.0   16.0       58087.0              81641.0  ...   133606.0   \n",
       "91464       2.0   20.0       58087.0              81641.0  ...    81988.0   \n",
       "\n",
       "           town  districtPopulation  districtArea  tradeYear  tradeMonth  \\\n",
       "3595   219943.0           3133469.0         426.0     2011.0        11.0   \n",
       "4284   219943.0           1106214.0          46.5     2011.0        12.0   \n",
       "5760   219943.0           1993591.0        1012.0     2012.0         6.0   \n",
       "6478   219943.0           2019764.0         304.2     2013.0         1.0   \n",
       "6529   219943.0           3133469.0         426.0     2014.0        10.0   \n",
       "...         ...                 ...           ...        ...         ...   \n",
       "87106  219943.0           3452460.0         470.8     2011.0        10.0   \n",
       "89372  219943.0           3452460.0         470.8     2014.0         9.0   \n",
       "89933  219943.0           3452460.0         470.8     2015.0         4.0   \n",
       "90055  219943.0           1106214.0          46.5     2011.0        10.0   \n",
       "91464  219943.0            708829.0          40.6     2011.0         9.0   \n",
       "\n",
       "       tradeDay  floorType  constructionTimePeriod  totalPrice  \n",
       "3595       23.0    82499.0                136686.0         0.1  \n",
       "4284       10.0    25725.0                136686.0         0.1  \n",
       "5760        4.0    82499.0                136686.0         0.1  \n",
       "6478        7.0    25725.0                136686.0         0.1  \n",
       "6529       25.0    48571.0                136686.0         0.1  \n",
       "...         ...        ...                     ...         ...  \n",
       "87106       7.0    82499.0                 16497.0         0.1  \n",
       "89372      16.0    44240.0                136686.0         0.2  \n",
       "89933      17.0    82499.0                 52625.0         0.1  \n",
       "90055      15.0    82499.0                136686.0         0.1  \n",
       "91464      15.0    48571.0                136686.0         0.1  \n",
       "\n",
       "[72 rows x 27 columns]"
      ]
     },
     "execution_count": 6,
     "metadata": {},
     "output_type": "execute_result"
    }
   ],
   "source": [
    "data_test.where(data_test[\"totalPrice\"]<1).dropna()\n",
    "#data_test=data_test[data_test[\"totalPrice\"]>1]"
   ]
  },
  {
   "cell_type": "code",
   "execution_count": 7,
   "id": "384146c0",
   "metadata": {},
   "outputs": [
    {
     "data": {
      "text/html": [
       "<div>\n",
       "<style scoped>\n",
       "    .dataframe tbody tr th:only-of-type {\n",
       "        vertical-align: middle;\n",
       "    }\n",
       "\n",
       "    .dataframe tbody tr th {\n",
       "        vertical-align: top;\n",
       "    }\n",
       "\n",
       "    .dataframe thead th {\n",
       "        text-align: right;\n",
       "    }\n",
       "</style>\n",
       "<table border=\"1\" class=\"dataframe\">\n",
       "  <thead>\n",
       "    <tr style=\"text-align: right;\">\n",
       "      <th></th>\n",
       "      <th>Lng</th>\n",
       "      <th>Lat</th>\n",
       "      <th>square</th>\n",
       "      <th>livingRoom</th>\n",
       "      <th>drawingRoom</th>\n",
       "      <th>kitchen</th>\n",
       "      <th>bathRoom</th>\n",
       "      <th>floor</th>\n",
       "      <th>buildingType</th>\n",
       "      <th>renovationCondition</th>\n",
       "      <th>...</th>\n",
       "      <th>placeRank</th>\n",
       "      <th>town</th>\n",
       "      <th>districtPopulation</th>\n",
       "      <th>districtArea</th>\n",
       "      <th>tradeYear</th>\n",
       "      <th>tradeMonth</th>\n",
       "      <th>tradeDay</th>\n",
       "      <th>floorType</th>\n",
       "      <th>constructionTimePeriod</th>\n",
       "      <th>totalPrice</th>\n",
       "    </tr>\n",
       "  </thead>\n",
       "  <tbody>\n",
       "    <tr>\n",
       "      <th>18475</th>\n",
       "      <td>116.353679</td>\n",
       "      <td>39.908116</td>\n",
       "      <td>285.84</td>\n",
       "      <td>4.0</td>\n",
       "      <td>2.0</td>\n",
       "      <td>1.0</td>\n",
       "      <td>2.0</td>\n",
       "      <td>16.0</td>\n",
       "      <td>58087.0</td>\n",
       "      <td>81441.0</td>\n",
       "      <td>...</td>\n",
       "      <td>133606.0</td>\n",
       "      <td>219943.0</td>\n",
       "      <td>1106214.0</td>\n",
       "      <td>46.5</td>\n",
       "      <td>2016.0</td>\n",
       "      <td>9.0</td>\n",
       "      <td>2.0</td>\n",
       "      <td>44240.0</td>\n",
       "      <td>52625.0</td>\n",
       "      <td>3300.0</td>\n",
       "    </tr>\n",
       "    <tr>\n",
       "      <th>28715</th>\n",
       "      <td>116.466282</td>\n",
       "      <td>39.972255</td>\n",
       "      <td>586.00</td>\n",
       "      <td>4.0</td>\n",
       "      <td>2.0</td>\n",
       "      <td>1.0</td>\n",
       "      <td>4.0</td>\n",
       "      <td>23.0</td>\n",
       "      <td>118742.0</td>\n",
       "      <td>81441.0</td>\n",
       "      <td>...</td>\n",
       "      <td>133606.0</td>\n",
       "      <td>219943.0</td>\n",
       "      <td>3452460.0</td>\n",
       "      <td>470.8</td>\n",
       "      <td>2016.0</td>\n",
       "      <td>10.0</td>\n",
       "      <td>15.0</td>\n",
       "      <td>18058.0</td>\n",
       "      <td>52625.0</td>\n",
       "      <td>3050.0</td>\n",
       "    </tr>\n",
       "    <tr>\n",
       "      <th>30719</th>\n",
       "      <td>116.433036</td>\n",
       "      <td>40.021767</td>\n",
       "      <td>494.66</td>\n",
       "      <td>5.0</td>\n",
       "      <td>3.0</td>\n",
       "      <td>1.0</td>\n",
       "      <td>4.0</td>\n",
       "      <td>3.0</td>\n",
       "      <td>1497.0</td>\n",
       "      <td>81441.0</td>\n",
       "      <td>...</td>\n",
       "      <td>81988.0</td>\n",
       "      <td>219943.0</td>\n",
       "      <td>3452460.0</td>\n",
       "      <td>470.8</td>\n",
       "      <td>2017.0</td>\n",
       "      <td>4.0</td>\n",
       "      <td>6.0</td>\n",
       "      <td>18058.0</td>\n",
       "      <td>136686.0</td>\n",
       "      <td>3500.0</td>\n",
       "    </tr>\n",
       "    <tr>\n",
       "      <th>33194</th>\n",
       "      <td>116.437966</td>\n",
       "      <td>40.018379</td>\n",
       "      <td>574.24</td>\n",
       "      <td>5.0</td>\n",
       "      <td>3.0</td>\n",
       "      <td>2.0</td>\n",
       "      <td>7.0</td>\n",
       "      <td>3.0</td>\n",
       "      <td>1497.0</td>\n",
       "      <td>81441.0</td>\n",
       "      <td>...</td>\n",
       "      <td>81988.0</td>\n",
       "      <td>219943.0</td>\n",
       "      <td>3452460.0</td>\n",
       "      <td>470.8</td>\n",
       "      <td>2016.0</td>\n",
       "      <td>3.0</td>\n",
       "      <td>8.0</td>\n",
       "      <td>18058.0</td>\n",
       "      <td>52625.0</td>\n",
       "      <td>4350.0</td>\n",
       "    </tr>\n",
       "    <tr>\n",
       "      <th>44164</th>\n",
       "      <td>116.340959</td>\n",
       "      <td>39.994651</td>\n",
       "      <td>339.20</td>\n",
       "      <td>4.0</td>\n",
       "      <td>3.0</td>\n",
       "      <td>2.0</td>\n",
       "      <td>4.0</td>\n",
       "      <td>20.0</td>\n",
       "      <td>58087.0</td>\n",
       "      <td>81441.0</td>\n",
       "      <td>...</td>\n",
       "      <td>81988.0</td>\n",
       "      <td>219943.0</td>\n",
       "      <td>3133469.0</td>\n",
       "      <td>426.0</td>\n",
       "      <td>2015.0</td>\n",
       "      <td>7.0</td>\n",
       "      <td>11.0</td>\n",
       "      <td>44240.0</td>\n",
       "      <td>52625.0</td>\n",
       "      <td>3080.0</td>\n",
       "    </tr>\n",
       "    <tr>\n",
       "      <th>44357</th>\n",
       "      <td>116.461200</td>\n",
       "      <td>39.903663</td>\n",
       "      <td>474.97</td>\n",
       "      <td>4.0</td>\n",
       "      <td>3.0</td>\n",
       "      <td>1.0</td>\n",
       "      <td>5.0</td>\n",
       "      <td>3.0</td>\n",
       "      <td>1497.0</td>\n",
       "      <td>81441.0</td>\n",
       "      <td>...</td>\n",
       "      <td>133606.0</td>\n",
       "      <td>219943.0</td>\n",
       "      <td>3452460.0</td>\n",
       "      <td>470.8</td>\n",
       "      <td>2015.0</td>\n",
       "      <td>6.0</td>\n",
       "      <td>5.0</td>\n",
       "      <td>18058.0</td>\n",
       "      <td>52625.0</td>\n",
       "      <td>5700.0</td>\n",
       "    </tr>\n",
       "    <tr>\n",
       "      <th>44566</th>\n",
       "      <td>116.319894</td>\n",
       "      <td>39.918185</td>\n",
       "      <td>481.00</td>\n",
       "      <td>4.0</td>\n",
       "      <td>2.0</td>\n",
       "      <td>2.0</td>\n",
       "      <td>5.0</td>\n",
       "      <td>23.0</td>\n",
       "      <td>41617.0</td>\n",
       "      <td>81441.0</td>\n",
       "      <td>...</td>\n",
       "      <td>133606.0</td>\n",
       "      <td>219943.0</td>\n",
       "      <td>3133469.0</td>\n",
       "      <td>426.0</td>\n",
       "      <td>2016.0</td>\n",
       "      <td>3.0</td>\n",
       "      <td>14.0</td>\n",
       "      <td>82499.0</td>\n",
       "      <td>52625.0</td>\n",
       "      <td>3500.0</td>\n",
       "    </tr>\n",
       "    <tr>\n",
       "      <th>49541</th>\n",
       "      <td>116.330331</td>\n",
       "      <td>39.939379</td>\n",
       "      <td>398.65</td>\n",
       "      <td>5.0</td>\n",
       "      <td>2.0</td>\n",
       "      <td>1.0</td>\n",
       "      <td>3.0</td>\n",
       "      <td>17.0</td>\n",
       "      <td>118742.0</td>\n",
       "      <td>81641.0</td>\n",
       "      <td>...</td>\n",
       "      <td>81988.0</td>\n",
       "      <td>219943.0</td>\n",
       "      <td>1106214.0</td>\n",
       "      <td>46.5</td>\n",
       "      <td>2016.0</td>\n",
       "      <td>7.0</td>\n",
       "      <td>29.0</td>\n",
       "      <td>25725.0</td>\n",
       "      <td>52625.0</td>\n",
       "      <td>3480.0</td>\n",
       "    </tr>\n",
       "    <tr>\n",
       "      <th>50032</th>\n",
       "      <td>116.340959</td>\n",
       "      <td>39.994651</td>\n",
       "      <td>404.00</td>\n",
       "      <td>4.0</td>\n",
       "      <td>2.0</td>\n",
       "      <td>2.0</td>\n",
       "      <td>4.0</td>\n",
       "      <td>20.0</td>\n",
       "      <td>58087.0</td>\n",
       "      <td>81641.0</td>\n",
       "      <td>...</td>\n",
       "      <td>81988.0</td>\n",
       "      <td>219943.0</td>\n",
       "      <td>3133469.0</td>\n",
       "      <td>426.0</td>\n",
       "      <td>2017.0</td>\n",
       "      <td>11.0</td>\n",
       "      <td>17.0</td>\n",
       "      <td>82499.0</td>\n",
       "      <td>52625.0</td>\n",
       "      <td>4475.0</td>\n",
       "    </tr>\n",
       "    <tr>\n",
       "      <th>52753</th>\n",
       "      <td>116.340959</td>\n",
       "      <td>39.994651</td>\n",
       "      <td>339.63</td>\n",
       "      <td>4.0</td>\n",
       "      <td>2.0</td>\n",
       "      <td>1.0</td>\n",
       "      <td>2.0</td>\n",
       "      <td>19.0</td>\n",
       "      <td>58087.0</td>\n",
       "      <td>81441.0</td>\n",
       "      <td>...</td>\n",
       "      <td>81988.0</td>\n",
       "      <td>219943.0</td>\n",
       "      <td>3133469.0</td>\n",
       "      <td>426.0</td>\n",
       "      <td>2015.0</td>\n",
       "      <td>6.0</td>\n",
       "      <td>30.0</td>\n",
       "      <td>48571.0</td>\n",
       "      <td>52625.0</td>\n",
       "      <td>3100.0</td>\n",
       "    </tr>\n",
       "    <tr>\n",
       "      <th>59302</th>\n",
       "      <td>116.420540</td>\n",
       "      <td>40.017217</td>\n",
       "      <td>298.70</td>\n",
       "      <td>4.0</td>\n",
       "      <td>4.0</td>\n",
       "      <td>1.0</td>\n",
       "      <td>4.0</td>\n",
       "      <td>3.0</td>\n",
       "      <td>1497.0</td>\n",
       "      <td>81641.0</td>\n",
       "      <td>...</td>\n",
       "      <td>81988.0</td>\n",
       "      <td>219943.0</td>\n",
       "      <td>3452460.0</td>\n",
       "      <td>470.8</td>\n",
       "      <td>2015.0</td>\n",
       "      <td>11.0</td>\n",
       "      <td>3.0</td>\n",
       "      <td>18058.0</td>\n",
       "      <td>13370.0</td>\n",
       "      <td>3220.0</td>\n",
       "    </tr>\n",
       "    <tr>\n",
       "      <th>67667</th>\n",
       "      <td>116.471888</td>\n",
       "      <td>39.872576</td>\n",
       "      <td>405.00</td>\n",
       "      <td>5.0</td>\n",
       "      <td>2.0</td>\n",
       "      <td>1.0</td>\n",
       "      <td>3.0</td>\n",
       "      <td>13.0</td>\n",
       "      <td>118742.0</td>\n",
       "      <td>81441.0</td>\n",
       "      <td>...</td>\n",
       "      <td>81988.0</td>\n",
       "      <td>219943.0</td>\n",
       "      <td>3452460.0</td>\n",
       "      <td>470.8</td>\n",
       "      <td>2017.0</td>\n",
       "      <td>3.0</td>\n",
       "      <td>23.0</td>\n",
       "      <td>48571.0</td>\n",
       "      <td>52625.0</td>\n",
       "      <td>3100.0</td>\n",
       "    </tr>\n",
       "    <tr>\n",
       "      <th>70230</th>\n",
       "      <td>116.448075</td>\n",
       "      <td>39.984467</td>\n",
       "      <td>294.97</td>\n",
       "      <td>4.0</td>\n",
       "      <td>2.0</td>\n",
       "      <td>1.0</td>\n",
       "      <td>3.0</td>\n",
       "      <td>24.0</td>\n",
       "      <td>118742.0</td>\n",
       "      <td>81441.0</td>\n",
       "      <td>...</td>\n",
       "      <td>133606.0</td>\n",
       "      <td>219943.0</td>\n",
       "      <td>3452460.0</td>\n",
       "      <td>470.8</td>\n",
       "      <td>2016.0</td>\n",
       "      <td>5.0</td>\n",
       "      <td>22.0</td>\n",
       "      <td>82499.0</td>\n",
       "      <td>52625.0</td>\n",
       "      <td>3200.0</td>\n",
       "    </tr>\n",
       "    <tr>\n",
       "      <th>77298</th>\n",
       "      <td>116.383881</td>\n",
       "      <td>39.909637</td>\n",
       "      <td>407.37</td>\n",
       "      <td>4.0</td>\n",
       "      <td>2.0</td>\n",
       "      <td>2.0</td>\n",
       "      <td>5.0</td>\n",
       "      <td>15.0</td>\n",
       "      <td>58087.0</td>\n",
       "      <td>81641.0</td>\n",
       "      <td>...</td>\n",
       "      <td>81988.0</td>\n",
       "      <td>219943.0</td>\n",
       "      <td>1106214.0</td>\n",
       "      <td>46.5</td>\n",
       "      <td>2017.0</td>\n",
       "      <td>3.0</td>\n",
       "      <td>14.0</td>\n",
       "      <td>82499.0</td>\n",
       "      <td>52625.0</td>\n",
       "      <td>4304.0</td>\n",
       "    </tr>\n",
       "  </tbody>\n",
       "</table>\n",
       "<p>14 rows × 27 columns</p>\n",
       "</div>"
      ],
      "text/plain": [
       "              Lng        Lat  square  livingRoom  drawingRoom  kitchen  \\\n",
       "18475  116.353679  39.908116  285.84         4.0          2.0      1.0   \n",
       "28715  116.466282  39.972255  586.00         4.0          2.0      1.0   \n",
       "30719  116.433036  40.021767  494.66         5.0          3.0      1.0   \n",
       "33194  116.437966  40.018379  574.24         5.0          3.0      2.0   \n",
       "44164  116.340959  39.994651  339.20         4.0          3.0      2.0   \n",
       "44357  116.461200  39.903663  474.97         4.0          3.0      1.0   \n",
       "44566  116.319894  39.918185  481.00         4.0          2.0      2.0   \n",
       "49541  116.330331  39.939379  398.65         5.0          2.0      1.0   \n",
       "50032  116.340959  39.994651  404.00         4.0          2.0      2.0   \n",
       "52753  116.340959  39.994651  339.63         4.0          2.0      1.0   \n",
       "59302  116.420540  40.017217  298.70         4.0          4.0      1.0   \n",
       "67667  116.471888  39.872576  405.00         5.0          2.0      1.0   \n",
       "70230  116.448075  39.984467  294.97         4.0          2.0      1.0   \n",
       "77298  116.383881  39.909637  407.37         4.0          2.0      2.0   \n",
       "\n",
       "       bathRoom  floor  buildingType  renovationCondition  ...  placeRank  \\\n",
       "18475       2.0   16.0       58087.0              81441.0  ...   133606.0   \n",
       "28715       4.0   23.0      118742.0              81441.0  ...   133606.0   \n",
       "30719       4.0    3.0        1497.0              81441.0  ...    81988.0   \n",
       "33194       7.0    3.0        1497.0              81441.0  ...    81988.0   \n",
       "44164       4.0   20.0       58087.0              81441.0  ...    81988.0   \n",
       "44357       5.0    3.0        1497.0              81441.0  ...   133606.0   \n",
       "44566       5.0   23.0       41617.0              81441.0  ...   133606.0   \n",
       "49541       3.0   17.0      118742.0              81641.0  ...    81988.0   \n",
       "50032       4.0   20.0       58087.0              81641.0  ...    81988.0   \n",
       "52753       2.0   19.0       58087.0              81441.0  ...    81988.0   \n",
       "59302       4.0    3.0        1497.0              81641.0  ...    81988.0   \n",
       "67667       3.0   13.0      118742.0              81441.0  ...    81988.0   \n",
       "70230       3.0   24.0      118742.0              81441.0  ...   133606.0   \n",
       "77298       5.0   15.0       58087.0              81641.0  ...    81988.0   \n",
       "\n",
       "           town  districtPopulation  districtArea  tradeYear  tradeMonth  \\\n",
       "18475  219943.0           1106214.0          46.5     2016.0         9.0   \n",
       "28715  219943.0           3452460.0         470.8     2016.0        10.0   \n",
       "30719  219943.0           3452460.0         470.8     2017.0         4.0   \n",
       "33194  219943.0           3452460.0         470.8     2016.0         3.0   \n",
       "44164  219943.0           3133469.0         426.0     2015.0         7.0   \n",
       "44357  219943.0           3452460.0         470.8     2015.0         6.0   \n",
       "44566  219943.0           3133469.0         426.0     2016.0         3.0   \n",
       "49541  219943.0           1106214.0          46.5     2016.0         7.0   \n",
       "50032  219943.0           3133469.0         426.0     2017.0        11.0   \n",
       "52753  219943.0           3133469.0         426.0     2015.0         6.0   \n",
       "59302  219943.0           3452460.0         470.8     2015.0        11.0   \n",
       "67667  219943.0           3452460.0         470.8     2017.0         3.0   \n",
       "70230  219943.0           3452460.0         470.8     2016.0         5.0   \n",
       "77298  219943.0           1106214.0          46.5     2017.0         3.0   \n",
       "\n",
       "       tradeDay  floorType  constructionTimePeriod  totalPrice  \n",
       "18475       2.0    44240.0                 52625.0      3300.0  \n",
       "28715      15.0    18058.0                 52625.0      3050.0  \n",
       "30719       6.0    18058.0                136686.0      3500.0  \n",
       "33194       8.0    18058.0                 52625.0      4350.0  \n",
       "44164      11.0    44240.0                 52625.0      3080.0  \n",
       "44357       5.0    18058.0                 52625.0      5700.0  \n",
       "44566      14.0    82499.0                 52625.0      3500.0  \n",
       "49541      29.0    25725.0                 52625.0      3480.0  \n",
       "50032      17.0    82499.0                 52625.0      4475.0  \n",
       "52753      30.0    48571.0                 52625.0      3100.0  \n",
       "59302       3.0    18058.0                 13370.0      3220.0  \n",
       "67667      23.0    48571.0                 52625.0      3100.0  \n",
       "70230      22.0    82499.0                 52625.0      3200.0  \n",
       "77298      14.0    82499.0                 52625.0      4304.0  \n",
       "\n",
       "[14 rows x 27 columns]"
      ]
     },
     "execution_count": 7,
     "metadata": {},
     "output_type": "execute_result"
    }
   ],
   "source": [
    "data_test.where(data_test[\"totalPrice\"]>3000).dropna()"
   ]
  },
  {
   "cell_type": "code",
   "execution_count": 8,
   "id": "76db631c",
   "metadata": {},
   "outputs": [
    {
     "data": {
      "text/plain": [
       "Lng                       14\n",
       "Lat                       14\n",
       "square                    14\n",
       "livingRoom                14\n",
       "drawingRoom               14\n",
       "kitchen                   14\n",
       "bathRoom                  14\n",
       "floor                     14\n",
       "buildingType              14\n",
       "renovationCondition       14\n",
       "buildingStructure         14\n",
       "ladderRatio               14\n",
       "elevator                  14\n",
       "fiveYearsProperty         14\n",
       "subway                    14\n",
       "district                  14\n",
       "communityAverage          14\n",
       "placeRank                 14\n",
       "town                      14\n",
       "districtPopulation        14\n",
       "districtArea              14\n",
       "tradeYear                 14\n",
       "tradeMonth                14\n",
       "tradeDay                  14\n",
       "floorType                 14\n",
       "constructionTimePeriod    14\n",
       "totalPrice                14\n",
       "dtype: int64"
      ]
     },
     "execution_count": 8,
     "metadata": {},
     "output_type": "execute_result"
    }
   ],
   "source": [
    "data_test.where(data_test[\"totalPrice\"]>3000).dropna().count()"
   ]
  },
  {
   "cell_type": "code",
   "execution_count": 9,
   "id": "f7aa934e",
   "metadata": {},
   "outputs": [
    {
     "data": {
      "text/plain": [
       "Lng                       1883\n",
       "Lat                       1883\n",
       "square                    1883\n",
       "livingRoom                1883\n",
       "drawingRoom               1883\n",
       "kitchen                   1883\n",
       "bathRoom                  1883\n",
       "floor                     1883\n",
       "buildingType              1883\n",
       "renovationCondition       1883\n",
       "buildingStructure         1883\n",
       "ladderRatio               1883\n",
       "elevator                  1883\n",
       "fiveYearsProperty         1883\n",
       "subway                    1883\n",
       "district                  1883\n",
       "communityAverage          1883\n",
       "placeRank                 1883\n",
       "town                      1883\n",
       "districtPopulation        1883\n",
       "districtArea              1883\n",
       "tradeYear                 1883\n",
       "tradeMonth                1883\n",
       "tradeDay                  1883\n",
       "floorType                 1883\n",
       "constructionTimePeriod    1883\n",
       "totalPrice                1883\n",
       "dtype: int64"
      ]
     },
     "execution_count": 9,
     "metadata": {},
     "output_type": "execute_result"
    }
   ],
   "source": [
    "data_test[(data_test[\"totalPrice\"]<100) & (data_test[\"totalPrice\"]>0)].count()"
   ]
  },
  {
   "cell_type": "code",
   "execution_count": 10,
   "id": "9c80be68",
   "metadata": {},
   "outputs": [],
   "source": [
    "data_test.loc[((data_test[\"totalPrice\"]<100) & (data_test[\"totalPrice\"]>=0)), [\"totalPrice\"]]=1\n",
    "data_test.loc[((data_test[\"totalPrice\"]<200) & (data_test[\"totalPrice\"]>=100)), [\"totalPrice\"]]=2\n",
    "data_test.loc[((data_test[\"totalPrice\"]<300) & (data_test[\"totalPrice\"]>=200)), [\"totalPrice\"]]=3\n",
    "data_test.loc[((data_test[\"totalPrice\"]<400) & (data_test[\"totalPrice\"]>=300)), [\"totalPrice\"]]=4\n",
    "data_test.loc[((data_test[\"totalPrice\"]<500) & (data_test[\"totalPrice\"]>=400)), [\"totalPrice\"]]=5\n",
    "data_test.loc[((data_test[\"totalPrice\"]<600) & (data_test[\"totalPrice\"]>=500)), [\"totalPrice\"]]=6\n",
    "data_test.loc[((data_test[\"totalPrice\"]<700) & (data_test[\"totalPrice\"]>=600)), [\"totalPrice\"]]=7\n",
    "data_test.loc[((data_test[\"totalPrice\"]<800) & (data_test[\"totalPrice\"]>=700)), [\"totalPrice\"]]=8\n",
    "data_test.loc[((data_test[\"totalPrice\"]<1000) & (data_test[\"totalPrice\"]>=800)), [\"totalPrice\"]]=9\n",
    "data_test.loc[((data_test[\"totalPrice\"]<1200) & (data_test[\"totalPrice\"]>=1000)), [\"totalPrice\"]]=10\n",
    "data_test.loc[((data_test[\"totalPrice\"]<1500) & (data_test[\"totalPrice\"]>=1200)), [\"totalPrice\"]]=11\n",
    "data_test.loc[((data_test[\"totalPrice\"]<2000) & (data_test[\"totalPrice\"]>=1500)), [\"totalPrice\"]]=12\n",
    "data_test.loc[((data_test[\"totalPrice\"]<3000) & (data_test[\"totalPrice\"]>=2000)), [\"totalPrice\"]]=13\n",
    "data_test.loc[data_test[\"totalPrice\"]>=3000, [\"totalPrice\"]]=14\n"
   ]
  },
  {
   "cell_type": "code",
   "execution_count": 11,
   "id": "c58b7d14",
   "metadata": {},
   "outputs": [
    {
     "data": {
      "text/plain": [
       "1883"
      ]
     },
     "metadata": {},
     "output_type": "display_data"
    },
    {
     "data": {
      "text/plain": [
       "20182"
      ]
     },
     "metadata": {},
     "output_type": "display_data"
    },
    {
     "data": {
      "text/plain": [
       "26302"
      ]
     },
     "metadata": {},
     "output_type": "display_data"
    },
    {
     "data": {
      "text/plain": [
       "18544"
      ]
     },
     "metadata": {},
     "output_type": "display_data"
    },
    {
     "data": {
      "text/plain": [
       "11007"
      ]
     },
     "metadata": {},
     "output_type": "display_data"
    },
    {
     "data": {
      "text/plain": [
       "6519"
      ]
     },
     "metadata": {},
     "output_type": "display_data"
    },
    {
     "data": {
      "text/plain": [
       "3660"
      ]
     },
     "metadata": {},
     "output_type": "display_data"
    },
    {
     "data": {
      "text/plain": [
       "2150"
      ]
     },
     "metadata": {},
     "output_type": "display_data"
    },
    {
     "data": {
      "text/plain": [
       "2153"
      ]
     },
     "metadata": {},
     "output_type": "display_data"
    },
    {
     "data": {
      "text/plain": [
       "834"
      ]
     },
     "metadata": {},
     "output_type": "display_data"
    },
    {
     "data": {
      "text/plain": [
       "636"
      ]
     },
     "metadata": {},
     "output_type": "display_data"
    },
    {
     "data": {
      "text/plain": [
       "289"
      ]
     },
     "metadata": {},
     "output_type": "display_data"
    },
    {
     "data": {
      "text/plain": [
       "88"
      ]
     },
     "metadata": {},
     "output_type": "display_data"
    },
    {
     "data": {
      "text/plain": [
       "15"
      ]
     },
     "metadata": {},
     "output_type": "display_data"
    }
   ],
   "source": [
    "display(data_test[data_test[\"totalPrice\"]==1][\"totalPrice\"].count())\n",
    "display(data_test[data_test[\"totalPrice\"]==2][\"totalPrice\"].count())\n",
    "display(data_test[data_test[\"totalPrice\"]==3][\"totalPrice\"].count())\n",
    "display(data_test[data_test[\"totalPrice\"]==4][\"totalPrice\"].count())\n",
    "display(data_test[data_test[\"totalPrice\"]==5][\"totalPrice\"].count())\n",
    "display(data_test[data_test[\"totalPrice\"]==6][\"totalPrice\"].count())\n",
    "display(data_test[data_test[\"totalPrice\"]==7][\"totalPrice\"].count())\n",
    "display(data_test[data_test[\"totalPrice\"]==8][\"totalPrice\"].count())\n",
    "display(data_test[data_test[\"totalPrice\"]==9][\"totalPrice\"].count())\n",
    "display(data_test[data_test[\"totalPrice\"]==10][\"totalPrice\"].count())\n",
    "display(data_test[data_test[\"totalPrice\"]==11][\"totalPrice\"].count())\n",
    "display(data_test[data_test[\"totalPrice\"]==12][\"totalPrice\"].count())\n",
    "display(data_test[data_test[\"totalPrice\"]==13][\"totalPrice\"].count())\n",
    "display(data_test[data_test[\"totalPrice\"]==14][\"totalPrice\"].count())"
   ]
  },
  {
   "cell_type": "code",
   "execution_count": 12,
   "id": "e54414f7",
   "metadata": {},
   "outputs": [
    {
     "data": {
      "text/plain": [
       "array([ 3.,  5.,  4.,  2.,  7.,  9.,  8.,  1.,  6., 11., 10., 12., 13.,\n",
       "       14.])"
      ]
     },
     "execution_count": 12,
     "metadata": {},
     "output_type": "execute_result"
    }
   ],
   "source": [
    "data_test[\"totalPrice\"].unique()"
   ]
  },
  {
   "cell_type": "code",
   "execution_count": 13,
   "id": "f63a1a01",
   "metadata": {},
   "outputs": [],
   "source": [
    "data_train.loc[((data_train[\"totalPrice\"]<100) & (data_train[\"totalPrice\"]>=0)), [\"totalPrice\"]]=1\n",
    "data_train.loc[((data_train[\"totalPrice\"]<200) & (data_train[\"totalPrice\"]>=100)), [\"totalPrice\"]]=2\n",
    "data_train.loc[((data_train[\"totalPrice\"]<300) & (data_train[\"totalPrice\"]>=200)), [\"totalPrice\"]]=3\n",
    "data_train.loc[((data_train[\"totalPrice\"]<400) & (data_train[\"totalPrice\"]>=300)), [\"totalPrice\"]]=4\n",
    "data_train.loc[((data_train[\"totalPrice\"]<500) & (data_train[\"totalPrice\"]>=400)), [\"totalPrice\"]]=5\n",
    "data_train.loc[((data_train[\"totalPrice\"]<600) & (data_train[\"totalPrice\"]>=500)), [\"totalPrice\"]]=6\n",
    "data_train.loc[((data_train[\"totalPrice\"]<700) & (data_train[\"totalPrice\"]>=600)), [\"totalPrice\"]]=7\n",
    "data_train.loc[((data_train[\"totalPrice\"]<800) & (data_train[\"totalPrice\"]>=700)), [\"totalPrice\"]]=8\n",
    "data_train.loc[((data_train[\"totalPrice\"]<1000) & (data_train[\"totalPrice\"]>=800)), [\"totalPrice\"]]=9\n",
    "data_train.loc[((data_train[\"totalPrice\"]<1200) & (data_train[\"totalPrice\"]>=1000)), [\"totalPrice\"]]=10\n",
    "data_train.loc[((data_train[\"totalPrice\"]<1500) & (data_train[\"totalPrice\"]>=1200)), [\"totalPrice\"]]=11\n",
    "data_train.loc[((data_train[\"totalPrice\"]<2000) & (data_train[\"totalPrice\"]>=1500)), [\"totalPrice\"]]=12\n",
    "data_train.loc[((data_train[\"totalPrice\"]<3000) & (data_train[\"totalPrice\"]>=2000)), [\"totalPrice\"]]=13\n",
    "data_train.loc[data_train[\"totalPrice\"]>=3000, [\"totalPrice\"]]=14\n"
   ]
  },
  {
   "cell_type": "code",
   "execution_count": 14,
   "id": "19ac4a06",
   "metadata": {},
   "outputs": [
    {
     "data": {
      "text/plain": [
       "4252"
      ]
     },
     "metadata": {},
     "output_type": "display_data"
    },
    {
     "data": {
      "text/plain": [
       "46812"
      ]
     },
     "metadata": {},
     "output_type": "display_data"
    },
    {
     "data": {
      "text/plain": [
       "61407"
      ]
     },
     "metadata": {},
     "output_type": "display_data"
    },
    {
     "data": {
      "text/plain": [
       "43339"
      ]
     },
     "metadata": {},
     "output_type": "display_data"
    },
    {
     "data": {
      "text/plain": [
       "25972"
      ]
     },
     "metadata": {},
     "output_type": "display_data"
    },
    {
     "data": {
      "text/plain": [
       "14974"
      ]
     },
     "metadata": {},
     "output_type": "display_data"
    },
    {
     "data": {
      "text/plain": [
       "8845"
      ]
     },
     "metadata": {},
     "output_type": "display_data"
    },
    {
     "data": {
      "text/plain": [
       "4945"
      ]
     },
     "metadata": {},
     "output_type": "display_data"
    },
    {
     "data": {
      "text/plain": [
       "5181"
      ]
     },
     "metadata": {},
     "output_type": "display_data"
    },
    {
     "data": {
      "text/plain": [
       "1935"
      ]
     },
     "metadata": {},
     "output_type": "display_data"
    },
    {
     "data": {
      "text/plain": [
       "1349"
      ]
     },
     "metadata": {},
     "output_type": "display_data"
    },
    {
     "data": {
      "text/plain": [
       "666"
      ]
     },
     "metadata": {},
     "output_type": "display_data"
    },
    {
     "data": {
      "text/plain": [
       "227"
      ]
     },
     "metadata": {},
     "output_type": "display_data"
    },
    {
     "data": {
      "text/plain": [
       "39"
      ]
     },
     "metadata": {},
     "output_type": "display_data"
    }
   ],
   "source": [
    "display(data_train[data_train[\"totalPrice\"]==1][\"totalPrice\"].count())\n",
    "display(data_train[data_train[\"totalPrice\"]==2][\"totalPrice\"].count())\n",
    "display(data_train[data_train[\"totalPrice\"]==3][\"totalPrice\"].count())\n",
    "display(data_train[data_train[\"totalPrice\"]==4][\"totalPrice\"].count())\n",
    "display(data_train[data_train[\"totalPrice\"]==5][\"totalPrice\"].count())\n",
    "display(data_train[data_train[\"totalPrice\"]==6][\"totalPrice\"].count())\n",
    "display(data_train[data_train[\"totalPrice\"]==7][\"totalPrice\"].count())\n",
    "display(data_train[data_train[\"totalPrice\"]==8][\"totalPrice\"].count())\n",
    "display(data_train[data_train[\"totalPrice\"]==9][\"totalPrice\"].count())\n",
    "display(data_train[data_train[\"totalPrice\"]==10][\"totalPrice\"].count())\n",
    "display(data_train[data_train[\"totalPrice\"]==11][\"totalPrice\"].count())\n",
    "display(data_train[data_train[\"totalPrice\"]==12][\"totalPrice\"].count())\n",
    "display(data_train[data_train[\"totalPrice\"]==13][\"totalPrice\"].count())\n",
    "display(data_train[data_train[\"totalPrice\"]==14][\"totalPrice\"].count())"
   ]
  },
  {
   "cell_type": "code",
   "execution_count": 15,
   "id": "3fd358fd",
   "metadata": {},
   "outputs": [
    {
     "name": "stdout",
     "output_type": "stream",
     "text": [
      "0.9161671108545415\n"
     ]
    }
   ],
   "source": [
    "clf = RandomForestClassifier(n_estimators=200, criterion=\"gini\", max_depth=30, random_state=0)\n",
    "clf.fit(data_train.drop(\"totalPrice\", axis=1), data_train[\"totalPrice\"])\n",
    "y_pred=clf.predict(data_test.drop(\"totalPrice\", axis=1))\n",
    "print(r2_score(data_test[\"totalPrice\"], y_pred))\n",
    "y_pred=clf.predict(data_test.drop(\"totalPrice\", axis=1))\n",
    "print(mean_squared_error(data_test[\"totalPrice\"], y_pred))\n",
    "y_pred=clf.predict(data_train.drop(\"totalPrice\", axis=1))\n",
    "print(mean_squared_error(data_train[\"totalPrice\"], y_pred))"
   ]
  },
  {
   "cell_type": "code",
   "execution_count": 16,
   "id": "f476a179",
   "metadata": {},
   "outputs": [],
   "source": [
    "#clf = GradientBoostingClassifier(learning_rate=0.1, n_estimators=100, max_depth=10, random_state=0)\n",
    "#clf.fit(data_train.drop(\"totalPrice\", axis=1), data_train[\"totalPrice\"])\n",
    "#y_pred=clf.predict(data_test.drop(\"totalPrice\", axis=1))\n",
    "#print(r2_score(data_test[\"totalPrice\"], y_pred))"
   ]
  },
  {
   "cell_type": "code",
   "execution_count": 17,
   "id": "3565a535",
   "metadata": {},
   "outputs": [
    {
     "data": {
      "text/plain": [
       "<sklearn.metrics._plot.confusion_matrix.ConfusionMatrixDisplay at 0x20fe176ea70>"
      ]
     },
     "execution_count": 17,
     "metadata": {},
     "output_type": "execute_result"
    },
    {
     "data": {
      "image/png": "[encoded data removed]",
      "text/plain": [
       "<Figure size 432x288 with 2 Axes>"
      ]
     },
     "metadata": {
      "needs_background": "light"
     },
     "output_type": "display_data"
    }
   ],
   "source": [
    "cm=confusion_matrix(data_test[\"totalPrice\"], y_pred)\n",
    "disp = ConfusionMatrixDisplay(confusion_matrix=cm, display_labels=clf.classes_)\n",
    "disp.plot()"
   ]
  },
  {
   "cell_type": "code",
   "execution_count": 38,
   "id": "6b40b161",
   "metadata": {},
   "outputs": [
    {
     "name": "stdout",
     "output_type": "stream",
     "text": [
      "0.9066302723103675\n",
      "0.36674375676306464\n",
      "0.15007979340101754\n"
     ]
    },
    {
     "data": {
      "text/plain": [
       "<sklearn.metrics._plot.confusion_matrix.ConfusionMatrixDisplay at 0x20f803d2b90>"
      ]
     },
     "execution_count": 38,
     "metadata": {},
     "output_type": "execute_result"
    },
    {
     "data": {
      "image/png": "[encoded data removed]",
      "text/plain": [
       "<Figure size 432x288 with 2 Axes>"
      ]
     },
     "metadata": {
      "needs_background": "light"
     },
     "output_type": "display_data"
    },
    {
     "data": {
      "image/png": "[encoded data removed]",
      "text/plain": [
       "<Figure size 432x288 with 2 Axes>"
      ]
     },
     "metadata": {
      "needs_background": "light"
     },
     "output_type": "display_data"
    }
   ],
   "source": [
    "clf = RandomForestClassifier(n_estimators=70, criterion=\"gini\", max_depth=16, random_state=0)\n",
    "clf.fit(data_train.drop(\"totalPrice\", axis=1), data_train[\"totalPrice\"])\n",
    "y_pred=clf.predict(data_test.drop(\"totalPrice\", axis=1))\n",
    "print(r2_score(data_test[\"totalPrice\"], y_pred))\n",
    "y_pred=clf.predict(data_test.drop(\"totalPrice\", axis=1))\n",
    "cm=confusion_matrix(data_test[\"totalPrice\"], y_pred)\n",
    "disp = ConfusionMatrixDisplay(confusion_matrix=cm, display_labels=clf.classes_)\n",
    "disp.plot()\n",
    "print(mean_squared_error(data_test[\"totalPrice\"], y_pred))\n",
    "y_pred=clf.predict(data_train.drop(\"totalPrice\", axis=1))\n",
    "print(mean_squared_error(data_train[\"totalPrice\"], y_pred))\n",
    "cm=confusion_matrix(data_train[\"totalPrice\"], y_pred)\n",
    "disp = ConfusionMatrixDisplay(confusion_matrix=cm, display_labels=clf.classes_)\n",
    "disp.plot()"
   ]
  }
 ],
 "metadata": {
  "kernelspec": {
   "display_name": "cds106",
   "language": "python",
   "name": "python3"
  },
  "language_info": {
   "codemirror_mode": {
    "name": "ipython",
    "version": 3
   },
   "file_extension": ".py",
   "mimetype": "text/x-python",
   "name": "python",
   "nbconvert_exporter": "python",
   "pygments_lexer": "ipython3",
   "version": "3.10.4"
  },
  "vscode": {
   "interpreter": {
    "hash": "42a380ee186ea6a6ec01ee159015ab7278bf763c5d188b55a3f1cc889c8de4b9"
   }
  }
 },
 "nbformat": 4,
 "nbformat_minor": 5
}
