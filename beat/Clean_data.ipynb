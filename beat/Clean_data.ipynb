{
 "cells": [
  {
   "cell_type": "code",
   "execution_count": 167,
   "id": "f00b0e1a",
   "metadata": {},
   "outputs": [],
   "source": [
    "import pandas as pd\n",
    "from sklearn.preprocessing import MinMaxScaler, StandardScaler, Normalizer, RobustScaler\n",
    "import matplotlib.pyplot as plt\n",
    "import scipy.stats as stats\n",
    "from pandas_profiling import ProfileReport\n",
    "from datetime import datetime\n",
    "from sklearn.model_selection import train_test_split\n",
    "from sklearn import linear_model\n",
    "from sklearn.metrics import mean_squared_error, r2_score"
   ]
  },
  {
   "cell_type": "code",
   "execution_count": 168,
   "id": "5bb32346",
   "metadata": {},
   "outputs": [],
   "source": [
    "def diagnostic_plots(df, variable):\n",
    "\n",
    "    # function to plot a histogram and a Q-Q plot\n",
    "    # side by side, for a certain variable\n",
    "\n",
    "    plt.figure(figsize=(15,6))\n",
    "    plt.subplot(1, 2, 1)\n",
    "    df[variable].hist()\n",
    "    plt.title(variable)\n",
    "    plt.subplot(1, 2, 2)\n",
    "    stats.probplot(df[variable], dist=\"norm\", plot=plt)\n",
    "\n",
    "    plt.show()"
   ]
  },
  {
   "cell_type": "code",
   "execution_count": 169,
   "id": "43a8aabb",
   "metadata": {},
   "outputs": [],
   "source": [
    "# create ProfileReport\n",
    "def createProfileReport(df):\n",
    "    dt = datetime.now().strftime(\"%H%M%d%m%Y\")  # current dateTime for fileName\n",
    "    profile = ProfileReport(df, minimal=True)\n",
    "    fileName = f\"DataAnalysis{dt}\"\n",
    "    profile.to_file(output_file=fileName+'.html')\n",
    "    return f\"{fileName}.html\""
   ]
  },
  {
   "cell_type": "code",
   "execution_count": 170,
   "id": "96fbcab9",
   "metadata": {},
   "outputs": [],
   "source": [
    "data=pd.read_csv(\"C:\\\\Users\\\\beatb\\\\OneDrive\\\\Documents\\\\5. Semester\\\\Maschine_Learning\\\\Projekt\\\\fhgr-3-s-ml-project-group-2\\\\beat\\\\beijing_original.csv\",encoding=\"iso-8859-1\", low_memory=False)\n",
    "df = data.drop(['url', 'id', 'Cid', 'tradeTime', 'DOM'], axis=1)"
   ]
  },
  {
   "cell_type": "code",
   "execution_count": 171,
   "id": "8d3bf634",
   "metadata": {},
   "outputs": [
    {
     "data": {
      "text/plain": [
       "Index(['Lng', 'Lat', 'followers', 'totalPrice', 'price', 'square',\n",
       "       'livingRoom', 'drawingRoom', 'kitchen', 'bathRoom', 'floor',\n",
       "       'buildingType', 'constructionTime', 'renovationCondition',\n",
       "       'buildingStructure', 'ladderRatio', 'elevator', 'fiveYearsProperty',\n",
       "       'subway', 'district', 'communityAverage'],\n",
       "      dtype='object')"
      ]
     },
     "metadata": {},
     "output_type": "display_data"
    }
   ],
   "source": [
    "display(df.columns)"
   ]
  },
  {
   "cell_type": "code",
   "execution_count": 172,
   "id": "6f818dea",
   "metadata": {},
   "outputs": [
    {
     "data": {
      "text/html": [
       "<div>\n",
       "<style scoped>\n",
       "    .dataframe tbody tr th:only-of-type {\n",
       "        vertical-align: middle;\n",
       "    }\n",
       "\n",
       "    .dataframe tbody tr th {\n",
       "        vertical-align: top;\n",
       "    }\n",
       "\n",
       "    .dataframe thead th {\n",
       "        text-align: right;\n",
       "    }\n",
       "</style>\n",
       "<table border=\"1\" class=\"dataframe\">\n",
       "  <thead>\n",
       "    <tr style=\"text-align: right;\">\n",
       "      <th></th>\n",
       "      <th>Lng</th>\n",
       "      <th>Lat</th>\n",
       "      <th>followers</th>\n",
       "      <th>totalPrice</th>\n",
       "      <th>price</th>\n",
       "      <th>square</th>\n",
       "      <th>livingRoom</th>\n",
       "      <th>drawingRoom</th>\n",
       "      <th>kitchen</th>\n",
       "      <th>bathRoom</th>\n",
       "      <th>...</th>\n",
       "      <th>buildingType</th>\n",
       "      <th>constructionTime</th>\n",
       "      <th>renovationCondition</th>\n",
       "      <th>buildingStructure</th>\n",
       "      <th>ladderRatio</th>\n",
       "      <th>elevator</th>\n",
       "      <th>fiveYearsProperty</th>\n",
       "      <th>subway</th>\n",
       "      <th>district</th>\n",
       "      <th>communityAverage</th>\n",
       "    </tr>\n",
       "  </thead>\n",
       "  <tbody>\n",
       "    <tr>\n",
       "      <th>0</th>\n",
       "      <td>116.475489</td>\n",
       "      <td>40.019520</td>\n",
       "      <td>106</td>\n",
       "      <td>415.0</td>\n",
       "      <td>31680</td>\n",
       "      <td>131.00</td>\n",
       "      <td>2</td>\n",
       "      <td>1</td>\n",
       "      <td>1</td>\n",
       "      <td>1</td>\n",
       "      <td>...</td>\n",
       "      <td>1.0</td>\n",
       "      <td>2005</td>\n",
       "      <td>3</td>\n",
       "      <td>6</td>\n",
       "      <td>0.217</td>\n",
       "      <td>1.0</td>\n",
       "      <td>0.0</td>\n",
       "      <td>1.0</td>\n",
       "      <td>7</td>\n",
       "      <td>56021.0</td>\n",
       "    </tr>\n",
       "    <tr>\n",
       "      <th>1</th>\n",
       "      <td>116.453917</td>\n",
       "      <td>39.881534</td>\n",
       "      <td>126</td>\n",
       "      <td>575.0</td>\n",
       "      <td>43436</td>\n",
       "      <td>132.38</td>\n",
       "      <td>2</td>\n",
       "      <td>2</td>\n",
       "      <td>1</td>\n",
       "      <td>2</td>\n",
       "      <td>...</td>\n",
       "      <td>1.0</td>\n",
       "      <td>2004</td>\n",
       "      <td>4</td>\n",
       "      <td>6</td>\n",
       "      <td>0.667</td>\n",
       "      <td>1.0</td>\n",
       "      <td>1.0</td>\n",
       "      <td>0.0</td>\n",
       "      <td>7</td>\n",
       "      <td>71539.0</td>\n",
       "    </tr>\n",
       "    <tr>\n",
       "      <th>2</th>\n",
       "      <td>116.561978</td>\n",
       "      <td>39.877145</td>\n",
       "      <td>48</td>\n",
       "      <td>1030.0</td>\n",
       "      <td>52021</td>\n",
       "      <td>198.00</td>\n",
       "      <td>3</td>\n",
       "      <td>2</td>\n",
       "      <td>1</td>\n",
       "      <td>3</td>\n",
       "      <td>...</td>\n",
       "      <td>4.0</td>\n",
       "      <td>2005</td>\n",
       "      <td>3</td>\n",
       "      <td>6</td>\n",
       "      <td>0.500</td>\n",
       "      <td>1.0</td>\n",
       "      <td>0.0</td>\n",
       "      <td>0.0</td>\n",
       "      <td>7</td>\n",
       "      <td>48160.0</td>\n",
       "    </tr>\n",
       "    <tr>\n",
       "      <th>3</th>\n",
       "      <td>116.438010</td>\n",
       "      <td>40.076114</td>\n",
       "      <td>138</td>\n",
       "      <td>297.5</td>\n",
       "      <td>22202</td>\n",
       "      <td>134.00</td>\n",
       "      <td>3</td>\n",
       "      <td>1</td>\n",
       "      <td>1</td>\n",
       "      <td>1</td>\n",
       "      <td>...</td>\n",
       "      <td>1.0</td>\n",
       "      <td>2008</td>\n",
       "      <td>1</td>\n",
       "      <td>6</td>\n",
       "      <td>0.273</td>\n",
       "      <td>1.0</td>\n",
       "      <td>0.0</td>\n",
       "      <td>0.0</td>\n",
       "      <td>6</td>\n",
       "      <td>51238.0</td>\n",
       "    </tr>\n",
       "    <tr>\n",
       "      <th>4</th>\n",
       "      <td>116.428392</td>\n",
       "      <td>39.886229</td>\n",
       "      <td>286</td>\n",
       "      <td>392.0</td>\n",
       "      <td>48396</td>\n",
       "      <td>81.00</td>\n",
       "      <td>2</td>\n",
       "      <td>1</td>\n",
       "      <td>1</td>\n",
       "      <td>1</td>\n",
       "      <td>...</td>\n",
       "      <td>4.0</td>\n",
       "      <td>1960</td>\n",
       "      <td>2</td>\n",
       "      <td>2</td>\n",
       "      <td>0.333</td>\n",
       "      <td>0.0</td>\n",
       "      <td>1.0</td>\n",
       "      <td>1.0</td>\n",
       "      <td>1</td>\n",
       "      <td>62588.0</td>\n",
       "    </tr>\n",
       "    <tr>\n",
       "      <th>...</th>\n",
       "      <td>...</td>\n",
       "      <td>...</td>\n",
       "      <td>...</td>\n",
       "      <td>...</td>\n",
       "      <td>...</td>\n",
       "      <td>...</td>\n",
       "      <td>...</td>\n",
       "      <td>...</td>\n",
       "      <td>...</td>\n",
       "      <td>...</td>\n",
       "      <td>...</td>\n",
       "      <td>...</td>\n",
       "      <td>...</td>\n",
       "      <td>...</td>\n",
       "      <td>...</td>\n",
       "      <td>...</td>\n",
       "      <td>...</td>\n",
       "      <td>...</td>\n",
       "      <td>...</td>\n",
       "      <td>...</td>\n",
       "      <td>...</td>\n",
       "    </tr>\n",
       "    <tr>\n",
       "      <th>318846</th>\n",
       "      <td>116.546899</td>\n",
       "      <td>39.755236</td>\n",
       "      <td>8</td>\n",
       "      <td>350.0</td>\n",
       "      <td>20580</td>\n",
       "      <td>170.07</td>\n",
       "      <td>3</td>\n",
       "      <td>2</td>\n",
       "      <td>1</td>\n",
       "      <td>2</td>\n",
       "      <td>...</td>\n",
       "      <td>4.0</td>\n",
       "      <td>2003</td>\n",
       "      <td>1</td>\n",
       "      <td>6</td>\n",
       "      <td>0.333</td>\n",
       "      <td>0.0</td>\n",
       "      <td>1.0</td>\n",
       "      <td>0.0</td>\n",
       "      <td>3</td>\n",
       "      <td>36545.0</td>\n",
       "    </tr>\n",
       "    <tr>\n",
       "      <th>318847</th>\n",
       "      <td>116.497474</td>\n",
       "      <td>39.810115</td>\n",
       "      <td>1</td>\n",
       "      <td>108.8</td>\n",
       "      <td>31006</td>\n",
       "      <td>35.09</td>\n",
       "      <td>1</td>\n",
       "      <td>0</td>\n",
       "      <td>1</td>\n",
       "      <td>1</td>\n",
       "      <td>...</td>\n",
       "      <td>1.0</td>\n",
       "      <td>2009</td>\n",
       "      <td>1</td>\n",
       "      <td>6</td>\n",
       "      <td>0.222</td>\n",
       "      <td>1.0</td>\n",
       "      <td>0.0</td>\n",
       "      <td>1.0</td>\n",
       "      <td>3</td>\n",
       "      <td>54282.0</td>\n",
       "    </tr>\n",
       "    <tr>\n",
       "      <th>318848</th>\n",
       "      <td>116.497256</td>\n",
       "      <td>39.804081</td>\n",
       "      <td>2</td>\n",
       "      <td>359.0</td>\n",
       "      <td>35138</td>\n",
       "      <td>102.17</td>\n",
       "      <td>2</td>\n",
       "      <td>2</td>\n",
       "      <td>1</td>\n",
       "      <td>2</td>\n",
       "      <td>...</td>\n",
       "      <td>4.0</td>\n",
       "      <td>2000</td>\n",
       "      <td>3</td>\n",
       "      <td>6</td>\n",
       "      <td>0.500</td>\n",
       "      <td>1.0</td>\n",
       "      <td>1.0</td>\n",
       "      <td>0.0</td>\n",
       "      <td>3</td>\n",
       "      <td>46927.0</td>\n",
       "    </tr>\n",
       "    <tr>\n",
       "      <th>318849</th>\n",
       "      <td>116.501794</td>\n",
       "      <td>39.799347</td>\n",
       "      <td>4</td>\n",
       "      <td>720.0</td>\n",
       "      <td>40373</td>\n",
       "      <td>178.34</td>\n",
       "      <td>4</td>\n",
       "      <td>2</td>\n",
       "      <td>1</td>\n",
       "      <td>2</td>\n",
       "      <td>...</td>\n",
       "      <td>4.0</td>\n",
       "      <td>2003</td>\n",
       "      <td>4</td>\n",
       "      <td>2</td>\n",
       "      <td>0.500</td>\n",
       "      <td>0.0</td>\n",
       "      <td>1.0</td>\n",
       "      <td>0.0</td>\n",
       "      <td>3</td>\n",
       "      <td>54842.0</td>\n",
       "    </tr>\n",
       "    <tr>\n",
       "      <th>318850</th>\n",
       "      <td>116.497474</td>\n",
       "      <td>39.810115</td>\n",
       "      <td>0</td>\n",
       "      <td>450.0</td>\n",
       "      <td>48675</td>\n",
       "      <td>92.45</td>\n",
       "      <td>2</td>\n",
       "      <td>1</td>\n",
       "      <td>1</td>\n",
       "      <td>1</td>\n",
       "      <td>...</td>\n",
       "      <td>4.0</td>\n",
       "      <td>Î´Öª</td>\n",
       "      <td>4</td>\n",
       "      <td>6</td>\n",
       "      <td>1.000</td>\n",
       "      <td>1.0</td>\n",
       "      <td>0.0</td>\n",
       "      <td>1.0</td>\n",
       "      <td>3</td>\n",
       "      <td>54282.0</td>\n",
       "    </tr>\n",
       "  </tbody>\n",
       "</table>\n",
       "<p>318851 rows × 21 columns</p>\n",
       "</div>"
      ],
      "text/plain": [
       "               Lng        Lat  followers  totalPrice  price  square  \\\n",
       "0       116.475489  40.019520        106       415.0  31680  131.00   \n",
       "1       116.453917  39.881534        126       575.0  43436  132.38   \n",
       "2       116.561978  39.877145         48      1030.0  52021  198.00   \n",
       "3       116.438010  40.076114        138       297.5  22202  134.00   \n",
       "4       116.428392  39.886229        286       392.0  48396   81.00   \n",
       "...            ...        ...        ...         ...    ...     ...   \n",
       "318846  116.546899  39.755236          8       350.0  20580  170.07   \n",
       "318847  116.497474  39.810115          1       108.8  31006   35.09   \n",
       "318848  116.497256  39.804081          2       359.0  35138  102.17   \n",
       "318849  116.501794  39.799347          4       720.0  40373  178.34   \n",
       "318850  116.497474  39.810115          0       450.0  48675   92.45   \n",
       "\n",
       "       livingRoom drawingRoom  kitchen bathRoom  ... buildingType  \\\n",
       "0               2           1        1        1  ...          1.0   \n",
       "1               2           2        1        2  ...          1.0   \n",
       "2               3           2        1        3  ...          4.0   \n",
       "3               3           1        1        1  ...          1.0   \n",
       "4               2           1        1        1  ...          4.0   \n",
       "...           ...         ...      ...      ...  ...          ...   \n",
       "318846          3           2        1        2  ...          4.0   \n",
       "318847          1           0        1        1  ...          1.0   \n",
       "318848          2           2        1        2  ...          4.0   \n",
       "318849          4           2        1        2  ...          4.0   \n",
       "318850          2           1        1        1  ...          4.0   \n",
       "\n",
       "        constructionTime renovationCondition  buildingStructure  ladderRatio  \\\n",
       "0                   2005                   3                  6        0.217   \n",
       "1                   2004                   4                  6        0.667   \n",
       "2                   2005                   3                  6        0.500   \n",
       "3                   2008                   1                  6        0.273   \n",
       "4                   1960                   2                  2        0.333   \n",
       "...                  ...                 ...                ...          ...   \n",
       "318846              2003                   1                  6        0.333   \n",
       "318847              2009                   1                  6        0.222   \n",
       "318848              2000                   3                  6        0.500   \n",
       "318849              2003                   4                  2        0.500   \n",
       "318850              Î´Öª                   4                  6        1.000   \n",
       "\n",
       "        elevator  fiveYearsProperty  subway  district  communityAverage  \n",
       "0            1.0                0.0     1.0         7           56021.0  \n",
       "1            1.0                1.0     0.0         7           71539.0  \n",
       "2            1.0                0.0     0.0         7           48160.0  \n",
       "3            1.0                0.0     0.0         6           51238.0  \n",
       "4            0.0                1.0     1.0         1           62588.0  \n",
       "...          ...                ...     ...       ...               ...  \n",
       "318846       0.0                1.0     0.0         3           36545.0  \n",
       "318847       1.0                0.0     1.0         3           54282.0  \n",
       "318848       1.0                1.0     0.0         3           46927.0  \n",
       "318849       0.0                1.0     0.0         3           54842.0  \n",
       "318850       1.0                0.0     1.0         3           54282.0  \n",
       "\n",
       "[318851 rows x 21 columns]"
      ]
     },
     "execution_count": 172,
     "metadata": {},
     "output_type": "execute_result"
    }
   ],
   "source": [
    "df"
   ]
  },
  {
   "cell_type": "code",
   "execution_count": 173,
   "id": "24bd27a5",
   "metadata": {},
   "outputs": [
    {
     "data": {
      "text/plain": [
       "Lng                       0\n",
       "Lat                       0\n",
       "followers                 0\n",
       "totalPrice                0\n",
       "price                     0\n",
       "square                    0\n",
       "livingRoom                0\n",
       "drawingRoom               0\n",
       "kitchen                   0\n",
       "bathRoom                  0\n",
       "floor                     0\n",
       "buildingType           2021\n",
       "constructionTime          0\n",
       "renovationCondition       0\n",
       "buildingStructure         0\n",
       "ladderRatio               0\n",
       "elevator                 32\n",
       "fiveYearsProperty        32\n",
       "subway                   32\n",
       "district                  0\n",
       "communityAverage        463\n",
       "dtype: int64"
      ]
     },
     "execution_count": 173,
     "metadata": {},
     "output_type": "execute_result"
    }
   ],
   "source": [
    "df.isnull().sum()"
   ]
  },
  {
   "cell_type": "code",
   "execution_count": null,
   "id": "61a2715f",
   "metadata": {},
   "outputs": [],
   "source": []
  },
  {
   "cell_type": "code",
   "execution_count": 174,
   "id": "b2429079",
   "metadata": {},
   "outputs": [],
   "source": [
    "df=df.drop(df[df.drop(['buildingType', 'communityAverage'], axis=1).isnull().any(axis=1)].index, axis=0)"
   ]
  },
  {
   "cell_type": "code",
   "execution_count": 175,
   "id": "2e395aec",
   "metadata": {},
   "outputs": [
    {
     "data": {
      "text/plain": [
       "communityAverage    463\n",
       "dtype: int64"
      ]
     },
     "execution_count": 175,
     "metadata": {},
     "output_type": "execute_result"
    }
   ],
   "source": [
    "df.loc[df[\"communityAverage\"].isnull()==True, [\"communityAverage\"]].isna().sum()\n",
    "#Was machen wir damit?\n"
   ]
  },
  {
   "cell_type": "code",
   "execution_count": 176,
   "id": "f3a91525",
   "metadata": {},
   "outputs": [
    {
     "data": {
      "text/plain": [
       "Lng                       0\n",
       "Lat                       0\n",
       "followers                 0\n",
       "totalPrice                0\n",
       "price                     0\n",
       "square                    0\n",
       "livingRoom                0\n",
       "drawingRoom               0\n",
       "kitchen                   0\n",
       "bathRoom                  0\n",
       "floor                     0\n",
       "buildingType           2021\n",
       "constructionTime          0\n",
       "renovationCondition       0\n",
       "buildingStructure         0\n",
       "ladderRatio               0\n",
       "elevator                  0\n",
       "fiveYearsProperty         0\n",
       "subway                    0\n",
       "district                  0\n",
       "communityAverage        463\n",
       "dtype: int64"
      ]
     },
     "execution_count": 176,
     "metadata": {},
     "output_type": "execute_result"
    }
   ],
   "source": [
    "df.isnull().sum()"
   ]
  },
  {
   "cell_type": "code",
   "execution_count": null,
   "id": "631fe506",
   "metadata": {},
   "outputs": [],
   "source": []
  },
  {
   "cell_type": "code",
   "execution_count": 177,
   "id": "4286c5ad",
   "metadata": {},
   "outputs": [
    {
     "data": {
      "text/html": [
       "<div>\n",
       "<style scoped>\n",
       "    .dataframe tbody tr th:only-of-type {\n",
       "        vertical-align: middle;\n",
       "    }\n",
       "\n",
       "    .dataframe tbody tr th {\n",
       "        vertical-align: top;\n",
       "    }\n",
       "\n",
       "    .dataframe thead th {\n",
       "        text-align: right;\n",
       "    }\n",
       "</style>\n",
       "<table border=\"1\" class=\"dataframe\">\n",
       "  <thead>\n",
       "    <tr style=\"text-align: right;\">\n",
       "      <th></th>\n",
       "      <th>Lng</th>\n",
       "      <th>Lat</th>\n",
       "      <th>followers</th>\n",
       "      <th>totalPrice</th>\n",
       "      <th>price</th>\n",
       "      <th>square</th>\n",
       "      <th>livingRoom</th>\n",
       "      <th>drawingRoom</th>\n",
       "      <th>kitchen</th>\n",
       "      <th>bathRoom</th>\n",
       "      <th>...</th>\n",
       "      <th>buildingType</th>\n",
       "      <th>constructionTime</th>\n",
       "      <th>renovationCondition</th>\n",
       "      <th>buildingStructure</th>\n",
       "      <th>ladderRatio</th>\n",
       "      <th>elevator</th>\n",
       "      <th>fiveYearsProperty</th>\n",
       "      <th>subway</th>\n",
       "      <th>district</th>\n",
       "      <th>communityAverage</th>\n",
       "    </tr>\n",
       "  </thead>\n",
       "  <tbody>\n",
       "    <tr>\n",
       "      <th>0</th>\n",
       "      <td>116.475489</td>\n",
       "      <td>40.019520</td>\n",
       "      <td>106</td>\n",
       "      <td>415.0</td>\n",
       "      <td>31680</td>\n",
       "      <td>131.00</td>\n",
       "      <td>2</td>\n",
       "      <td>1</td>\n",
       "      <td>1</td>\n",
       "      <td>1</td>\n",
       "      <td>...</td>\n",
       "      <td>1.0</td>\n",
       "      <td>2005</td>\n",
       "      <td>3</td>\n",
       "      <td>6</td>\n",
       "      <td>0.217</td>\n",
       "      <td>1.0</td>\n",
       "      <td>0.0</td>\n",
       "      <td>1.0</td>\n",
       "      <td>7</td>\n",
       "      <td>56021.0</td>\n",
       "    </tr>\n",
       "    <tr>\n",
       "      <th>1</th>\n",
       "      <td>116.453917</td>\n",
       "      <td>39.881534</td>\n",
       "      <td>126</td>\n",
       "      <td>575.0</td>\n",
       "      <td>43436</td>\n",
       "      <td>132.38</td>\n",
       "      <td>2</td>\n",
       "      <td>2</td>\n",
       "      <td>1</td>\n",
       "      <td>2</td>\n",
       "      <td>...</td>\n",
       "      <td>1.0</td>\n",
       "      <td>2004</td>\n",
       "      <td>4</td>\n",
       "      <td>6</td>\n",
       "      <td>0.667</td>\n",
       "      <td>1.0</td>\n",
       "      <td>1.0</td>\n",
       "      <td>0.0</td>\n",
       "      <td>7</td>\n",
       "      <td>71539.0</td>\n",
       "    </tr>\n",
       "    <tr>\n",
       "      <th>2</th>\n",
       "      <td>116.561978</td>\n",
       "      <td>39.877145</td>\n",
       "      <td>48</td>\n",
       "      <td>1030.0</td>\n",
       "      <td>52021</td>\n",
       "      <td>198.00</td>\n",
       "      <td>3</td>\n",
       "      <td>2</td>\n",
       "      <td>1</td>\n",
       "      <td>3</td>\n",
       "      <td>...</td>\n",
       "      <td>4.0</td>\n",
       "      <td>2005</td>\n",
       "      <td>3</td>\n",
       "      <td>6</td>\n",
       "      <td>0.500</td>\n",
       "      <td>1.0</td>\n",
       "      <td>0.0</td>\n",
       "      <td>0.0</td>\n",
       "      <td>7</td>\n",
       "      <td>48160.0</td>\n",
       "    </tr>\n",
       "    <tr>\n",
       "      <th>3</th>\n",
       "      <td>116.438010</td>\n",
       "      <td>40.076114</td>\n",
       "      <td>138</td>\n",
       "      <td>297.5</td>\n",
       "      <td>22202</td>\n",
       "      <td>134.00</td>\n",
       "      <td>3</td>\n",
       "      <td>1</td>\n",
       "      <td>1</td>\n",
       "      <td>1</td>\n",
       "      <td>...</td>\n",
       "      <td>1.0</td>\n",
       "      <td>2008</td>\n",
       "      <td>1</td>\n",
       "      <td>6</td>\n",
       "      <td>0.273</td>\n",
       "      <td>1.0</td>\n",
       "      <td>0.0</td>\n",
       "      <td>0.0</td>\n",
       "      <td>6</td>\n",
       "      <td>51238.0</td>\n",
       "    </tr>\n",
       "    <tr>\n",
       "      <th>4</th>\n",
       "      <td>116.428392</td>\n",
       "      <td>39.886229</td>\n",
       "      <td>286</td>\n",
       "      <td>392.0</td>\n",
       "      <td>48396</td>\n",
       "      <td>81.00</td>\n",
       "      <td>2</td>\n",
       "      <td>1</td>\n",
       "      <td>1</td>\n",
       "      <td>1</td>\n",
       "      <td>...</td>\n",
       "      <td>4.0</td>\n",
       "      <td>1960</td>\n",
       "      <td>2</td>\n",
       "      <td>2</td>\n",
       "      <td>0.333</td>\n",
       "      <td>0.0</td>\n",
       "      <td>1.0</td>\n",
       "      <td>1.0</td>\n",
       "      <td>1</td>\n",
       "      <td>62588.0</td>\n",
       "    </tr>\n",
       "    <tr>\n",
       "      <th>...</th>\n",
       "      <td>...</td>\n",
       "      <td>...</td>\n",
       "      <td>...</td>\n",
       "      <td>...</td>\n",
       "      <td>...</td>\n",
       "      <td>...</td>\n",
       "      <td>...</td>\n",
       "      <td>...</td>\n",
       "      <td>...</td>\n",
       "      <td>...</td>\n",
       "      <td>...</td>\n",
       "      <td>...</td>\n",
       "      <td>...</td>\n",
       "      <td>...</td>\n",
       "      <td>...</td>\n",
       "      <td>...</td>\n",
       "      <td>...</td>\n",
       "      <td>...</td>\n",
       "      <td>...</td>\n",
       "      <td>...</td>\n",
       "      <td>...</td>\n",
       "    </tr>\n",
       "    <tr>\n",
       "      <th>318846</th>\n",
       "      <td>116.546899</td>\n",
       "      <td>39.755236</td>\n",
       "      <td>8</td>\n",
       "      <td>350.0</td>\n",
       "      <td>20580</td>\n",
       "      <td>170.07</td>\n",
       "      <td>3</td>\n",
       "      <td>2</td>\n",
       "      <td>1</td>\n",
       "      <td>2</td>\n",
       "      <td>...</td>\n",
       "      <td>4.0</td>\n",
       "      <td>2003</td>\n",
       "      <td>1</td>\n",
       "      <td>6</td>\n",
       "      <td>0.333</td>\n",
       "      <td>0.0</td>\n",
       "      <td>1.0</td>\n",
       "      <td>0.0</td>\n",
       "      <td>3</td>\n",
       "      <td>36545.0</td>\n",
       "    </tr>\n",
       "    <tr>\n",
       "      <th>318847</th>\n",
       "      <td>116.497474</td>\n",
       "      <td>39.810115</td>\n",
       "      <td>1</td>\n",
       "      <td>108.8</td>\n",
       "      <td>31006</td>\n",
       "      <td>35.09</td>\n",
       "      <td>1</td>\n",
       "      <td>0</td>\n",
       "      <td>1</td>\n",
       "      <td>1</td>\n",
       "      <td>...</td>\n",
       "      <td>1.0</td>\n",
       "      <td>2009</td>\n",
       "      <td>1</td>\n",
       "      <td>6</td>\n",
       "      <td>0.222</td>\n",
       "      <td>1.0</td>\n",
       "      <td>0.0</td>\n",
       "      <td>1.0</td>\n",
       "      <td>3</td>\n",
       "      <td>54282.0</td>\n",
       "    </tr>\n",
       "    <tr>\n",
       "      <th>318848</th>\n",
       "      <td>116.497256</td>\n",
       "      <td>39.804081</td>\n",
       "      <td>2</td>\n",
       "      <td>359.0</td>\n",
       "      <td>35138</td>\n",
       "      <td>102.17</td>\n",
       "      <td>2</td>\n",
       "      <td>2</td>\n",
       "      <td>1</td>\n",
       "      <td>2</td>\n",
       "      <td>...</td>\n",
       "      <td>4.0</td>\n",
       "      <td>2000</td>\n",
       "      <td>3</td>\n",
       "      <td>6</td>\n",
       "      <td>0.500</td>\n",
       "      <td>1.0</td>\n",
       "      <td>1.0</td>\n",
       "      <td>0.0</td>\n",
       "      <td>3</td>\n",
       "      <td>46927.0</td>\n",
       "    </tr>\n",
       "    <tr>\n",
       "      <th>318849</th>\n",
       "      <td>116.501794</td>\n",
       "      <td>39.799347</td>\n",
       "      <td>4</td>\n",
       "      <td>720.0</td>\n",
       "      <td>40373</td>\n",
       "      <td>178.34</td>\n",
       "      <td>4</td>\n",
       "      <td>2</td>\n",
       "      <td>1</td>\n",
       "      <td>2</td>\n",
       "      <td>...</td>\n",
       "      <td>4.0</td>\n",
       "      <td>2003</td>\n",
       "      <td>4</td>\n",
       "      <td>2</td>\n",
       "      <td>0.500</td>\n",
       "      <td>0.0</td>\n",
       "      <td>1.0</td>\n",
       "      <td>0.0</td>\n",
       "      <td>3</td>\n",
       "      <td>54842.0</td>\n",
       "    </tr>\n",
       "    <tr>\n",
       "      <th>318850</th>\n",
       "      <td>116.497474</td>\n",
       "      <td>39.810115</td>\n",
       "      <td>0</td>\n",
       "      <td>450.0</td>\n",
       "      <td>48675</td>\n",
       "      <td>92.45</td>\n",
       "      <td>2</td>\n",
       "      <td>1</td>\n",
       "      <td>1</td>\n",
       "      <td>1</td>\n",
       "      <td>...</td>\n",
       "      <td>4.0</td>\n",
       "      <td>Î´Öª</td>\n",
       "      <td>4</td>\n",
       "      <td>6</td>\n",
       "      <td>1.000</td>\n",
       "      <td>1.0</td>\n",
       "      <td>0.0</td>\n",
       "      <td>1.0</td>\n",
       "      <td>3</td>\n",
       "      <td>54282.0</td>\n",
       "    </tr>\n",
       "  </tbody>\n",
       "</table>\n",
       "<p>318819 rows × 21 columns</p>\n",
       "</div>"
      ],
      "text/plain": [
       "               Lng        Lat  followers  totalPrice  price  square  \\\n",
       "0       116.475489  40.019520        106       415.0  31680  131.00   \n",
       "1       116.453917  39.881534        126       575.0  43436  132.38   \n",
       "2       116.561978  39.877145         48      1030.0  52021  198.00   \n",
       "3       116.438010  40.076114        138       297.5  22202  134.00   \n",
       "4       116.428392  39.886229        286       392.0  48396   81.00   \n",
       "...            ...        ...        ...         ...    ...     ...   \n",
       "318846  116.546899  39.755236          8       350.0  20580  170.07   \n",
       "318847  116.497474  39.810115          1       108.8  31006   35.09   \n",
       "318848  116.497256  39.804081          2       359.0  35138  102.17   \n",
       "318849  116.501794  39.799347          4       720.0  40373  178.34   \n",
       "318850  116.497474  39.810115          0       450.0  48675   92.45   \n",
       "\n",
       "       livingRoom drawingRoom  kitchen bathRoom  ... buildingType  \\\n",
       "0               2           1        1        1  ...          1.0   \n",
       "1               2           2        1        2  ...          1.0   \n",
       "2               3           2        1        3  ...          4.0   \n",
       "3               3           1        1        1  ...          1.0   \n",
       "4               2           1        1        1  ...          4.0   \n",
       "...           ...         ...      ...      ...  ...          ...   \n",
       "318846          3           2        1        2  ...          4.0   \n",
       "318847          1           0        1        1  ...          1.0   \n",
       "318848          2           2        1        2  ...          4.0   \n",
       "318849          4           2        1        2  ...          4.0   \n",
       "318850          2           1        1        1  ...          4.0   \n",
       "\n",
       "        constructionTime renovationCondition  buildingStructure  ladderRatio  \\\n",
       "0                   2005                   3                  6        0.217   \n",
       "1                   2004                   4                  6        0.667   \n",
       "2                   2005                   3                  6        0.500   \n",
       "3                   2008                   1                  6        0.273   \n",
       "4                   1960                   2                  2        0.333   \n",
       "...                  ...                 ...                ...          ...   \n",
       "318846              2003                   1                  6        0.333   \n",
       "318847              2009                   1                  6        0.222   \n",
       "318848              2000                   3                  6        0.500   \n",
       "318849              2003                   4                  2        0.500   \n",
       "318850              Î´Öª                   4                  6        1.000   \n",
       "\n",
       "        elevator  fiveYearsProperty  subway  district  communityAverage  \n",
       "0            1.0                0.0     1.0         7           56021.0  \n",
       "1            1.0                1.0     0.0         7           71539.0  \n",
       "2            1.0                0.0     0.0         7           48160.0  \n",
       "3            1.0                0.0     0.0         6           51238.0  \n",
       "4            0.0                1.0     1.0         1           62588.0  \n",
       "...          ...                ...     ...       ...               ...  \n",
       "318846       0.0                1.0     0.0         3           36545.0  \n",
       "318847       1.0                0.0     1.0         3           54282.0  \n",
       "318848       1.0                1.0     0.0         3           46927.0  \n",
       "318849       0.0                1.0     0.0         3           54842.0  \n",
       "318850       1.0                0.0     1.0         3           54282.0  \n",
       "\n",
       "[318819 rows x 21 columns]"
      ]
     },
     "metadata": {},
     "output_type": "display_data"
    }
   ],
   "source": [
    "display(df)"
   ]
  },
  {
   "cell_type": "code",
   "execution_count": 178,
   "id": "ce42857d",
   "metadata": {},
   "outputs": [],
   "source": [
    "df.loc[:,[\"floor\"]]=df[\"floor\"].str.replace(\"[¸ß ÖÐµ×Í¶¥Î´ª]\",\"\")"
   ]
  },
  {
   "cell_type": "code",
   "execution_count": 179,
   "id": "fd844b40",
   "metadata": {},
   "outputs": [
    {
     "data": {
      "text/plain": [
       "0         26\n",
       "1         22\n",
       "2          4\n",
       "3         21\n",
       "4          6\n",
       "          ..\n",
       "318846     5\n",
       "318847    24\n",
       "318848     7\n",
       "318849     5\n",
       "318850    17\n",
       "Name: floor, Length: 318819, dtype: object"
      ]
     },
     "execution_count": 179,
     "metadata": {},
     "output_type": "execute_result"
    }
   ],
   "source": [
    "df['floor']"
   ]
  },
  {
   "cell_type": "code",
   "execution_count": 180,
   "id": "d388230d",
   "metadata": {},
   "outputs": [],
   "source": [
    "df[\"livingRoom\"]=pd.to_numeric(df[\"livingRoom\"], errors='coerce')\n",
    "df[\"drawingRoom\"]=pd.to_numeric(df[\"drawingRoom\"], errors='coerce')\n",
    "df[\"bathRoom\"]=pd.to_numeric(df[\"bathRoom\"], errors='coerce')\n",
    "df[\"constructionTime\"]=pd.to_numeric(df[\"constructionTime\"], errors='coerce')\n",
    "df[\"floor\"]=pd.to_numeric(df[\"floor\"], errors='coerce')"
   ]
  },
  {
   "cell_type": "code",
   "execution_count": 181,
   "id": "ee5eac5c",
   "metadata": {},
   "outputs": [
    {
     "data": {
      "text/plain": [
       "Lng                    float64\n",
       "Lat                    float64\n",
       "followers                int64\n",
       "totalPrice             float64\n",
       "price                    int64\n",
       "square                 float64\n",
       "livingRoom               int64\n",
       "drawingRoom              int64\n",
       "kitchen                  int64\n",
       "bathRoom                 int64\n",
       "floor                    int64\n",
       "buildingType           float64\n",
       "constructionTime       float64\n",
       "renovationCondition      int64\n",
       "buildingStructure        int64\n",
       "ladderRatio            float64\n",
       "elevator               float64\n",
       "fiveYearsProperty      float64\n",
       "subway                 float64\n",
       "district                 int64\n",
       "communityAverage       float64\n",
       "dtype: object"
      ]
     },
     "execution_count": 181,
     "metadata": {},
     "output_type": "execute_result"
    }
   ],
   "source": [
    "df.dtypes"
   ]
  },
  {
   "cell_type": "code",
   "execution_count": 182,
   "id": "3fa68483",
   "metadata": {},
   "outputs": [
    {
     "data": {
      "text/plain": [
       "Lng                        0\n",
       "Lat                        0\n",
       "followers                  0\n",
       "totalPrice                 0\n",
       "price                      0\n",
       "square                     0\n",
       "livingRoom                 0\n",
       "drawingRoom                0\n",
       "kitchen                    0\n",
       "bathRoom                   0\n",
       "floor                      0\n",
       "buildingType            2021\n",
       "constructionTime       19283\n",
       "renovationCondition        0\n",
       "buildingStructure          0\n",
       "ladderRatio                0\n",
       "elevator                   0\n",
       "fiveYearsProperty          0\n",
       "subway                     0\n",
       "district                   0\n",
       "communityAverage         463\n",
       "dtype: int64"
      ]
     },
     "execution_count": 182,
     "metadata": {},
     "output_type": "execute_result"
    }
   ],
   "source": [
    "df.isna().sum()"
   ]
  },
  {
   "cell_type": "code",
   "execution_count": 183,
   "id": "f5b0273d",
   "metadata": {},
   "outputs": [
    {
     "name": "stdout",
     "output_type": "stream",
     "text": [
      "6.437623524384381% missing values\n",
      "\n"
     ]
    }
   ],
   "source": [
    "\n",
    "\n",
    "print(str((df['constructionTime'].isnull().sum()/df['constructionTime'].count())*100)+\"% missing values\")\n",
    "print()\n",
    "df=df.drop(['constructionTime'], axis=1)"
   ]
  },
  {
   "cell_type": "code",
   "execution_count": 184,
   "id": "42832627",
   "metadata": {},
   "outputs": [
    {
     "data": {
      "text/plain": [
       "Index(['Lng', 'Lat', 'followers', 'totalPrice', 'price', 'square',\n",
       "       'livingRoom', 'drawingRoom', 'kitchen', 'bathRoom', 'floor',\n",
       "       'buildingType', 'renovationCondition', 'buildingStructure',\n",
       "       'ladderRatio', 'elevator', 'fiveYearsProperty', 'subway', 'district',\n",
       "       'communityAverage'],\n",
       "      dtype='object')"
      ]
     },
     "execution_count": 184,
     "metadata": {},
     "output_type": "execute_result"
    }
   ],
   "source": [
    "df.columns"
   ]
  },
  {
   "cell_type": "code",
   "execution_count": 185,
   "id": "de118b0f",
   "metadata": {},
   "outputs": [
    {
     "data": {
      "text/plain": [
       "array([[ 2.21388044e-01,  2.54506751e-01, -8.14523185e-01, ...,\n",
       "         1.00000000e+00, -2.22044605e-16, -4.75519848e-01],\n",
       "       [ 1.56004874e-01, -1.86534724e-01, -7.79527559e-01, ...,\n",
       "        -1.00000000e+00, -2.22044605e-16, -2.95352428e-01],\n",
       "       [ 4.83529940e-01, -2.00563184e-01, -9.16010499e-01, ...,\n",
       "        -1.00000000e+00, -2.22044605e-16, -5.66787800e-01],\n",
       "       ...,\n",
       "       [ 2.87362244e-01, -4.34095965e-01, -9.96500437e-01, ...,\n",
       "        -1.00000000e+00, -6.66666667e-01, -5.81103203e-01],\n",
       "       [ 3.01116594e-01, -4.49227140e-01, -9.93000875e-01, ...,\n",
       "        -1.00000000e+00, -6.66666667e-01, -4.89208299e-01],\n",
       "       [ 2.88022987e-01, -4.14809630e-01, -1.00000000e+00, ...,\n",
       "         1.00000000e+00, -6.66666667e-01, -4.95710023e-01]])"
      ]
     },
     "metadata": {},
     "output_type": "display_data"
    }
   ],
   "source": [
    "scaler = MinMaxScaler(feature_range=(-1,1))\n",
    "scaler.fit(df)\n",
    "X_scaled = scaler.transform(df)\n",
    "df_scaled= pd.DataFrame(X_scaled, columns=df.columns)\n",
    "display(X_scaled)\n"
   ]
  },
  {
   "cell_type": "code",
   "execution_count": 186,
   "id": "98986392",
   "metadata": {},
   "outputs": [
    {
     "data": {
      "application/vnd.jupyter.widget-view+json": {
       "model_id": "5288808bdfc14d73a753c69f49cbc285",
       "version_major": 2,
       "version_minor": 0
      },
      "text/plain": [
       "Summarize dataset:   0%|          | 0/5 [00:00<?, ?it/s]"
      ]
     },
     "metadata": {},
     "output_type": "display_data"
    },
    {
     "data": {
      "application/vnd.jupyter.widget-view+json": {
       "model_id": "d14ccfdbc5ad42239a078eb70a420380",
       "version_major": 2,
       "version_minor": 0
      },
      "text/plain": [
       "Generate report structure:   0%|          | 0/1 [00:00<?, ?it/s]"
      ]
     },
     "metadata": {},
     "output_type": "display_data"
    },
    {
     "data": {
      "application/vnd.jupyter.widget-view+json": {
       "model_id": "5e3aa71a04194a57995d1063bd5dc313",
       "version_major": 2,
       "version_minor": 0
      },
      "text/plain": [
       "Render HTML:   0%|          | 0/1 [00:00<?, ?it/s]"
      ]
     },
     "metadata": {},
     "output_type": "display_data"
    },
    {
     "data": {
      "application/vnd.jupyter.widget-view+json": {
       "model_id": "7b1a34ad02984bf088ebc3b951f6bb3f",
       "version_major": 2,
       "version_minor": 0
      },
      "text/plain": [
       "Export report to file:   0%|          | 0/1 [00:00<?, ?it/s]"
      ]
     },
     "metadata": {},
     "output_type": "display_data"
    },
    {
     "data": {
      "text/plain": [
       "'DataAnalysis162518102022.html'"
      ]
     },
     "execution_count": 186,
     "metadata": {},
     "output_type": "execute_result"
    }
   ],
   "source": [
    "\n",
    "createProfileReport(df)"
   ]
  },
  {
   "cell_type": "code",
   "execution_count": 187,
   "id": "7faf7efe",
   "metadata": {},
   "outputs": [
    {
     "data": {
      "text/plain": [
       "Lng                       0\n",
       "Lat                       0\n",
       "followers                 0\n",
       "totalPrice                0\n",
       "price                     0\n",
       "square                    0\n",
       "livingRoom                0\n",
       "drawingRoom               0\n",
       "kitchen                   0\n",
       "bathRoom                  0\n",
       "floor                     0\n",
       "buildingType           2021\n",
       "renovationCondition       0\n",
       "buildingStructure         0\n",
       "ladderRatio               0\n",
       "elevator                  0\n",
       "fiveYearsProperty         0\n",
       "subway                    0\n",
       "district                  0\n",
       "communityAverage        463\n",
       "dtype: int64"
      ]
     },
     "execution_count": 187,
     "metadata": {},
     "output_type": "execute_result"
    }
   ],
   "source": [
    "df.isna().sum()"
   ]
  },
  {
   "cell_type": "code",
   "execution_count": 188,
   "id": "f7a974fe",
   "metadata": {},
   "outputs": [],
   "source": [
    "\n",
    "\n",
    "df=df.drop(['Lng','Lat','followers'], axis=1)"
   ]
  },
  {
   "cell_type": "code",
   "execution_count": 189,
   "id": "acf8f29e",
   "metadata": {},
   "outputs": [
    {
     "data": {
      "text/plain": [
       "((223173, 17), (95646, 17))"
      ]
     },
     "execution_count": 189,
     "metadata": {},
     "output_type": "execute_result"
    }
   ],
   "source": [
    "df=df.fillna(0)\n",
    "X_train, X_test, y_train, y_test = train_test_split(\n",
    "    df,\n",
    "    df['price'],\n",
    "    test_size=0.3,\n",
    "    random_state=0)\n",
    "\n",
    "X_train.shape, X_test.shape"
   ]
  },
  {
   "cell_type": "code",
   "execution_count": 190,
   "id": "97239588",
   "metadata": {},
   "outputs": [],
   "source": [
    "\n",
    "# create linear regression\n",
    "regr = linear_model.LinearRegression()\n",
    "# train model using training set\n",
    "reg = regr.fit(X_train,y_train)"
   ]
  },
  {
   "cell_type": "code",
   "execution_count": null,
   "id": "82665760",
   "metadata": {},
   "outputs": [],
   "source": []
  },
  {
   "cell_type": "code",
   "execution_count": 191,
   "id": "126a74b0",
   "metadata": {},
   "outputs": [
    {
     "name": "stdout",
     "output_type": "stream",
     "text": [
      "Coefficients:  [ 1.58690264e-13  1.00000000e+00  1.35652148e-13 -3.33947261e-13\n",
      " -4.36001286e-12 -1.35559742e-12  4.54412945e-12  1.04265448e-13\n",
      "  2.49661294e-14 -1.93217479e-13 -4.56237133e-14  1.06479738e-17\n",
      "  3.36713178e-13  8.06063011e-13  6.30139160e-13  7.50722496e-14\n",
      " -1.44504359e-16]\n",
      "intercept:  -4.3655745685100555e-11\n"
     ]
    }
   ],
   "source": [
    "# regression coefficients\n",
    "print('Coefficients: ', reg.coef_)\n",
    "# intercept\n",
    "print('intercept: ', reg.intercept_)"
   ]
  },
  {
   "cell_type": "code",
   "execution_count": 192,
   "id": "ebd59920",
   "metadata": {},
   "outputs": [],
   "source": [
    "y_pred = regr.predict(X_test)"
   ]
  },
  {
   "cell_type": "code",
   "execution_count": 193,
   "id": "d1541b54",
   "metadata": {},
   "outputs": [
    {
     "data": {
      "text/plain": [
       "1.0"
      ]
     },
     "execution_count": 193,
     "metadata": {},
     "output_type": "execute_result"
    }
   ],
   "source": [
    "r2_score(y_test, y_pred)"
   ]
  },
  {
   "cell_type": "code",
   "execution_count": null,
   "id": "5c997c2a",
   "metadata": {},
   "outputs": [],
   "source": [
    "\n"
   ]
  },
  {
   "cell_type": "code",
   "execution_count": null,
   "id": "df35532c",
   "metadata": {},
   "outputs": [],
   "source": []
  }
 ],
 "metadata": {
  "kernelspec": {
   "display_name": "Python 3.8.10 64-bit",
   "language": "python",
   "name": "python3"
  },
  "language_info": {
   "codemirror_mode": {
    "name": "ipython",
    "version": 3
   },
   "file_extension": ".py",
   "mimetype": "text/x-python",
   "name": "python",
   "nbconvert_exporter": "python",
   "pygments_lexer": "ipython3",
   "version": "3.8.10"
  },
  "vscode": {
   "interpreter": {
    "hash": "31f2aee4e71d21fbe5cf8b01ff0e069b9275f58929596ceb00d14d90e3e16cd6"
   }
  }
 },
 "nbformat": 4,
 "nbformat_minor": 5
}
