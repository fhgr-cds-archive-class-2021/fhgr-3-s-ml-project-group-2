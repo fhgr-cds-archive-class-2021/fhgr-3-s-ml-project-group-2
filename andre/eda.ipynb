{
 "cells": [
  {
   "cell_type": "code",
   "execution_count": 1,
   "metadata": {},
   "outputs": [],
   "source": [
    "import pandas as pd"
   ]
  },
  {
   "cell_type": "code",
   "execution_count": 2,
   "metadata": {},
   "outputs": [
    {
     "name": "stderr",
     "output_type": "stream",
     "text": [
      "/tmp/ipykernel_70078/1723475172.py:1: DtypeWarning: Columns (1,11,12,14) have mixed types. Specify dtype option on import or set low_memory=False.\n",
      "  df = pd.read_csv('../beijing.csv', encoding=\"iso-8859-1\")\n"
     ]
    }
   ],
   "source": [
    "df = pd.read_csv('../beijing.csv', encoding=\"iso-8859-1\")\n",
    "# drop column url from df\n",
    "df = df.drop(['url', 'id', 'Cid'], axis=1)"
   ]
  },
  {
   "cell_type": "code",
   "execution_count": 3,
   "metadata": {},
   "outputs": [
    {
     "name": "stdout",
     "output_type": "stream",
     "text": [
      "<class 'pandas.core.frame.DataFrame'>\n",
      "RangeIndex: 318851 entries, 0 to 318850\n",
      "Data columns (total 23 columns):\n",
      " #   Column               Non-Null Count   Dtype  \n",
      "---  ------               --------------   -----  \n",
      " 0   Lng                  318851 non-null  float64\n",
      " 1   Lat                  318851 non-null  float64\n",
      " 2   tradeTime            318851 non-null  object \n",
      " 3   DOM                  160874 non-null  float64\n",
      " 4   followers            318851 non-null  int64  \n",
      " 5   totalPrice           318851 non-null  float64\n",
      " 6   price                318851 non-null  int64  \n",
      " 7   square               318851 non-null  float64\n",
      " 8   livingRoom           318851 non-null  object \n",
      " 9   drawingRoom          318851 non-null  object \n",
      " 10  kitchen              318851 non-null  int64  \n",
      " 11  bathRoom             318851 non-null  object \n",
      " 12  floor                318851 non-null  object \n",
      " 13  buildingType         316830 non-null  float64\n",
      " 14  constructionTime     318851 non-null  object \n",
      " 15  renovationCondition  318851 non-null  int64  \n",
      " 16  buildingStructure    318851 non-null  int64  \n",
      " 17  ladderRatio          318851 non-null  float64\n",
      " 18  elevator             318819 non-null  float64\n",
      " 19  fiveYearsProperty    318819 non-null  float64\n",
      " 20  subway               318819 non-null  float64\n",
      " 21  district             318851 non-null  int64  \n",
      " 22  communityAverage     318388 non-null  float64\n",
      "dtypes: float64(11), int64(6), object(6)\n",
      "memory usage: 56.0+ MB\n"
     ]
    }
   ],
   "source": [
    "df.info()"
   ]
  },
  {
   "cell_type": "code",
   "execution_count": null,
   "metadata": {},
   "outputs": [],
   "source": []
  }
 ],
 "metadata": {
  "kernelspec": {
   "display_name": "Python 3.8.10 64-bit",
   "language": "python",
   "name": "python3"
  },
  "language_info": {
   "codemirror_mode": {
    "name": "ipython",
    "version": 3
   },
   "file_extension": ".py",
   "mimetype": "text/x-python",
   "name": "python",
   "nbconvert_exporter": "python",
   "pygments_lexer": "ipython3",
   "version": "3.8.10"
  },
  "orig_nbformat": 4,
  "vscode": {
   "interpreter": {
    "hash": "916dbcbb3f70747c44a77c7bcd40155683ae19c65e1c03b4aa3499c5328201f1"
   }
  }
 },
 "nbformat": 4,
 "nbformat_minor": 2
}
