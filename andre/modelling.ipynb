{
 "cells": [
  {
   "cell_type": "code",
   "execution_count": null,
   "metadata": {},
   "outputs": [],
   "source": [
    "#loss = bias + variance + noise\n",
    "#use for regression perfomance measure"
   ]
  },
  {
   "cell_type": "code",
   "execution_count": null,
   "metadata": {},
   "outputs": [],
   "source": [
    "import pandas as pd\n",
    "import seaborn as sns\n",
    "import matplotlib.pyplot as plt\n",
    "from cuml.manifold import TSNE"
   ]
  },
  {
   "cell_type": "code",
   "execution_count": null,
   "metadata": {},
   "outputs": [],
   "source": [
    "trainDF = pd.read_csv('../app/data/02_train.csv', sep=';')\n",
    "testDF = pd.read_csv('../app/data/02_test.csv', sep=';')"
   ]
  },
  {
   "cell_type": "code",
   "execution_count": null,
   "metadata": {},
   "outputs": [],
   "source": [
    "X_train = trainDF.drop(['totalPrice'], axis=1)\n",
    "y_train = trainDF['totalPrice']\n",
    "X_test = testDF.drop(['totalPrice'], axis=1)\n",
    "y_test = testDF['totalPrice']"
   ]
  },
  {
   "cell_type": "code",
   "execution_count": null,
   "metadata": {},
   "outputs": [],
   "source": [
    "X_train"
   ]
  },
  {
   "cell_type": "code",
   "execution_count": null,
   "metadata": {},
   "outputs": [],
   "source": [
    "embedded = TSNE(n_components = 2).fit_transform(X_train[['Lng', 'Lat']])"
   ]
  },
  {
   "cell_type": "code",
   "execution_count": null,
   "metadata": {},
   "outputs": [],
   "source": [
    "fig, ax = plt.subplots(figsize=(18, 18))\n",
    "ax.scatter(embedded[:,0], embedded[:,1], s=0.1, c=embedded[:,0], cmap=plt.cm.plasma)\n",
    "ax.set_title('t-SNE plot for all 130 features', fontsize=18)\n",
    "plt.xlim([-500, 500])\n",
    "plt.ylim([-500, 500])\n",
    "plt.show();"
   ]
  }
 ],
 "metadata": {
  "kernelspec": {
   "display_name": "Python 3.9.15 ('ml')",
   "language": "python",
   "name": "python3"
  },
  "language_info": {
   "codemirror_mode": {
    "name": "ipython",
    "version": 3
   },
   "file_extension": ".py",
   "mimetype": "text/x-python",
   "name": "python",
   "nbconvert_exporter": "python",
   "pygments_lexer": "ipython3",
   "version": "3.9.15"
  },
  "orig_nbformat": 4,
  "vscode": {
   "interpreter": {
    "hash": "cc2a45e3fbce4b6543d23dc26118f7ddfe324ce24c6e6d9ef30373ad451ed07b"
   }
  }
 },
 "nbformat": 4,
 "nbformat_minor": 2
}
