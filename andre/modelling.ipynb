{
 "cells": [
  {
   "cell_type": "code",
   "execution_count": 10,
   "metadata": {},
   "outputs": [],
   "source": [
    "import pandas as pd\n",
    "import seaborn as sns\n",
    "import matplotlib.pyplot as plt\n",
    "from sklearn.linear_model import SGDRegressor\n",
    "from sklearn.metrics import mean_squared_error, r2_score\n",
    "from sklearn.pipeline import make_pipeline\n",
    "from sklearn.preprocessing import StandardScaler\n",
    "from sklearn.ensemble import StackingRegressor\n",
    "from sklearn.linear_model import Ridge, Lasso, ElasticNet\n",
    "import time\n",
    "from sklearn.model_selection import cross_validate, cross_val_predict\n",
    "from sklearn.ensemble import HistGradientBoostingRegressor\n",
    "from sklearn.ensemble import RandomForestRegressor\n",
    "import numpy as np"
   ]
  },
  {
   "cell_type": "code",
   "execution_count": 3,
   "metadata": {},
   "outputs": [],
   "source": [
    "trainDF = pd.read_csv('../app/data/02_train.csv', sep=';')\n",
    "testDF = pd.read_csv('../app/data/02_test.csv', sep=';')"
   ]
  },
  {
   "cell_type": "code",
   "execution_count": 4,
   "metadata": {},
   "outputs": [],
   "source": [
    "columns = [\n",
    "        'Lng',\n",
    "        'Lat',\n",
    "        'square', \n",
    "        'livingRoom', \n",
    "        'drawingRoom', \n",
    "        'kitchen', \n",
    "        'bathRoom', \n",
    "        'floor', \n",
    "        'buildingType', \n",
    "        'renovationCondition', \n",
    "        'buildingStructure', \n",
    "        'elevator', \n",
    "        'fiveYearsProperty',\n",
    "        'subway',\n",
    "        'district',\n",
    "        'floorType',\n",
    "        'constructionTimePeriod',\n",
    "        'town',\n",
    "        'placeRank',\n",
    "        'districtPopulation',\n",
    "        'districtArea'\n",
    "    ]"
   ]
  },
  {
   "cell_type": "code",
   "execution_count": 5,
   "metadata": {},
   "outputs": [],
   "source": [
    "X_train = trainDF.drop(['totalPrice'], axis=1)\n",
    "y_train = trainDF['totalPrice']\n",
    "X_test = testDF.drop(['totalPrice'], axis=1)\n",
    "y_test = testDF['totalPrice']"
   ]
  },
  {
   "cell_type": "code",
   "execution_count": 6,
   "metadata": {},
   "outputs": [],
   "source": [
    "X_train = X_train[X_train.columns.intersection(columns)]\n",
    "X_test = X_test[X_test.columns.intersection(columns)]"
   ]
  },
  {
   "cell_type": "code",
   "execution_count": 7,
   "metadata": {},
   "outputs": [],
   "source": [
    "X = X_train\n",
    "y = y_train"
   ]
  },
  {
   "cell_type": "code",
   "execution_count": 14,
   "metadata": {},
   "outputs": [],
   "source": [
    "estimators = [\n",
    "    (\"sgd_regressor\", \n",
    "        make_pipeline(\n",
    "            StandardScaler(), \n",
    "            SGDRegressor(alpha=0.0001, loss='squared_loss', penalty='l1', random_state=42)\n",
    "        )   \n",
    "    ),\n",
    "    ('ENet', ElasticNet(alpha=0.001)),\n",
    "    (\"RandomFR\", RandomForestRegressor(n_jobs=-1)),\n",
    "    (\"Gradient Boosting\", HistGradientBoostingRegressor()),\n",
    "]\n",
    "\n",
    "stacking_regressor = StackingRegressor(estimators=estimators, final_estimator=Lasso(), n_jobs=-1)"
   ]
  },
  {
   "cell_type": "code",
   "execution_count": 15,
   "metadata": {},
   "outputs": [
    {
     "name": "stderr",
     "output_type": "stream",
     "text": [
      "/home/glatzl/.local/lib/python3.8/site-packages/sklearn/linear_model/_stochastic_gradient.py:165: FutureWarning: The loss 'squared_loss' was deprecated in v1.0 and will be removed in version 1.2. Use `loss='squared_error'` which is equivalent.\n",
      "  warnings.warn(\n",
      "/home/glatzl/.local/lib/python3.8/site-packages/sklearn/linear_model/_stochastic_gradient.py:165: FutureWarning: The loss 'squared_loss' was deprecated in v1.0 and will be removed in version 1.2. Use `loss='squared_error'` which is equivalent.\n",
      "  warnings.warn(\n",
      "/home/glatzl/.local/lib/python3.8/site-packages/sklearn/linear_model/_stochastic_gradient.py:165: FutureWarning: The loss 'squared_loss' was deprecated in v1.0 and will be removed in version 1.2. Use `loss='squared_error'` which is equivalent.\n",
      "  warnings.warn(\n",
      "/home/glatzl/.local/lib/python3.8/site-packages/sklearn/linear_model/_stochastic_gradient.py:165: FutureWarning: The loss 'squared_loss' was deprecated in v1.0 and will be removed in version 1.2. Use `loss='squared_error'` which is equivalent.\n",
      "  warnings.warn(\n",
      "/home/glatzl/.local/lib/python3.8/site-packages/sklearn/linear_model/_stochastic_gradient.py:165: FutureWarning: The loss 'squared_loss' was deprecated in v1.0 and will be removed in version 1.2. Use `loss='squared_error'` which is equivalent.\n",
      "  warnings.warn(\n",
      "/home/glatzl/.local/lib/python3.8/site-packages/sklearn/linear_model/_stochastic_gradient.py:165: FutureWarning: The loss 'squared_loss' was deprecated in v1.0 and will be removed in version 1.2. Use `loss='squared_error'` which is equivalent.\n",
      "  warnings.warn(\n",
      "/home/glatzl/.local/lib/python3.8/site-packages/sklearn/linear_model/_coordinate_descent.py:648: ConvergenceWarning: Objective did not converge. You might want to increase the number of iterations, check the scale of the features or consider increasing regularisation. Duality gap: 5.825e+08, tolerance: 1.193e+06\n",
      "  model = cd_fast.enet_coordinate_descent(\n"
     ]
    },
    {
     "name": "stdout",
     "output_type": "stream",
     "text": [
      "Time to fit: 87.90016889572144\n",
      "Mean squared error: 13272.462986619523\n",
      "R2 score: 0.7451976041251651\n"
     ]
    }
   ],
   "source": [
    "# predicted vs true stacking_regressor\n",
    "start = time.time()\n",
    "stacking_regressor.fit(X_train, y_train)\n",
    "end = time.time()\n",
    "print(f\"Time to fit: {end - start}\")\n",
    "y_pred = stacking_regressor.predict(X_test)\n",
    "print(f\"Mean squared error: {mean_squared_error(y_test, y_pred)}\")\n",
    "print(f\"R2 score: {r2_score(y_test, y_pred)}\")\n"
   ]
  },
  {
   "cell_type": "code",
   "execution_count": null,
   "metadata": {},
   "outputs": [],
   "source": [
    "def plot_regression_results(ax, y_true, y_pred, title, scores, elapsed_time):\n",
    "    \"\"\"Scatter plot of the predicted vs true targets.\"\"\"\n",
    "    ax.plot(\n",
    "        [y_true.min(), y_true.max()], [y_true.min(), y_true.max()], \"--r\", linewidth=2\n",
    "    )\n",
    "    ax.scatter(y_true, y_pred, alpha=0.2)\n",
    "\n",
    "    ax.spines[\"top\"].set_visible(False)\n",
    "    ax.spines[\"right\"].set_visible(False)\n",
    "    ax.get_xaxis().tick_bottom()\n",
    "    ax.get_yaxis().tick_left()\n",
    "    ax.spines[\"left\"].set_position((\"outward\", 10))\n",
    "    ax.spines[\"bottom\"].set_position((\"outward\", 10))\n",
    "    ax.set_xlim([y_true.min(), y_true.max()])\n",
    "    ax.set_ylim([y_true.min(), y_true.max()])\n",
    "    ax.set_xlabel(\"Measured\")\n",
    "    ax.set_ylabel(\"Predicted\")\n",
    "    extra = plt.Rectangle(\n",
    "        (0, 0), 0, 0, fc=\"w\", fill=False, edgecolor=\"none\", linewidth=0\n",
    "    )\n",
    "    ax.legend([extra], [scores], loc=\"upper left\")\n",
    "    title = title + \"\\n Evaluation in {:.2f} seconds\".format(elapsed_time)\n",
    "    ax.set_title(title)\n",
    "\n",
    "\n",
    "fig, axs = plt.subplots(2, 2, figsize=(9, 7))\n",
    "axs = np.ravel(axs)\n",
    "\n",
    "for ax, (name, est) in zip(\n",
    "    axs, estimators + [(\"Stacking Regressor\", stacking_regressor)]\n",
    "):\n",
    "    start_time = time.time()\n",
    "    score = cross_validate(\n",
    "        est, X, y, scoring=[\"r2\", \"neg_mean_absolute_error\"], n_jobs=-1, verbose=0\n",
    "    )\n",
    "    elapsed_time = time.time() - start_time\n",
    "\n",
    "    y_pred = cross_val_predict(est, X, y, n_jobs=-1, verbose=0)\n",
    "\n",
    "    plot_regression_results(\n",
    "        ax,\n",
    "        y,\n",
    "        y_pred,\n",
    "        name,\n",
    "        (r\"$R^2={:.2f} \\pm {:.2f}$\" + \"\\n\" + r\"$MAE={:.2f} \\pm {:.2f}$\").format(\n",
    "            np.mean(score[\"test_r2\"]),\n",
    "            np.std(score[\"test_r2\"]),\n",
    "            -np.mean(score[\"test_neg_mean_absolute_error\"]),\n",
    "            np.std(score[\"test_neg_mean_absolute_error\"]),\n",
    "        ),\n",
    "        elapsed_time,\n",
    "    )\n",
    "\n",
    "plt.suptitle(\"Single predictors versus stacked predictors\")\n",
    "plt.tight_layout()\n",
    "plt.subplots_adjust(top=0.9)\n",
    "plt.show()"
   ]
  }
 ],
 "metadata": {
  "kernelspec": {
   "display_name": "Python 3.8.10 64-bit",
   "language": "python",
   "name": "python3"
  },
  "language_info": {
   "codemirror_mode": {
    "name": "ipython",
    "version": 3
   },
   "file_extension": ".py",
   "mimetype": "text/x-python",
   "name": "python",
   "nbconvert_exporter": "python",
   "pygments_lexer": "ipython3",
   "version": "3.8.10"
  },
  "orig_nbformat": 4,
  "vscode": {
   "interpreter": {
    "hash": "31f2aee4e71d21fbe5cf8b01ff0e069b9275f58929596ceb00d14d90e3e16cd6"
   }
  }
 },
 "nbformat": 4,
 "nbformat_minor": 2
}
