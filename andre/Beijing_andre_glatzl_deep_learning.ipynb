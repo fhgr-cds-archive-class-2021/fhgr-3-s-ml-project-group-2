{
 "cells": [
  {
   "attachments": {},
   "cell_type": "markdown",
   "metadata": {},
   "source": [
    "### 00: Import standard libraries needed for DS & DL"
   ]
  },
  {
   "cell_type": "code",
   "execution_count": 1,
   "metadata": {},
   "outputs": [
    {
     "name": "stderr",
     "output_type": "stream",
     "text": [
      "2023-03-29 19:45:08.717396: W tensorflow/stream_executor/platform/default/dso_loader.cc:64] Could not load dynamic library 'libcudart.so.11.0'; dlerror: libcudart.so.11.0: cannot open shared object file: No such file or directory\n",
      "2023-03-29 19:45:08.717424: I tensorflow/stream_executor/cuda/cudart_stub.cc:29] Ignore above cudart dlerror if you do not have a GPU set up on your machine.\n"
     ]
    }
   ],
   "source": [
    "import numpy as np\n",
    "import pandas as pd\n",
    "import matplotlib.pyplot as plt\n",
    "import tensorflow as tf\n",
    "from tensorflow import keras\n",
    "import keras_tuner as kt"
   ]
  },
  {
   "cell_type": "code",
   "execution_count": 2,
   "metadata": {},
   "outputs": [],
   "source": [
    "%load_ext tensorboard"
   ]
  },
  {
   "attachments": {},
   "cell_type": "markdown",
   "metadata": {},
   "source": [
    "### 01: Load beijing dataset"
   ]
  },
  {
   "cell_type": "code",
   "execution_count": 3,
   "metadata": {},
   "outputs": [],
   "source": [
    "train = pd.read_csv('02_train.csv', sep=';')\n",
    "test = pd.read_csv('02_test.csv', sep=';')\n",
    "x_train = train.drop(['totalPrice'], axis=1)\n",
    "y_train = train['totalPrice']\n",
    "x_test = test.drop(['totalPrice'], axis=1)\n",
    "y_test = test['totalPrice']\n",
    "x_train = x_train.to_numpy()\n",
    "y_train = y_train.to_numpy()\n",
    "x_test = x_test.to_numpy()\n",
    "y_test = y_test.to_numpy()"
   ]
  },
  {
   "cell_type": "code",
   "execution_count": 4,
   "metadata": {},
   "outputs": [
    {
     "data": {
      "text/plain": [
       "(219943, 26)"
      ]
     },
     "execution_count": 4,
     "metadata": {},
     "output_type": "execute_result"
    }
   ],
   "source": [
    "x_train.shape"
   ]
  },
  {
   "cell_type": "code",
   "execution_count": 5,
   "metadata": {},
   "outputs": [
    {
     "data": {
      "text/plain": [
       "(219943,)"
      ]
     },
     "execution_count": 5,
     "metadata": {},
     "output_type": "execute_result"
    }
   ],
   "source": [
    "y_train.shape"
   ]
  },
  {
   "attachments": {},
   "cell_type": "markdown",
   "metadata": {},
   "source": [
    "### 02: Define input layer (26x1) as a tensor"
   ]
  },
  {
   "attachments": {},
   "cell_type": "markdown",
   "metadata": {},
   "source": [
    "Since we are constructing an ANN (Artifical neural network - Feed-forward neural network) we need to transform the input into a 1-Dimensional Tensor. Data need to be normalised and here a normal Normalization process will be take place."
   ]
  },
  {
   "cell_type": "code",
   "execution_count": 6,
   "metadata": {},
   "outputs": [
    {
     "name": "stderr",
     "output_type": "stream",
     "text": [
      "2023-03-29 19:45:10.399249: W tensorflow/stream_executor/platform/default/dso_loader.cc:64] Could not load dynamic library 'libcuda.so.1'; dlerror: libcuda.so.1: cannot open shared object file: No such file or directory\n",
      "2023-03-29 19:45:10.399283: W tensorflow/stream_executor/cuda/cuda_driver.cc:269] failed call to cuInit: UNKNOWN ERROR (303)\n",
      "2023-03-29 19:45:10.399303: I tensorflow/stream_executor/cuda/cuda_diagnostics.cc:156] kernel driver does not appear to be running on this host (glatzl): /proc/driver/nvidia/version does not exist\n",
      "2023-03-29 19:45:10.399504: I tensorflow/core/platform/cpu_feature_guard.cc:193] This TensorFlow binary is optimized with oneAPI Deep Neural Network Library (oneDNN) to use the following CPU instructions in performance-critical operations:  AVX2\n",
      "To enable them in other operations, rebuild TensorFlow with the appropriate compiler flags.\n"
     ]
    }
   ],
   "source": [
    "input_layer = tf.keras.Input(shape=(26, 1), name=\"input\")\n",
    "flatten_layer = tf.keras.layers.Flatten(name=\"flatten\")\n",
    "norm_layer = tf.keras.layers.Normalization()"
   ]
  },
  {
   "attachments": {},
   "cell_type": "markdown",
   "metadata": {},
   "source": [
    "### 03: Define the output layer (1) as a vector."
   ]
  },
  {
   "attachments": {},
   "cell_type": "markdown",
   "metadata": {},
   "source": [
    "Using a dense layer because every neuron on the output layer needs to be connected to all neurons of the previous layer (For now on feed-forward neural networks). The output layer only needs one neuron since we have a regression problem (continuos value). Normally, in a regression problem, a linear activation function should be used. "
   ]
  },
  {
   "cell_type": "code",
   "execution_count": 7,
   "metadata": {},
   "outputs": [],
   "source": [
    "output_layer = tf.keras.layers.Dense(1, activation=\"linear\", name=\"output\")"
   ]
  },
  {
   "attachments": {},
   "cell_type": "markdown",
   "metadata": {},
   "source": [
    "### 04: Define the hidden layers. "
   ]
  },
  {
   "attachments": {},
   "cell_type": "markdown",
   "metadata": {},
   "source": [
    "As the same as the MNIST dataset, since i don't know the real-world properties about the data, i simply will use for now a hidden layer with the same amount of features for amount of hidden nodes."
   ]
  },
  {
   "cell_type": "code",
   "execution_count": 8,
   "metadata": {},
   "outputs": [],
   "source": [
    "hidden_layer = tf.keras.layers.Dense(26, activation=\"relu\", name=\"hidden\")"
   ]
  },
  {
   "attachments": {},
   "cell_type": "markdown",
   "metadata": {},
   "source": [
    "### 05: Define loss function"
   ]
  },
  {
   "attachments": {},
   "cell_type": "markdown",
   "metadata": {},
   "source": [
    "Since this problem is a regression one, the loss function should be something like an mean squared error. For this exercise, i will use mean squared error loss and stochastic gradient descent as the optimizer"
   ]
  },
  {
   "cell_type": "code",
   "execution_count": 9,
   "metadata": {},
   "outputs": [],
   "source": [
    "loss_function = tf.keras.losses.MeanSquaredError()"
   ]
  },
  {
   "cell_type": "code",
   "execution_count": 10,
   "metadata": {},
   "outputs": [],
   "source": [
    "optimizer = tf.keras.optimizers.SGD(learning_rate=0.001, clipnorm=1.0)"
   ]
  },
  {
   "attachments": {},
   "cell_type": "markdown",
   "metadata": {},
   "source": [
    "### 06: Define Dropout"
   ]
  },
  {
   "attachments": {},
   "cell_type": "markdown",
   "metadata": {},
   "source": [
    "Dropout is a regularisation technique and it can be defined on the input layer or hidden layers. In this project, i will use a Dropout layer after the hidden layer with a dropout rate of 20%"
   ]
  },
  {
   "cell_type": "code",
   "execution_count": 11,
   "metadata": {},
   "outputs": [],
   "source": [
    "dropout_layer = tf.keras.layers.Dropout(0.2)"
   ]
  },
  {
   "attachments": {},
   "cell_type": "markdown",
   "metadata": {},
   "source": [
    "### 07: Define Bias regularisation technique (L1, L2 or Elastic)"
   ]
  },
  {
   "attachments": {},
   "cell_type": "markdown",
   "metadata": {},
   "source": [
    "Since this neural network only has one hidden layer, it is obvious where the regularisation will be taken. L1 will be used (Lasso)"
   ]
  },
  {
   "cell_type": "code",
   "execution_count": 12,
   "metadata": {},
   "outputs": [],
   "source": [
    "hidden_layer.kernel_regularizer = tf.keras.regularizers.l1()"
   ]
  },
  {
   "attachments": {},
   "cell_type": "markdown",
   "metadata": {},
   "source": [
    "### 08: Build & train base model (Multilayer perceptron - MLP)"
   ]
  },
  {
   "cell_type": "code",
   "execution_count": 13,
   "metadata": {},
   "outputs": [],
   "source": [
    "model = tf.keras.models.Sequential(name=\"beijing_model\")\n",
    "model.add(input_layer)\n",
    "model.add(flatten_layer)\n",
    "model.add(norm_layer)\n",
    "model.add(hidden_layer)\n",
    "model.add(dropout_layer)\n",
    "model.add(output_layer)"
   ]
  },
  {
   "cell_type": "code",
   "execution_count": 14,
   "metadata": {},
   "outputs": [
    {
     "data": {
      "image/png": "[encoded data removed]",
      "text/plain": [
       "<IPython.core.display.Image object>"
      ]
     },
     "execution_count": 14,
     "metadata": {},
     "output_type": "execute_result"
    }
   ],
   "source": [
    "tf.keras.utils.plot_model(\n",
    "    model,\n",
    "    to_file='model.png',\n",
    "    show_shapes=True,\n",
    "    show_dtype=False,\n",
    "    show_layer_names=True,\n",
    "    rankdir='TB',\n",
    "    expand_nested=False,\n",
    "    dpi=96,\n",
    "    layer_range=None,\n",
    "    show_layer_activations=False\n",
    ")"
   ]
  },
  {
   "cell_type": "code",
   "execution_count": 15,
   "metadata": {},
   "outputs": [],
   "source": [
    "model.compile(loss=loss_function, optimizer=optimizer, metrics=['mse'])"
   ]
  },
  {
   "cell_type": "code",
   "execution_count": 16,
   "metadata": {},
   "outputs": [
    {
     "name": "stdout",
     "output_type": "stream",
     "text": [
      "Epoch 1/10\n",
      "5499/5499 [==============================] - 9s 1ms/step - loss: 161799.5938 - mse: 161798.5469 - val_loss: 153082.5625 - val_mse: 153081.0938\n",
      "Epoch 2/10\n",
      "5499/5499 [==============================] - 8s 1ms/step - loss: 108966.5703 - mse: 108965.0469 - val_loss: 83972.7109 - val_mse: 83971.0078\n",
      "Epoch 3/10\n",
      "5499/5499 [==============================] - 8s 1ms/step - loss: 45815.9375 - mse: 45814.1172 - val_loss: 29326.7793 - val_mse: 29324.7773\n",
      "Epoch 4/10\n",
      "5499/5499 [==============================] - 8s 2ms/step - loss: 20378.4863 - mse: 20376.5195 - val_loss: 22212.4004 - val_mse: 22210.4004\n",
      "Epoch 5/10\n",
      "5499/5499 [==============================] - 8s 1ms/step - loss: 17733.6387 - mse: 17731.6270 - val_loss: 20496.6191 - val_mse: 20494.6094\n",
      "Epoch 6/10\n",
      "5499/5499 [==============================] - 8s 1ms/step - loss: 16252.7783 - mse: 16250.7490 - val_loss: 19327.8340 - val_mse: 19325.8066\n",
      "Epoch 7/10\n",
      "5499/5499 [==============================] - 8s 1ms/step - loss: 15383.3662 - mse: 15381.3770 - val_loss: 18490.3477 - val_mse: 18488.2930\n",
      "Epoch 8/10\n",
      "5499/5499 [==============================] - 8s 1ms/step - loss: 14575.0732 - mse: 14573.0420 - val_loss: 17630.3906 - val_mse: 17628.3242\n",
      "Epoch 9/10\n",
      "5499/5499 [==============================] - 8s 1ms/step - loss: 13999.7510 - mse: 13997.6924 - val_loss: 17011.1074 - val_mse: 17009.0059\n",
      "Epoch 10/10\n",
      "5499/5499 [==============================] - 8s 1ms/step - loss: 13396.6445 - mse: 13394.5742 - val_loss: 16399.4551 - val_mse: 16397.3496\n"
     ]
    }
   ],
   "source": [
    "base_history = model.fit(x_train, y_train, batch_size=32, epochs=10, validation_split=0.2)"
   ]
  },
  {
   "cell_type": "code",
   "execution_count": 17,
   "metadata": {},
   "outputs": [
    {
     "data": {
      "text/plain": [
       "{'loss': [161799.59375,\n",
       "  108966.5703125,\n",
       "  45815.9375,\n",
       "  20378.486328125,\n",
       "  17733.638671875,\n",
       "  16252.7783203125,\n",
       "  15383.3662109375,\n",
       "  14575.0732421875,\n",
       "  13999.7509765625,\n",
       "  13396.64453125],\n",
       " 'mse': [161798.546875,\n",
       "  108965.046875,\n",
       "  45814.1171875,\n",
       "  20376.51953125,\n",
       "  17731.626953125,\n",
       "  16250.7490234375,\n",
       "  15381.376953125,\n",
       "  14573.0419921875,\n",
       "  13997.6923828125,\n",
       "  13394.57421875],\n",
       " 'val_loss': [153082.5625,\n",
       "  83972.7109375,\n",
       "  29326.779296875,\n",
       "  22212.400390625,\n",
       "  20496.619140625,\n",
       "  19327.833984375,\n",
       "  18490.34765625,\n",
       "  17630.390625,\n",
       "  17011.107421875,\n",
       "  16399.455078125],\n",
       " 'val_mse': [153081.09375,\n",
       "  83971.0078125,\n",
       "  29324.77734375,\n",
       "  22210.400390625,\n",
       "  20494.609375,\n",
       "  19325.806640625,\n",
       "  18488.29296875,\n",
       "  17628.32421875,\n",
       "  17009.005859375,\n",
       "  16397.349609375]}"
      ]
     },
     "execution_count": 17,
     "metadata": {},
     "output_type": "execute_result"
    }
   ],
   "source": [
    "base_history.history"
   ]
  },
  {
   "attachments": {},
   "cell_type": "markdown",
   "metadata": {},
   "source": [
    "### 09: Plot the results of the base model"
   ]
  },
  {
   "cell_type": "code",
   "execution_count": 18,
   "metadata": {},
   "outputs": [
    {
     "data": {
      "image/png": "[encoded data removed]",
      "text/plain": [
       "<Figure size 1080x576 with 1 Axes>"
      ]
     },
     "metadata": {
      "needs_background": "light"
     },
     "output_type": "display_data"
    }
   ],
   "source": [
    "plt.figure(figsize=(15, 8))\n",
    "plt.plot(base_history.history[\"loss\"], label='Train')\n",
    "plt.plot(base_history.history[\"val_loss\"], label='Validation')\n",
    "plt.title(\"Train, Valid MSE\")\n",
    "plt.xlabel(\"Epochs\")\n",
    "plt.ylabel(\"MSE\")\n",
    "plt.yscale('log')\n",
    "plt.legend()\n",
    "plt.show()"
   ]
  },
  {
   "cell_type": "code",
   "execution_count": 19,
   "metadata": {},
   "outputs": [
    {
     "data": {
      "text/plain": [
       "{'loss': [161799.59375,\n",
       "  108966.5703125,\n",
       "  45815.9375,\n",
       "  20378.486328125,\n",
       "  17733.638671875,\n",
       "  16252.7783203125,\n",
       "  15383.3662109375,\n",
       "  14575.0732421875,\n",
       "  13999.7509765625,\n",
       "  13396.64453125],\n",
       " 'mse': [161798.546875,\n",
       "  108965.046875,\n",
       "  45814.1171875,\n",
       "  20376.51953125,\n",
       "  17731.626953125,\n",
       "  16250.7490234375,\n",
       "  15381.376953125,\n",
       "  14573.0419921875,\n",
       "  13997.6923828125,\n",
       "  13394.57421875],\n",
       " 'val_loss': [153082.5625,\n",
       "  83972.7109375,\n",
       "  29326.779296875,\n",
       "  22212.400390625,\n",
       "  20496.619140625,\n",
       "  19327.833984375,\n",
       "  18490.34765625,\n",
       "  17630.390625,\n",
       "  17011.107421875,\n",
       "  16399.455078125],\n",
       " 'val_mse': [153081.09375,\n",
       "  83971.0078125,\n",
       "  29324.77734375,\n",
       "  22210.400390625,\n",
       "  20494.609375,\n",
       "  19325.806640625,\n",
       "  18488.29296875,\n",
       "  17628.32421875,\n",
       "  17009.005859375,\n",
       "  16397.349609375]}"
      ]
     },
     "execution_count": 19,
     "metadata": {},
     "output_type": "execute_result"
    }
   ],
   "source": [
    "base_history.history"
   ]
  },
  {
   "cell_type": "code",
   "execution_count": 20,
   "metadata": {},
   "outputs": [
    {
     "name": "stdout",
     "output_type": "stream",
     "text": [
      "2946/2946 [==============================] - 3s 879us/step - loss: 10237.9121 - mse: 10235.8086\n"
     ]
    }
   ],
   "source": [
    "base_score = model.evaluate(x_test, y_test)"
   ]
  },
  {
   "cell_type": "code",
   "execution_count": 21,
   "metadata": {},
   "outputs": [
    {
     "data": {
      "text/plain": [
       "[10237.912109375, 10235.80859375]"
      ]
     },
     "execution_count": 21,
     "metadata": {},
     "output_type": "execute_result"
    }
   ],
   "source": [
    "base_score"
   ]
  },
  {
   "cell_type": "code",
   "execution_count": 22,
   "metadata": {},
   "outputs": [],
   "source": [
    "base_model = model"
   ]
  },
  {
   "attachments": {},
   "cell_type": "markdown",
   "metadata": {},
   "source": [
    "### 10: Hyperparameter tuning for optimized model"
   ]
  },
  {
   "attachments": {},
   "cell_type": "markdown",
   "metadata": {},
   "source": [
    "There are a lot of ways on how to do this, in this exercise i will use the hyperband approach (A Novel Banid-Based Approach to Hyperparameter Optimization). https://arxiv.org/pdf/1603.06560.pdf\n",
    "Basically it trains a few models on few rounds and it will only take the best models to the next round. See it like as a sport championship."
   ]
  },
  {
   "cell_type": "code",
   "execution_count": 23,
   "metadata": {},
   "outputs": [
    {
     "name": "stdout",
     "output_type": "stream",
     "text": [
      "INFO:tensorflow:Reloading Tuner from ./optimized_model/tuner0.json\n",
      "INFO:tensorflow:Oracle triggered exit\n"
     ]
    }
   ],
   "source": [
    "def model_builder(hp):\n",
    "    hp_reg = hp.Choice('regularizer', values=['l1', 'l2', 'l1_l2', 'None'])\n",
    "    if hp_reg == 'l1':\n",
    "        reg = tf.keras.regularizers.l1()\n",
    "    elif hp_reg == 'l2':\n",
    "        reg = tf.keras.regularizers.l2()\n",
    "    elif hp_reg == 'l1_l2':\n",
    "        reg = tf.keras.regularizers.l1_l2()\n",
    "    else:\n",
    "        reg = None\n",
    "\n",
    "    hp_opt = hp.Choice('optimizer', values=['adadelta', 'adam', 'sgd'])\n",
    "    if hp_opt == 'adadelta':\n",
    "        opt = tf.keras.optimizers.Adadelta(learning_rate=0.001, clipnorm=1.0)\n",
    "    elif hp_opt == 'adam':\n",
    "        opt = tf.keras.optimizers.Adam(learning_rate=0.001, clipnorm=1.0)\n",
    "    else:\n",
    "        opt = tf.keras.optimizers.SGD(learning_rate=0.001, clipnorm=1.0)\n",
    "\n",
    "    norm_layer = tf.keras.layers.Normalization()\n",
    "    norm_layer.adapt(x_train)\n",
    "\n",
    "    model = tf.keras.Sequential()\n",
    "    model.add(tf.keras.layers.Flatten(input_shape=(26, 1)))\n",
    "    model.add(norm_layer)\n",
    "    model.add(tf.keras.layers.Dense(\n",
    "        units=hp.Int('units', min_value=26, max_value=26*4, step=26), \n",
    "        activation=hp.Choice('activation', values=['relu', 'sigmoid']),\n",
    "        kernel_regularizer=reg\n",
    "    ))\n",
    "    model.add(tf.keras.layers.Dropout(rate=hp.Float('dropout', min_value=0.2, max_value=0.6, step=0.2)))\n",
    "    model.add(tf.keras.layers.Dense(1, activation='linear'))\n",
    "    model.compile(\n",
    "        optimizer=opt,\n",
    "        loss=keras.losses.MeanSquaredError(),\n",
    "        metrics=['mse']\n",
    "    )\n",
    "    return model\n",
    "\n",
    "tuner = kt.Hyperband(model_builder, objective='mse', max_epochs=10, factor=3, project_name='optimized_model')\n",
    "stop_early = tf.keras.callbacks.EarlyStopping(monitor='val_loss', patience=5)\n",
    "\n",
    "tuner.search(x_train, y_train, epochs=10, validation_split=0.2, callbacks=[stop_early])\n",
    "\n",
    "best_hyperparameters = tuner.get_best_hyperparameters(num_trials=10)[0]"
   ]
  },
  {
   "cell_type": "code",
   "execution_count": 24,
   "metadata": {},
   "outputs": [
    {
     "data": {
      "text/plain": [
       "{'regularizer': 'l1_l2',\n",
       " 'optimizer': 'adam',\n",
       " 'units': 26,\n",
       " 'activation': 'relu',\n",
       " 'dropout': 0.2,\n",
       " 'tuner/epochs': 10,\n",
       " 'tuner/initial_epoch': 4,\n",
       " 'tuner/bracket': 2,\n",
       " 'tuner/round': 2,\n",
       " 'tuner/trial_id': '0013'}"
      ]
     },
     "execution_count": 24,
     "metadata": {},
     "output_type": "execute_result"
    }
   ],
   "source": [
    "best_hyperparameters.values"
   ]
  },
  {
   "attachments": {},
   "cell_type": "markdown",
   "metadata": {},
   "source": [
    "### 11: Training optimized model"
   ]
  },
  {
   "cell_type": "code",
   "execution_count": 25,
   "metadata": {},
   "outputs": [],
   "source": [
    "import datetime\n",
    "log_dir = \"logs/fit/\" + datetime.datetime.now().strftime(\"%Y%m%d-%H%M%S\")\n",
    "tensorboard_callback = tf.keras.callbacks.TensorBoard(log_dir=log_dir, histogram_freq=1)"
   ]
  },
  {
   "cell_type": "code",
   "execution_count": 26,
   "metadata": {},
   "outputs": [
    {
     "name": "stdout",
     "output_type": "stream",
     "text": [
      "Epoch 1/10\n",
      "5499/5499 [==============================] - 10s 2ms/step - loss: 53673.6641 - mse: 53660.6641 - val_loss: 16055.8115 - val_mse: 16038.3525\n",
      "Epoch 2/10\n",
      "5499/5499 [==============================] - 10s 2ms/step - loss: 12110.5654 - mse: 12092.6650 - val_loss: 13301.0361 - val_mse: 13282.6602\n",
      "Epoch 3/10\n",
      "5499/5499 [==============================] - 9s 2ms/step - loss: 11130.2402 - mse: 11111.5322 - val_loss: 12299.9170 - val_mse: 12280.8232\n",
      "Epoch 4/10\n",
      "5499/5499 [==============================] - 10s 2ms/step - loss: 10469.2295 - mse: 10449.6836 - val_loss: 11703.9365 - val_mse: 11684.0381\n",
      "Epoch 5/10\n",
      "5499/5499 [==============================] - 10s 2ms/step - loss: 9782.5508 - mse: 9762.1807 - val_loss: 11364.8379 - val_mse: 11344.0410\n",
      "Epoch 6/10\n",
      "5499/5499 [==============================] - 9s 2ms/step - loss: 9296.0264 - mse: 9274.8516 - val_loss: 11127.3115 - val_mse: 11105.7275\n",
      "Epoch 7/10\n",
      "5499/5499 [==============================] - 9s 2ms/step - loss: 9088.9570 - mse: 9066.9795 - val_loss: 11067.3516 - val_mse: 11045.0215\n",
      "Epoch 8/10\n",
      "5499/5499 [==============================] - 10s 2ms/step - loss: 8880.8721 - mse: 8858.0283 - val_loss: 10976.0586 - val_mse: 10952.9512\n",
      "Epoch 9/10\n",
      "5499/5499 [==============================] - 10s 2ms/step - loss: 8621.6074 - mse: 8597.9854 - val_loss: 10735.1045 - val_mse: 10711.0391\n",
      "Epoch 10/10\n",
      "5499/5499 [==============================] - 10s 2ms/step - loss: 8508.6621 - mse: 8484.2021 - val_loss: 10701.3154 - val_mse: 10676.5088\n",
      "Best epoch: 1\n"
     ]
    }
   ],
   "source": [
    "# Build the model with the optimal hyperparameters and train it on the data for 50 epochs\n",
    "optimized_model = tuner.hypermodel.build(best_hyperparameters)\n",
    "optimized_history = optimized_model.fit(x_train, y_train, epochs=10, validation_split=0.2, callbacks=[tensorboard_callback])\n",
    "\n",
    "val_loss_per_epoch = optimized_history.history['val_loss']\n",
    "best_epoch = val_loss_per_epoch.index(max(val_loss_per_epoch)) + 1\n",
    "print('Best epoch: %d' % (best_epoch,))"
   ]
  },
  {
   "cell_type": "code",
   "execution_count": 27,
   "metadata": {},
   "outputs": [
    {
     "data": {
      "text/plain": [
       "<keras.callbacks.History at 0x7f4733fe5430>"
      ]
     },
     "execution_count": 27,
     "metadata": {},
     "output_type": "execute_result"
    }
   ],
   "source": [
    "optimized_history"
   ]
  },
  {
   "attachments": {},
   "cell_type": "markdown",
   "metadata": {},
   "source": [
    "### 12: Comparing base and optimized model"
   ]
  },
  {
   "cell_type": "code",
   "execution_count": 28,
   "metadata": {},
   "outputs": [
    {
     "data": {
      "image/png": "[encoded data removed]",
      "text/plain": [
       "<Figure size 1080x576 with 1 Axes>"
      ]
     },
     "metadata": {
      "needs_background": "light"
     },
     "output_type": "display_data"
    }
   ],
   "source": [
    "plt.figure(figsize=(15, 8))\n",
    "plt.plot(base_history.history['loss'], label=\"Base Model (MSE)\", color=\"blue\")\n",
    "plt.plot(base_history.history['val_loss'], label=\"Base Model (Validation MSE)\", color=\"green\")\n",
    "plt.plot(optimized_history.history['loss'], label=\"Optimized Model (MSE)\", color=\"red\")\n",
    "plt.plot(optimized_history.history['val_loss'], label=\"Optimized Model (Validation MSE)\", color=\"orange\")\n",
    "plt.title(\"Train, Valid Loss Curve\")\n",
    "plt.xlabel(\"Epochs\")\n",
    "plt.ylabel(\"MSE\")\n",
    "plt.yscale('log')\n",
    "plt.legend()\n",
    "plt.show()"
   ]
  },
  {
   "cell_type": "code",
   "execution_count": 29,
   "metadata": {},
   "outputs": [
    {
     "name": "stdout",
     "output_type": "stream",
     "text": [
      "Test Score:\n",
      "2946/2946 [==============================] - 3s 887us/step - loss: 10237.9121 - mse: 10235.8086\n",
      "Base Model: [10237.912109375, 10235.80859375]\n",
      "2946/2946 [==============================] - 3s 906us/step - loss: 5766.8555 - mse: 5742.0430\n",
      "Optimized Model: [5766.85546875, 5742.04296875]\n"
     ]
    }
   ],
   "source": [
    "print(\"Test Score:\")\n",
    "print(f\"Base Model: {base_model.evaluate(x_test, y_test)}\")\n",
    "print(f\"Optimized Model: {optimized_model.evaluate(x_test, y_test)}\")"
   ]
  },
  {
   "attachments": {},
   "cell_type": "markdown",
   "metadata": {},
   "source": [
    "### 14: Optimized Model wins with MSE of 5766 and base has 10237"
   ]
  },
  {
   "cell_type": "code",
   "execution_count": 30,
   "metadata": {},
   "outputs": [
    {
     "name": "stdout",
     "output_type": "stream",
     "text": [
      "2946/2946 [==============================] - 2s 731us/step\n"
     ]
    },
    {
     "data": {
      "text/plain": [
       "array([[236.17204],\n",
       "       [152.19936],\n",
       "       [468.38443],\n",
       "       ...,\n",
       "       [265.04663],\n",
       "       [180.80632],\n",
       "       [147.68092]], dtype=float32)"
      ]
     },
     "execution_count": 30,
     "metadata": {},
     "output_type": "execute_result"
    }
   ],
   "source": [
    "# Base predict\n",
    "base_model.predict(x_test)"
   ]
  },
  {
   "cell_type": "code",
   "execution_count": 31,
   "metadata": {},
   "outputs": [
    {
     "name": "stdout",
     "output_type": "stream",
     "text": [
      "2946/2946 [==============================] - 2s 746us/step\n"
     ]
    },
    {
     "data": {
      "text/plain": [
       "array([[257.74164],\n",
       "       [188.29472],\n",
       "       [403.79895],\n",
       "       ...,\n",
       "       [294.56018],\n",
       "       [167.4323 ],\n",
       "       [149.22986]], dtype=float32)"
      ]
     },
     "execution_count": 31,
     "metadata": {},
     "output_type": "execute_result"
    }
   ],
   "source": [
    "# Optimized predict\n",
    "optimized_model.predict(x_test)"
   ]
  }
 ],
 "metadata": {
  "kernelspec": {
   "display_name": "Python 3",
   "language": "python",
   "name": "python3"
  },
  "language_info": {
   "codemirror_mode": {
    "name": "ipython",
    "version": 3
   },
   "file_extension": ".py",
   "mimetype": "text/x-python",
   "name": "python",
   "nbconvert_exporter": "python",
   "pygments_lexer": "ipython3",
   "version": "3.8.10"
  },
  "orig_nbformat": 4
 },
 "nbformat": 4,
 "nbformat_minor": 2
}
