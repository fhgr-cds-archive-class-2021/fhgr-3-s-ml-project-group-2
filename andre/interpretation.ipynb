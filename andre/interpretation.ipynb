{
 "cells": [
  {
   "cell_type": "code",
   "execution_count": null,
   "metadata": {},
   "outputs": [],
   "source": [
    "# data handling\n",
    "import pickle\n",
    "import pandas as pd\n",
    "import numpy as np\n",
    "import time\n",
    "from scipy import stats\n",
    "# visualization\n",
    "import seaborn as sns\n",
    "import matplotlib.pyplot as plt\n",
    "import shap\n",
    "from sklearn.metrics import mean_absolute_error, mean_squared_error, r2_score\n",
    "from sklearn.metrics import accuracy_score\n",
    "# interpretation\n",
    "from sklearn.inspection import PartialDependenceDisplay\n",
    "import cudf\n",
    "import cuml"
   ]
  },
  {
   "cell_type": "code",
   "execution_count": null,
   "metadata": {},
   "outputs": [],
   "source": [
    "regressor = pickle.load(open(\"stacking_regressor.pkl\", \"rb\"))"
   ]
  },
  {
   "cell_type": "code",
   "execution_count": null,
   "metadata": {},
   "outputs": [],
   "source": [
    "trainDF = pd.read_csv('../app/data/02_train.csv', sep=';')\n",
    "testDF = pd.read_csv('../app/data/02_test.csv', sep=';')"
   ]
  },
  {
   "cell_type": "code",
   "execution_count": null,
   "metadata": {},
   "outputs": [],
   "source": [
    "trainColumns = ['Lng', 'Lat', 'square', 'tradeYear', 'tradeMonth']\n",
    "X_train = trainDF[trainColumns]\n",
    "y_train = trainDF['totalPrice']\n",
    "X_test = testDF[trainColumns]\n",
    "y_test = testDF['totalPrice']"
   ]
  },
  {
   "cell_type": "code",
   "execution_count": null,
   "metadata": {},
   "outputs": [],
   "source": [
    "y_pred = regressor.predict(X_test.to_numpy())"
   ]
  },
  {
   "cell_type": "code",
   "execution_count": null,
   "metadata": {},
   "outputs": [],
   "source": [
    "# DF with predictions and deviation\n",
    "predDF = X_test\n",
    "predDF[\"totalPrice\"] = y_test\n",
    "predDF[\"prediction\"] = y_pred\n",
    "predDF[\"deviation\"] = abs(predDF[\"totalPrice\"] - predDF[\"prediction\"])\n",
    "predDF.head()"
   ]
  },
  {
   "cell_type": "code",
   "execution_count": null,
   "metadata": {},
   "outputs": [],
   "source": [
    "plt.figure(figsize=(8,8))\n",
    "plt.scatter(predDF[\"deviation\"].to_numpy(), predDF[\"totalPrice\"].to_numpy())\n",
    "plt.title(\"real totalPrice and deviation of prediction\")\n",
    "plt.xlabel(\"deviation\")\n",
    "plt.ylabel(\"label: totalPrice\")\n",
    "plt.show()"
   ]
  },
  {
   "cell_type": "code",
   "execution_count": null,
   "metadata": {},
   "outputs": [],
   "source": [
    "plt.figure(figsize=(8,8))\n",
    "plt.scatter(predDF[\"prediction\"].to_numpy(), predDF[\"totalPrice\"].to_numpy(), c=predDF[\"deviation\"].to_numpy())\n",
    "plt.axvline(x=0, color=\"red\")\n",
    "plt.title(\"real totalPrice and predicted value\")\n",
    "plt.xlabel(\"prediction\")\n",
    "plt.ylabel(\"label: totalPrice\")\n",
    "plt.xlim((predDF[\"prediction\"].min()-50,predDF[\"totalPrice\"].max()+100))\n",
    "plt.ylim((0,predDF[\"totalPrice\"].max()+100))\n",
    "plt.colorbar(label='color represents deviation')\n",
    "plt.grid()\n",
    "plt.show()"
   ]
  },
  {
   "cell_type": "code",
   "execution_count": null,
   "metadata": {},
   "outputs": [],
   "source": [
    "from interpret.ext.blackbox import TabularExplainer"
   ]
  },
  {
   "cell_type": "code",
   "execution_count": null,
   "metadata": {},
   "outputs": [],
   "source": [
    "explainer = TabularExplainer(regressor,\n",
    "                             X_train,\n",
    "                             features=trainColumns,\n",
    "                             use_gpu=True)"
   ]
  },
  {
   "cell_type": "code",
   "execution_count": null,
   "metadata": {},
   "outputs": [],
   "source": [
    "global_explanation = explainer.explain_global(X_train[:10])"
   ]
  },
  {
   "cell_type": "code",
   "execution_count": null,
   "metadata": {},
   "outputs": [],
   "source": [
    "from raiwidgets import ExplanationDashboard\n",
    "ExplanationDashboard(global_explanation, regressor, dataset=X_train[:10])"
   ]
  }
 ],
 "metadata": {
  "kernelspec": {
   "display_name": "rapids-22.12",
   "language": "python",
   "name": "python3"
  },
  "language_info": {
   "codemirror_mode": {
    "name": "ipython",
    "version": 3
   },
   "file_extension": ".py",
   "mimetype": "text/x-python",
   "name": "python",
   "nbconvert_exporter": "python",
   "pygments_lexer": "ipython3",
   "version": "3.9.15 | packaged by conda-forge | (main, Nov 22 2022, 08:45:29) \n[GCC 10.4.0]"
  },
  "orig_nbformat": 4,
  "vscode": {
   "interpreter": {
    "hash": "3dd49ce61f6344113c78002c6e97f1cacd7994b31da2968ac31e5fd76b5aab81"
   }
  }
 },
 "nbformat": 4,
 "nbformat_minor": 2
}
