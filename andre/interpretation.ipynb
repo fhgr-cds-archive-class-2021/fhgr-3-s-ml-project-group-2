{
 "cells": [
  {
   "cell_type": "code",
   "execution_count": 19,
   "metadata": {},
   "outputs": [],
   "source": [
    "from explainerdashboard import ClassifierExplainer, ExplainerDashboard\n",
    "import joblib\n",
    "import pandas as pd\n",
    "from sklearn.inspection import plot_partial_dependence\n",
    "import matplotlib.pyplot as plt"
   ]
  },
  {
   "cell_type": "code",
   "execution_count": 21,
   "metadata": {},
   "outputs": [],
   "source": [
    "test = pd.read_csv('../app/data/02_test.csv', sep=';')\n",
    "X_test = test.drop(columns=[\"totalPrice\", \"communityAverage\"])\n",
    "y_test = test[\"totalPrice\"]"
   ]
  },
  {
   "cell_type": "code",
   "execution_count": 4,
   "metadata": {},
   "outputs": [],
   "source": [
    "model = joblib.load(\"../app/data/04_model.joblib\")"
   ]
  },
  {
   "attachments": {},
   "cell_type": "markdown",
   "metadata": {},
   "source": [
    "### Plot partial dependence (PDP) "
   ]
  },
  {
   "cell_type": "code",
   "execution_count": 22,
   "metadata": {},
   "outputs": [
    {
     "name": "stderr",
     "output_type": "stream",
     "text": [
      "Function plot_partial_dependence is deprecated; Function `plot_partial_dependence` is deprecated in 1.0 and will be removed in 1.2. Use PartialDependenceDisplay.from_estimator instead\n",
      "/home/glatzlandre@edu.local/anaconda3/envs/ml/lib/python3.9/site-packages/sklearn/inspection/_partial_dependence.py:153: FutureWarning: In a future version, `df.iloc[:, i] = newvals` will attempt to set the values inplace instead of always setting a new array. To retain the old behavior, use either `df[df.columns[i]] = newvals` or, if columns are non-unique, `df.isetitem(i, newvals)`\n",
      "  X_eval.iloc[:, variable] = new_values[i]\n"
     ]
    },
    {
     "ename": "OSError",
     "evalue": "[Errno 28] No space left on device",
     "output_type": "error",
     "traceback": [
      "\u001b[0;31m---------------------------------------------------------------------------\u001b[0m",
      "\u001b[0;31m_RemoteTraceback\u001b[0m                          Traceback (most recent call last)",
      "\u001b[0;31m_RemoteTraceback\u001b[0m: \n\"\"\"\nTraceback (most recent call last):\n  File \"/home/glatzlandre@edu.local/anaconda3/envs/ml/lib/python3.9/site-packages/joblib/externals/loky/process_executor.py\", line 428, in _process_worker\n    r = call_item()\n  File \"/home/glatzlandre@edu.local/anaconda3/envs/ml/lib/python3.9/site-packages/joblib/externals/loky/process_executor.py\", line 275, in __call__\n    return self.fn(*self.args, **self.kwargs)\n  File \"/home/glatzlandre@edu.local/anaconda3/envs/ml/lib/python3.9/site-packages/joblib/_parallel_backends.py\", line 620, in __call__\n    return self.func(*args, **kwargs)\n  File \"/home/glatzlandre@edu.local/anaconda3/envs/ml/lib/python3.9/site-packages/joblib/parallel.py\", line 288, in __call__\n    return [func(*args, **kwargs)\n  File \"/home/glatzlandre@edu.local/anaconda3/envs/ml/lib/python3.9/site-packages/joblib/parallel.py\", line 288, in <listcomp>\n    return [func(*args, **kwargs)\n  File \"/home/glatzlandre@edu.local/anaconda3/envs/ml/lib/python3.9/site-packages/sklearn/utils/fixes.py\", line 117, in __call__\n    return self.function(*args, **kwargs)\n  File \"/home/glatzlandre@edu.local/anaconda3/envs/ml/lib/python3.9/site-packages/sklearn/inspection/_partial_dependence.py\", line 465, in partial_dependence\n    averaged_predictions, predictions = _partial_dependence_brute(\n  File \"/home/glatzlandre@edu.local/anaconda3/envs/ml/lib/python3.9/site-packages/sklearn/inspection/_partial_dependence.py\", line 164, in _partial_dependence_brute\n    pred = prediction_method(X_eval)\n  File \"/home/glatzlandre@edu.local/anaconda3/envs/ml/lib/python3.9/site-packages/sklearn/ensemble/_stacking.py\", line 351, in predict\n    return self.final_estimator_.predict(self.transform(X), **predict_params)\n  File \"/home/glatzlandre@edu.local/anaconda3/envs/ml/lib/python3.9/site-packages/sklearn/ensemble/_stacking.py\", line 882, in transform\n    return self._transform(X)\n  File \"/home/glatzlandre@edu.local/anaconda3/envs/ml/lib/python3.9/site-packages/sklearn/ensemble/_stacking.py\", line 276, in _transform\n    predictions = [\n  File \"/home/glatzlandre@edu.local/anaconda3/envs/ml/lib/python3.9/site-packages/sklearn/ensemble/_stacking.py\", line 277, in <listcomp>\n    getattr(est, meth)(X)\n  File \"/home/glatzlandre@edu.local/anaconda3/envs/ml/lib/python3.9/site-packages/sklearn/ensemble/_forest.py\", line 1004, in predict\n    Parallel(n_jobs=n_jobs, verbose=self.verbose, require=\"sharedmem\")(\n  File \"/home/glatzlandre@edu.local/anaconda3/envs/ml/lib/python3.9/site-packages/joblib/parallel.py\", line 1085, in __call__\n    if self.dispatch_one_batch(iterator):\n  File \"/home/glatzlandre@edu.local/anaconda3/envs/ml/lib/python3.9/site-packages/joblib/parallel.py\", line 901, in dispatch_one_batch\n    self._dispatch(tasks)\n  File \"/home/glatzlandre@edu.local/anaconda3/envs/ml/lib/python3.9/site-packages/joblib/parallel.py\", line 819, in _dispatch\n    job = self._backend.apply_async(batch, callback=cb)\n  File \"/home/glatzlandre@edu.local/anaconda3/envs/ml/lib/python3.9/site-packages/joblib/_parallel_backends.py\", line 252, in apply_async\n    return self._get_pool().apply_async(\n  File \"/home/glatzlandre@edu.local/anaconda3/envs/ml/lib/python3.9/site-packages/joblib/_parallel_backends.py\", line 407, in _get_pool\n    self._pool = ThreadPool(self._n_jobs)\n  File \"/home/glatzlandre@edu.local/anaconda3/envs/ml/lib/python3.9/multiprocessing/pool.py\", line 927, in __init__\n    Pool.__init__(self, processes, initializer, initargs)\n  File \"/home/glatzlandre@edu.local/anaconda3/envs/ml/lib/python3.9/multiprocessing/pool.py\", line 196, in __init__\n    self._change_notifier = self._ctx.SimpleQueue()\n  File \"/home/glatzlandre@edu.local/anaconda3/envs/ml/lib/python3.9/site-packages/joblib/externals/loky/backend/context.py\", line 245, in SimpleQueue\n    return SimpleQueue(reducers=reducers, ctx=self.get_context())\n  File \"/home/glatzlandre@edu.local/anaconda3/envs/ml/lib/python3.9/site-packages/joblib/externals/loky/backend/queues.py\", line 164, in __init__\n    super().__init__(ctx=ctx)\n  File \"/home/glatzlandre@edu.local/anaconda3/envs/ml/lib/python3.9/multiprocessing/queues.py\", line 341, in __init__\n    self._rlock = ctx.Lock()\n  File \"/home/glatzlandre@edu.local/anaconda3/envs/ml/lib/python3.9/site-packages/joblib/externals/loky/backend/context.py\", line 265, in Lock\n    return Lock()\n  File \"/home/glatzlandre@edu.local/anaconda3/envs/ml/lib/python3.9/site-packages/joblib/externals/loky/backend/synchronize.py\", line 185, in __init__\n    super().__init__(SEMAPHORE, 1, 1)\n  File \"/home/glatzlandre@edu.local/anaconda3/envs/ml/lib/python3.9/site-packages/joblib/externals/loky/backend/synchronize.py\", line 64, in __init__\n    self._semlock = _SemLock(\nOSError: [Errno 28] No space left on device\n\"\"\"",
      "\nThe above exception was the direct cause of the following exception:\n",
      "\u001b[0;31mOSError\u001b[0m                                   Traceback (most recent call last)",
      "Cell \u001b[0;32mIn [22], line 1\u001b[0m\n\u001b[0;32m----> 1\u001b[0m plot_partial_dependence(model, X_test, X_test\u001b[39m.\u001b[39;49mcolumns, n_jobs\u001b[39m=\u001b[39;49m\u001b[39m-\u001b[39;49m\u001b[39m1\u001b[39;49m, grid_resolution\u001b[39m=\u001b[39;49m\u001b[39m20\u001b[39;49m)\n\u001b[1;32m      2\u001b[0m fig \u001b[39m=\u001b[39m plt\u001b[39m.\u001b[39mgcf()\n\u001b[1;32m      3\u001b[0m fig\u001b[39m.\u001b[39msuptitle(\u001b[39m'\u001b[39m\u001b[39mPartial dependence of beijing housing data\u001b[39m\u001b[39m'\u001b[39m)\n",
      "File \u001b[0;32m~/anaconda3/envs/ml/lib/python3.9/site-packages/sklearn/utils/deprecation.py:88\u001b[0m, in \u001b[0;36mdeprecated._decorate_fun.<locals>.wrapped\u001b[0;34m(*args, **kwargs)\u001b[0m\n\u001b[1;32m     85\u001b[0m \u001b[39m@functools\u001b[39m\u001b[39m.\u001b[39mwraps(fun)\n\u001b[1;32m     86\u001b[0m \u001b[39mdef\u001b[39;00m \u001b[39mwrapped\u001b[39m(\u001b[39m*\u001b[39margs, \u001b[39m*\u001b[39m\u001b[39m*\u001b[39mkwargs):\n\u001b[1;32m     87\u001b[0m     warnings\u001b[39m.\u001b[39mwarn(msg, category\u001b[39m=\u001b[39m\u001b[39mFutureWarning\u001b[39;00m)\n\u001b[0;32m---> 88\u001b[0m     \u001b[39mreturn\u001b[39;00m fun(\u001b[39m*\u001b[39;49margs, \u001b[39m*\u001b[39;49m\u001b[39m*\u001b[39;49mkwargs)\n",
      "File \u001b[0;32m~/anaconda3/envs/ml/lib/python3.9/site-packages/sklearn/inspection/_plot/partial_dependence.py:320\u001b[0m, in \u001b[0;36mplot_partial_dependence\u001b[0;34m(estimator, X, features, feature_names, target, response_method, n_cols, grid_resolution, percentiles, method, n_jobs, verbose, line_kw, ice_lines_kw, pd_line_kw, contour_kw, ax, kind, subsample, random_state, centered)\u001b[0m\n\u001b[1;32m     50\u001b[0m \u001b[39m\"\"\"Partial dependence (PD) and individual conditional expectation (ICE)\u001b[39;00m\n\u001b[1;32m     51\u001b[0m \u001b[39mplots.\u001b[39;00m\n\u001b[1;32m     52\u001b[0m \n\u001b[0;32m   (...)\u001b[0m\n\u001b[1;32m    317\u001b[0m \u001b[39m>>> plt.show()  # doctest: +SKIP\u001b[39;00m\n\u001b[1;32m    318\u001b[0m \u001b[39m\"\"\"\u001b[39;00m\n\u001b[1;32m    319\u001b[0m check_matplotlib_support(\u001b[39m\"\u001b[39m\u001b[39mplot_partial_dependence\u001b[39m\u001b[39m\"\u001b[39m)  \u001b[39m# noqa\u001b[39;00m\n\u001b[0;32m--> 320\u001b[0m \u001b[39mreturn\u001b[39;00m _plot_partial_dependence(\n\u001b[1;32m    321\u001b[0m     estimator,\n\u001b[1;32m    322\u001b[0m     X,\n\u001b[1;32m    323\u001b[0m     features,\n\u001b[1;32m    324\u001b[0m     feature_names\u001b[39m=\u001b[39;49mfeature_names,\n\u001b[1;32m    325\u001b[0m     target\u001b[39m=\u001b[39;49mtarget,\n\u001b[1;32m    326\u001b[0m     response_method\u001b[39m=\u001b[39;49mresponse_method,\n\u001b[1;32m    327\u001b[0m     n_cols\u001b[39m=\u001b[39;49mn_cols,\n\u001b[1;32m    328\u001b[0m     grid_resolution\u001b[39m=\u001b[39;49mgrid_resolution,\n\u001b[1;32m    329\u001b[0m     percentiles\u001b[39m=\u001b[39;49mpercentiles,\n\u001b[1;32m    330\u001b[0m     method\u001b[39m=\u001b[39;49mmethod,\n\u001b[1;32m    331\u001b[0m     n_jobs\u001b[39m=\u001b[39;49mn_jobs,\n\u001b[1;32m    332\u001b[0m     verbose\u001b[39m=\u001b[39;49mverbose,\n\u001b[1;32m    333\u001b[0m     line_kw\u001b[39m=\u001b[39;49mline_kw,\n\u001b[1;32m    334\u001b[0m     ice_lines_kw\u001b[39m=\u001b[39;49mice_lines_kw,\n\u001b[1;32m    335\u001b[0m     pd_line_kw\u001b[39m=\u001b[39;49mpd_line_kw,\n\u001b[1;32m    336\u001b[0m     contour_kw\u001b[39m=\u001b[39;49mcontour_kw,\n\u001b[1;32m    337\u001b[0m     ax\u001b[39m=\u001b[39;49max,\n\u001b[1;32m    338\u001b[0m     kind\u001b[39m=\u001b[39;49mkind,\n\u001b[1;32m    339\u001b[0m     subsample\u001b[39m=\u001b[39;49msubsample,\n\u001b[1;32m    340\u001b[0m     random_state\u001b[39m=\u001b[39;49mrandom_state,\n\u001b[1;32m    341\u001b[0m     centered\u001b[39m=\u001b[39;49mcentered,\n\u001b[1;32m    342\u001b[0m )\n",
      "File \u001b[0;32m~/anaconda3/envs/ml/lib/python3.9/site-packages/sklearn/inspection/_plot/partial_dependence.py:492\u001b[0m, in \u001b[0;36m_plot_partial_dependence\u001b[0;34m(estimator, X, features, feature_names, target, response_method, n_cols, grid_resolution, percentiles, method, n_jobs, verbose, line_kw, ice_lines_kw, pd_line_kw, contour_kw, ax, kind, subsample, random_state, centered)\u001b[0m\n\u001b[1;32m    486\u001b[0m         \u001b[39mraise\u001b[39;00m \u001b[39mValueError\u001b[39;00m(\n\u001b[1;32m    487\u001b[0m             \u001b[39mf\u001b[39m\u001b[39m\"\u001b[39m\u001b[39mWhen a floating-point, subsample=\u001b[39m\u001b[39m{\u001b[39;00msubsample\u001b[39m}\u001b[39;00m\u001b[39m should be in \u001b[39m\u001b[39m\"\u001b[39m\n\u001b[1;32m    488\u001b[0m             \u001b[39m\"\u001b[39m\u001b[39mthe (0, 1) range.\u001b[39m\u001b[39m\"\u001b[39m\n\u001b[1;32m    489\u001b[0m         )\n\u001b[1;32m    491\u001b[0m \u001b[39m# compute predictions and/or averaged predictions\u001b[39;00m\n\u001b[0;32m--> 492\u001b[0m pd_results \u001b[39m=\u001b[39m Parallel(n_jobs\u001b[39m=\u001b[39;49mn_jobs, verbose\u001b[39m=\u001b[39;49mverbose)(\n\u001b[1;32m    493\u001b[0m     delayed(partial_dependence)(\n\u001b[1;32m    494\u001b[0m         estimator,\n\u001b[1;32m    495\u001b[0m         X,\n\u001b[1;32m    496\u001b[0m         fxs,\n\u001b[1;32m    497\u001b[0m         response_method\u001b[39m=\u001b[39;49mresponse_method,\n\u001b[1;32m    498\u001b[0m         method\u001b[39m=\u001b[39;49mmethod,\n\u001b[1;32m    499\u001b[0m         grid_resolution\u001b[39m=\u001b[39;49mgrid_resolution,\n\u001b[1;32m    500\u001b[0m         percentiles\u001b[39m=\u001b[39;49mpercentiles,\n\u001b[1;32m    501\u001b[0m         kind\u001b[39m=\u001b[39;49mkind_plot,\n\u001b[1;32m    502\u001b[0m     )\n\u001b[1;32m    503\u001b[0m     \u001b[39mfor\u001b[39;49;00m kind_plot, fxs \u001b[39min\u001b[39;49;00m \u001b[39mzip\u001b[39;49m(kind_, features)\n\u001b[1;32m    504\u001b[0m )\n\u001b[1;32m    506\u001b[0m \u001b[39m# For multioutput regression, we can only check the validity of target\u001b[39;00m\n\u001b[1;32m    507\u001b[0m \u001b[39m# now that we have the predictions.\u001b[39;00m\n\u001b[1;32m    508\u001b[0m \u001b[39m# Also note: as multiclass-multioutput classifiers are not supported,\u001b[39;00m\n\u001b[1;32m    509\u001b[0m \u001b[39m# multiclass and multioutput scenario are mutually exclusive. So there is\u001b[39;00m\n\u001b[1;32m    510\u001b[0m \u001b[39m# no risk of overwriting target_idx here.\u001b[39;00m\n\u001b[1;32m    511\u001b[0m pd_result \u001b[39m=\u001b[39m pd_results[\u001b[39m0\u001b[39m]  \u001b[39m# checking the first result is enough\u001b[39;00m\n",
      "File \u001b[0;32m~/anaconda3/envs/ml/lib/python3.9/site-packages/joblib/parallel.py:1098\u001b[0m, in \u001b[0;36mParallel.__call__\u001b[0;34m(self, iterable)\u001b[0m\n\u001b[1;32m   1095\u001b[0m     \u001b[39mself\u001b[39m\u001b[39m.\u001b[39m_iterating \u001b[39m=\u001b[39m \u001b[39mFalse\u001b[39;00m\n\u001b[1;32m   1097\u001b[0m \u001b[39mwith\u001b[39;00m \u001b[39mself\u001b[39m\u001b[39m.\u001b[39m_backend\u001b[39m.\u001b[39mretrieval_context():\n\u001b[0;32m-> 1098\u001b[0m     \u001b[39mself\u001b[39;49m\u001b[39m.\u001b[39;49mretrieve()\n\u001b[1;32m   1099\u001b[0m \u001b[39m# Make sure that we get a last message telling us we are done\u001b[39;00m\n\u001b[1;32m   1100\u001b[0m elapsed_time \u001b[39m=\u001b[39m time\u001b[39m.\u001b[39mtime() \u001b[39m-\u001b[39m \u001b[39mself\u001b[39m\u001b[39m.\u001b[39m_start_time\n",
      "File \u001b[0;32m~/anaconda3/envs/ml/lib/python3.9/site-packages/joblib/parallel.py:975\u001b[0m, in \u001b[0;36mParallel.retrieve\u001b[0;34m(self)\u001b[0m\n\u001b[1;32m    973\u001b[0m \u001b[39mtry\u001b[39;00m:\n\u001b[1;32m    974\u001b[0m     \u001b[39mif\u001b[39;00m \u001b[39mgetattr\u001b[39m(\u001b[39mself\u001b[39m\u001b[39m.\u001b[39m_backend, \u001b[39m'\u001b[39m\u001b[39msupports_timeout\u001b[39m\u001b[39m'\u001b[39m, \u001b[39mFalse\u001b[39;00m):\n\u001b[0;32m--> 975\u001b[0m         \u001b[39mself\u001b[39m\u001b[39m.\u001b[39m_output\u001b[39m.\u001b[39mextend(job\u001b[39m.\u001b[39;49mget(timeout\u001b[39m=\u001b[39;49m\u001b[39mself\u001b[39;49m\u001b[39m.\u001b[39;49mtimeout))\n\u001b[1;32m    976\u001b[0m     \u001b[39melse\u001b[39;00m:\n\u001b[1;32m    977\u001b[0m         \u001b[39mself\u001b[39m\u001b[39m.\u001b[39m_output\u001b[39m.\u001b[39mextend(job\u001b[39m.\u001b[39mget())\n",
      "File \u001b[0;32m~/anaconda3/envs/ml/lib/python3.9/site-packages/joblib/_parallel_backends.py:567\u001b[0m, in \u001b[0;36mLokyBackend.wrap_future_result\u001b[0;34m(future, timeout)\u001b[0m\n\u001b[1;32m    564\u001b[0m \u001b[39m\"\"\"Wrapper for Future.result to implement the same behaviour as\u001b[39;00m\n\u001b[1;32m    565\u001b[0m \u001b[39mAsyncResults.get from multiprocessing.\"\"\"\u001b[39;00m\n\u001b[1;32m    566\u001b[0m \u001b[39mtry\u001b[39;00m:\n\u001b[0;32m--> 567\u001b[0m     \u001b[39mreturn\u001b[39;00m future\u001b[39m.\u001b[39;49mresult(timeout\u001b[39m=\u001b[39;49mtimeout)\n\u001b[1;32m    568\u001b[0m \u001b[39mexcept\u001b[39;00m CfTimeoutError \u001b[39mas\u001b[39;00m e:\n\u001b[1;32m    569\u001b[0m     \u001b[39mraise\u001b[39;00m \u001b[39mTimeoutError\u001b[39;00m \u001b[39mfrom\u001b[39;00m \u001b[39me\u001b[39;00m\n",
      "File \u001b[0;32m~/anaconda3/envs/ml/lib/python3.9/concurrent/futures/_base.py:446\u001b[0m, in \u001b[0;36mFuture.result\u001b[0;34m(self, timeout)\u001b[0m\n\u001b[1;32m    444\u001b[0m     \u001b[39mraise\u001b[39;00m CancelledError()\n\u001b[1;32m    445\u001b[0m \u001b[39melif\u001b[39;00m \u001b[39mself\u001b[39m\u001b[39m.\u001b[39m_state \u001b[39m==\u001b[39m FINISHED:\n\u001b[0;32m--> 446\u001b[0m     \u001b[39mreturn\u001b[39;00m \u001b[39mself\u001b[39;49m\u001b[39m.\u001b[39;49m__get_result()\n\u001b[1;32m    447\u001b[0m \u001b[39melse\u001b[39;00m:\n\u001b[1;32m    448\u001b[0m     \u001b[39mraise\u001b[39;00m \u001b[39mTimeoutError\u001b[39;00m()\n",
      "File \u001b[0;32m~/anaconda3/envs/ml/lib/python3.9/concurrent/futures/_base.py:391\u001b[0m, in \u001b[0;36mFuture.__get_result\u001b[0;34m(self)\u001b[0m\n\u001b[1;32m    389\u001b[0m \u001b[39mif\u001b[39;00m \u001b[39mself\u001b[39m\u001b[39m.\u001b[39m_exception:\n\u001b[1;32m    390\u001b[0m     \u001b[39mtry\u001b[39;00m:\n\u001b[0;32m--> 391\u001b[0m         \u001b[39mraise\u001b[39;00m \u001b[39mself\u001b[39m\u001b[39m.\u001b[39m_exception\n\u001b[1;32m    392\u001b[0m     \u001b[39mfinally\u001b[39;00m:\n\u001b[1;32m    393\u001b[0m         \u001b[39m# Break a reference cycle with the exception in self._exception\u001b[39;00m\n\u001b[1;32m    394\u001b[0m         \u001b[39mself\u001b[39m \u001b[39m=\u001b[39m \u001b[39mNone\u001b[39;00m\n",
      "\u001b[0;31mOSError\u001b[0m: [Errno 28] No space left on device"
     ]
    }
   ],
   "source": [
    "plot_partial_dependence(model, X_test, X_test.columns, n_jobs=-1, grid_resolution=20)\n",
    "fig = plt.gcf()\n",
    "fig.suptitle('Partial dependence of beijing housing data')\n",
    "fig.subplots_adjust(wspace=0.4, hspace=0.8)\n",
    "plt.show()"
   ]
  }
 ],
 "metadata": {
  "kernelspec": {
   "display_name": "ml",
   "language": "python",
   "name": "python3"
  },
  "language_info": {
   "codemirror_mode": {
    "name": "ipython",
    "version": 3
   },
   "file_extension": ".py",
   "mimetype": "text/x-python",
   "name": "python",
   "nbconvert_exporter": "python",
   "pygments_lexer": "ipython3",
   "version": "3.9.15"
  },
  "orig_nbformat": 4,
  "vscode": {
   "interpreter": {
    "hash": "cc2a45e3fbce4b6543d23dc26118f7ddfe324ce24c6e6d9ef30373ad451ed07b"
   }
  }
 },
 "nbformat": 4,
 "nbformat_minor": 2
}
