{
 "cells": [
  {
   "cell_type": "markdown",
   "metadata": {},
   "source": [
    "# Preprocessing of the dataset"
   ]
  },
  {
   "cell_type": "markdown",
   "metadata": {},
   "source": [
    "The knowledge created on this dataset will be exported as transformers and saved on **libs/transformers.py** so it can be reusable in sklearn pipelines "
   ]
  },
  {
   "cell_type": "code",
   "execution_count": 420,
   "metadata": {},
   "outputs": [],
   "source": [
    "import sys\n",
    "import os\n",
    "sys.path.append(os.getcwd())\n",
    "\n",
    "import pandas as pd\n",
    "import numpy as np\n",
    "from sklearn.feature_selection import VarianceThreshold"
   ]
  },
  {
   "cell_type": "code",
   "execution_count": 421,
   "metadata": {},
   "outputs": [
    {
     "name": "stderr",
     "output_type": "stream",
     "text": [
      "/tmp/ipykernel_375354/809342345.py:1: DtypeWarning: Columns (1,11,12,14) have mixed types. Specify dtype option on import or set low_memory=False.\n",
      "  df = pd.read_csv('../beijing.csv', encoding=\"gbk\")\n"
     ]
    }
   ],
   "source": [
    "df = pd.read_csv('../beijing.csv', encoding=\"gbk\")"
   ]
  },
  {
   "cell_type": "markdown",
   "metadata": {},
   "source": [
    "# Deleting assured columns"
   ]
  },
  {
   "cell_type": "code",
   "execution_count": 422,
   "metadata": {},
   "outputs": [],
   "source": [
    "df.drop(['url'], axis=1, inplace=True)"
   ]
  },
  {
   "cell_type": "markdown",
   "metadata": {},
   "source": [
    "# Mutating or one-hot-encoding columns since string stuff "
   ]
  },
  {
   "cell_type": "code",
   "execution_count": 423,
   "metadata": {},
   "outputs": [],
   "source": [
    "# convert tradeTime date column to timestamp\n",
    "df['tradeTime'] = pd.to_datetime(df['tradeTime']).astype(int)/ 10**9"
   ]
  },
  {
   "cell_type": "code",
   "execution_count": 424,
   "metadata": {},
   "outputs": [],
   "source": [
    "# transforming id column to numeric\n",
    "df['id'] = df.index + 1"
   ]
  },
  {
   "cell_type": "code",
   "execution_count": 425,
   "metadata": {},
   "outputs": [
    {
     "data": {
      "text/plain": [
       "livingRoom\n",
       "0            11\n",
       "1         42138\n",
       "2         77256\n",
       "3         31567\n",
       "4          3349\n",
       "5           537\n",
       "6           126\n",
       "7            22\n",
       "8             3\n",
       "9             2\n",
       "#NAME?       32\n",
       "0            17\n",
       "1         40248\n",
       "2         83333\n",
       "3         36044\n",
       "4          3472\n",
       "5           570\n",
       "6           102\n",
       "7            15\n",
       "8             4\n",
       "9             3\n",
       "Name: id, dtype: int64"
      ]
     },
     "execution_count": 425,
     "metadata": {},
     "output_type": "execute_result"
    }
   ],
   "source": [
    "# This column unfortunately has the same labels as string and int object.\n",
    "# There is a label '#NAME?' which is not clear for what use it is. Since only 32 of them, we can fill it with the median if the column (Since discrete values)\n",
    "df.groupby('livingRoom')['id'].nunique()"
   ]
  },
  {
   "cell_type": "code",
   "execution_count": 426,
   "metadata": {},
   "outputs": [
    {
     "data": {
      "text/plain": [
       "livingRoom\n",
       "0        28\n",
       "1     82386\n",
       "2    160621\n",
       "3     67611\n",
       "4      6821\n",
       "5      1107\n",
       "6       228\n",
       "7        37\n",
       "8         7\n",
       "9         5\n",
       "Name: id, dtype: int64"
      ]
     },
     "execution_count": 426,
     "metadata": {},
     "output_type": "execute_result"
    }
   ],
   "source": [
    "def mapper(x):\n",
    "    if x == '#NAME?':\n",
    "        return np.nan\n",
    "    else: return int(x)\n",
    "df['livingRoom'] = df['livingRoom'].apply(mapper)\n",
    "df['livingRoom'].fillna(df['livingRoom'].median(), inplace=True)\n",
    "df['livingRoom'] = df['livingRoom'].astype(int)\n",
    "df.groupby('livingRoom')['id'].nunique()"
   ]
  },
  {
   "cell_type": "code",
   "execution_count": 427,
   "metadata": {},
   "outputs": [
    {
     "data": {
      "text/plain": [
       "drawingRoom\n",
       "0     19686\n",
       "1    225691\n",
       "2     72502\n",
       "3       918\n",
       "4        47\n",
       "5         7\n",
       "Name: id, dtype: int64"
      ]
     },
     "execution_count": 427,
     "metadata": {},
     "output_type": "execute_result"
    }
   ],
   "source": [
    "chars = ['中', '低', '底', '顶', '高']\n",
    "def mapper(x):\n",
    "    for c in chars:\n",
    "        if c in str(x):\n",
    "            return np.nan\n",
    "    return int(x)\n",
    "df['drawingRoom'] = df['drawingRoom'].apply(mapper)\n",
    "df['drawingRoom'].fillna(df['drawingRoom'].median(), inplace=True)\n",
    "df['drawingRoom'] = df['drawingRoom'].astype(int)\n",
    "df.groupby('drawingRoom')['id'].nunique()"
   ]
  },
  {
   "cell_type": "code",
   "execution_count": 428,
   "metadata": {},
   "outputs": [
    {
     "data": {
      "text/plain": [
       "bathRoom\n",
       "0          915\n",
       "1       261490\n",
       "2        52606\n",
       "3         3240\n",
       "4          489\n",
       "5           69\n",
       "6            9\n",
       "7            3\n",
       "1990         2\n",
       "1994         1\n",
       "1996         1\n",
       "2000         3\n",
       "2003         7\n",
       "2004         4\n",
       "2005         2\n",
       "2006         9\n",
       "2011         1\n",
       "Name: id, dtype: int64"
      ]
     },
     "execution_count": 428,
     "metadata": {},
     "output_type": "execute_result"
    }
   ],
   "source": [
    "chars = ['未知']\n",
    "def mapper(x):\n",
    "    for c in chars:\n",
    "        if c in str(x):\n",
    "            return np.nan\n",
    "    return int(x)\n",
    "df['bathRoom'] = df['bathRoom'].apply(mapper)\n",
    "df['bathRoom'].fillna(df['bathRoom'].median(), inplace=True)\n",
    "df['bathRoom'] = df['bathRoom'].astype(int)\n",
    "df.groupby('bathRoom')['id'].nunique()"
   ]
  },
  {
   "cell_type": "code",
   "execution_count": 429,
   "metadata": {},
   "outputs": [
    {
     "data": {
      "text/plain": [
       "floorType\n",
       "bottom     26080\n",
       "high       70094\n",
       "hybrid        15\n",
       "low        64136\n",
       "middle    119832\n",
       "steel         17\n",
       "top        37406\n",
       "Name: id, dtype: int64"
      ]
     },
     "execution_count": 429,
     "metadata": {},
     "output_type": "execute_result"
    }
   ],
   "source": [
    "df['floorType'] = df['floor'].copy()\n",
    "def mapper(x):\n",
    "    splitted = x.split(' ')\n",
    "    finalStr = x\n",
    "    if len(splitted) == 2:\n",
    "        finalStr = splitted[0]\n",
    "    translations = {\n",
    "        '中': 'middle',\n",
    "        '低': 'low',\n",
    "        '底': 'bottom',\n",
    "        '未知': np.nan,\n",
    "        '混合结构': 'hybrid',\n",
    "        '钢混结构': 'steel',\n",
    "        '顶': 'top',\n",
    "        '高': 'high'\n",
    "    }\n",
    "    return translations[finalStr]\n",
    "    \n",
    "df['floorType'] = df['floorType'].apply(mapper)\n",
    "df.groupby('floorType')['id'].nunique()"
   ]
  },
  {
   "cell_type": "code",
   "execution_count": 430,
   "metadata": {},
   "outputs": [],
   "source": [
    "def mapper(x):\n",
    "    splitted = x.split(' ')\n",
    "    if len(splitted) == 2:\n",
    "        return splitted[1]\n",
    "    else:\n",
    "        return np.nan\n",
    "df['floor'] = df['floor'].apply(mapper)\n",
    "df['floor'].fillna(df['floor'].median(), inplace=True)\n",
    "df['floor'] = df['floor'].astype(int)"
   ]
  },
  {
   "cell_type": "code",
   "execution_count": 431,
   "metadata": {},
   "outputs": [
    {
     "data": {
      "text/plain": [
       "floor\n",
       "1        332\n",
       "2        185\n",
       "3       1098\n",
       "4       3023\n",
       "5      13467\n",
       "6     107791\n",
       "7       9961\n",
       "8       2342\n",
       "9       7109\n",
       "10      5707\n",
       "11      9675\n",
       "12      9118\n",
       "13      4311\n",
       "14      8837\n",
       "15      7283\n",
       "16     15999\n",
       "17      5233\n",
       "18     23013\n",
       "19      4721\n",
       "20     10025\n",
       "21      9018\n",
       "22      9228\n",
       "23      3539\n",
       "24     13594\n",
       "25      6403\n",
       "26      6886\n",
       "27      4854\n",
       "28      7449\n",
       "29      1836\n",
       "30      2472\n",
       "31       670\n",
       "32      2477\n",
       "33       571\n",
       "34       555\n",
       "35         4\n",
       "36        12\n",
       "37        16\n",
       "42        34\n",
       "57         2\n",
       "63         1\n",
       "Name: id, dtype: int64"
      ]
     },
     "execution_count": 431,
     "metadata": {},
     "output_type": "execute_result"
    }
   ],
   "source": [
    "df.groupby('floor')['id'].nunique()"
   ]
  },
  {
   "cell_type": "code",
   "execution_count": 432,
   "metadata": {},
   "outputs": [
    {
     "data": {
      "text/plain": [
       "buildingType\n",
       "2       137\n",
       "3     59715\n",
       "4    172405\n",
       "Name: id, dtype: int64"
      ]
     },
     "execution_count": 432,
     "metadata": {},
     "output_type": "execute_result"
    }
   ],
   "source": [
    "df.groupby('buildingType')['id'].nunique()\n",
    "df = df[df['buildingType'] > 1]  \n",
    "df['buildingType'] = df['buildingType'].astype(int)\n",
    "df.groupby('buildingType')['id'].nunique()"
   ]
  },
  {
   "cell_type": "code",
   "execution_count": 433,
   "metadata": {},
   "outputs": [],
   "source": [
    "df.groupby('constructionTime')['id'].nunique()\n",
    "chars = ['未知']\n",
    "def mapper(x):\n",
    "    for c in chars:\n",
    "        if c in str(x):\n",
    "            return np.nan\n",
    "    return int(x)\n",
    "df['constructionTime'] = df['constructionTime'].apply(mapper)\n",
    "df['constructionTime'].fillna(df['constructionTime'].median(), inplace=True)\n",
    "df['constructionTime'] = df['constructionTime'].astype(int)"
   ]
  },
  {
   "cell_type": "code",
   "execution_count": 434,
   "metadata": {},
   "outputs": [
    {
     "name": "stdout",
     "output_type": "stream",
     "text": [
      "<class 'pandas.core.frame.DataFrame'>\n",
      "Int64Index: 232257 entries, 2 to 318850\n",
      "Data columns (total 26 columns):\n",
      " #   Column               Non-Null Count   Dtype  \n",
      "---  ------               --------------   -----  \n",
      " 0   id                   232257 non-null  int64  \n",
      " 1   Lng                  232257 non-null  float64\n",
      " 2   Lat                  232257 non-null  float64\n",
      " 3   Cid                  232257 non-null  int64  \n",
      " 4   tradeTime            232257 non-null  float64\n",
      " 5   DOM                  117692 non-null  float64\n",
      " 6   followers            232257 non-null  int64  \n",
      " 7   totalPrice           232257 non-null  float64\n",
      " 8   price                232257 non-null  int64  \n",
      " 9   square               232257 non-null  float64\n",
      " 10  livingRoom           232257 non-null  int64  \n",
      " 11  drawingRoom          232257 non-null  int64  \n",
      " 12  kitchen              232257 non-null  int64  \n",
      " 13  bathRoom             232257 non-null  int64  \n",
      " 14  floor                232257 non-null  int64  \n",
      " 15  buildingType         232257 non-null  int64  \n",
      " 16  constructionTime     232257 non-null  int64  \n",
      " 17  renovationCondition  232257 non-null  int64  \n",
      " 18  buildingStructure    232257 non-null  int64  \n",
      " 19  ladderRatio          232257 non-null  float64\n",
      " 20  elevator             232257 non-null  float64\n",
      " 21  fiveYearsProperty    232257 non-null  float64\n",
      " 22  subway               232257 non-null  float64\n",
      " 23  district             232257 non-null  int64  \n",
      " 24  communityAverage     231963 non-null  float64\n",
      " 25  floorType            231282 non-null  object \n",
      "dtypes: float64(11), int64(14), object(1)\n",
      "memory usage: 47.8+ MB\n"
     ]
    }
   ],
   "source": [
    "df.info()"
   ]
  },
  {
   "cell_type": "markdown",
   "metadata": {},
   "source": [
    "## Missing values"
   ]
  },
  {
   "cell_type": "code",
   "execution_count": 435,
   "metadata": {},
   "outputs": [
    {
     "data": {
      "text/plain": [
       "DOM                 True\n",
       "communityAverage    True\n",
       "floorType           True\n",
       "dtype: bool"
      ]
     },
     "execution_count": 435,
     "metadata": {},
     "output_type": "execute_result"
    }
   ],
   "source": [
    "missing=df.isnull().mean()>0 \n",
    "missing[missing == True]"
   ]
  },
  {
   "cell_type": "code",
   "execution_count": 436,
   "metadata": {},
   "outputs": [
    {
     "name": "stdout",
     "output_type": "stream",
     "text": [
      "<class 'pandas.core.frame.DataFrame'>\n",
      "Int64Index: 232257 entries, 2 to 318850\n",
      "Data columns (total 7 columns):\n",
      " #   Column             Non-Null Count   Dtype  \n",
      "---  ------             --------------   -----  \n",
      " 0   DOM                117692 non-null  float64\n",
      " 1   buildingType       232257 non-null  int64  \n",
      " 2   elevator           232257 non-null  float64\n",
      " 3   fiveYearsProperty  232257 non-null  float64\n",
      " 4   subway             232257 non-null  float64\n",
      " 5   communityAverage   231963 non-null  float64\n",
      " 6   totalPrice         232257 non-null  float64\n",
      "dtypes: float64(6), int64(1)\n",
      "memory usage: 14.2 MB\n"
     ]
    }
   ],
   "source": [
    "# dependant variables: DOM, buildingType, elevator, fiveYearsProperty, subway, communityAverage\n",
    "# target variable: totalPrice\n",
    "cols_to_use = ['DOM', 'buildingType', 'elevator', 'fiveYearsProperty', 'subway', 'communityAverage', 'totalPrice']\n",
    "data_simp = df[cols_to_use]\n",
    "data_simp.info()"
   ]
  },
  {
   "cell_type": "code",
   "execution_count": 437,
   "metadata": {},
   "outputs": [
    {
     "data": {
      "text/plain": [
       "DOM                  0.493268\n",
       "buildingType         0.000000\n",
       "elevator             0.000000\n",
       "fiveYearsProperty    0.000000\n",
       "subway               0.000000\n",
       "communityAverage     0.001266\n",
       "totalPrice           0.000000\n",
       "dtype: float64"
      ]
     },
     "execution_count": 437,
     "metadata": {},
     "output_type": "execute_result"
    }
   ],
   "source": [
    "data_simp.isnull().mean()"
   ]
  },
  {
   "cell_type": "code",
   "execution_count": 438,
   "metadata": {},
   "outputs": [],
   "source": [
    "df['DOM'].fillna(df['DOM'].median(), inplace=True)"
   ]
  },
  {
   "cell_type": "markdown",
   "metadata": {},
   "source": [
    "# Can i accept 0 as a value for these missing data?"
   ]
  },
  {
   "cell_type": "markdown",
   "metadata": {},
   "source": [
    "From the six variables, only one have a missinge percentage greater than 5%, the DOM variable\n",
    "- The DOM variable means **Active days on market** and it has a missing percentage of almost 50% but the .isnull function from pandas recognizes the value zero as null but zero may be an important label. It could mean that the property on sale could be zero active days on market. We need to find out if it is completely random or not. If it is not random, than probably some zeros are treated the same as null and as zero active days on market.\n",
    "\n",
    "Hypothesen:\n",
    " - H(null): The data was produced in a random manner.  \n",
    " - H(alternative): The data was not produced in a random manner."
   ]
  },
  {
   "cell_type": "code",
   "execution_count": 439,
   "metadata": {},
   "outputs": [
    {
     "name": "stdout",
     "output_type": "stream",
     "text": [
      "mean:  17.89306673211141\n"
     ]
    },
    {
     "data": {
      "text/plain": [
       "(-305.7147323550679, 0.0)"
      ]
     },
     "execution_count": 439,
     "metadata": {},
     "output_type": "execute_result"
    }
   ],
   "source": [
    "from statsmodels.sandbox.stats.runs import runstest_1samp\n",
    "\n",
    "dom_values = df['DOM'].to_list()\n",
    "print(\"mean: \", df['DOM'].mean())\n",
    "\n",
    "# Perform Runs test\n",
    "runstest_1samp(dom_values, cutoff=df['DOM'].mean())"
   ]
  },
  {
   "cell_type": "markdown",
   "metadata": {},
   "source": [
    "z_stat: -313.44; p-value: 0%  \n",
    "Since the p-value is smaller than 5%, we need to accept the null hypothesis. \n",
    "This means, that the zero values of DOM are randomly generated. Let's analyse further"
   ]
  },
  {
   "cell_type": "markdown",
   "metadata": {},
   "source": [
    "### Check for near-zero variance and eliminate columns with low variance"
   ]
  },
  {
   "cell_type": "code",
   "execution_count": 440,
   "metadata": {},
   "outputs": [
    {
     "name": "stderr",
     "output_type": "stream",
     "text": [
      "/tmp/ipykernel_375354/2452669276.py:2: FutureWarning: Dropping of nuisance columns in DataFrame reductions (with 'numeric_only=None') is deprecated; in a future version this will raise TypeError.  Select only valid columns before calling the reduction.\n",
      "  df.var()\n"
     ]
    },
    {
     "data": {
      "text/plain": [
       "id                     8.531541e+09\n",
       "Lng                    1.376536e-02\n",
       "Lat                    9.654671e-03\n",
       "Cid                    2.212686e+24\n",
       "tradeTime              2.680363e+15\n",
       "DOM                    1.347836e+03\n",
       "followers              1.182295e+03\n",
       "totalPrice             5.134979e+04\n",
       "price                  4.900779e+08\n",
       "square                 1.292596e+03\n",
       "livingRoom             5.834574e-01\n",
       "drawingRoom            2.619567e-01\n",
       "kitchen                1.034109e-02\n",
       "bathRoom               1.901105e-01\n",
       "floor                  4.100881e+01\n",
       "buildingType           1.927555e-01\n",
       "constructionTime       8.268303e+01\n",
       "renovationCondition    1.707553e+00\n",
       "buildingStructure      3.757172e+00\n",
       "ladderRatio            8.627309e+08\n",
       "elevator               2.454697e-01\n",
       "fiveYearsProperty      2.304293e-01\n",
       "subway                 2.460557e-01\n",
       "district               8.148298e+00\n",
       "communityAverage       5.383763e+08\n",
       "dtype: float64"
      ]
     },
     "execution_count": 440,
     "metadata": {},
     "output_type": "execute_result"
    }
   ],
   "source": [
    "# Get variance of each column\n",
    "df.var()"
   ]
  },
  {
   "cell_type": "code",
   "execution_count": 441,
   "metadata": {},
   "outputs": [
    {
     "ename": "ValueError",
     "evalue": "could not convert string to float: 'middle'",
     "output_type": "error",
     "traceback": [
      "\u001b[0;31m---------------------------------------------------------------------------\u001b[0m",
      "\u001b[0;31mValueError\u001b[0m                                Traceback (most recent call last)",
      "\u001b[0;32m/tmp/ipykernel_375354/3203014777.py\u001b[0m in \u001b[0;36m<module>\u001b[0;34m\u001b[0m\n\u001b[1;32m      1\u001b[0m \u001b[0mselector\u001b[0m \u001b[0;34m=\u001b[0m \u001b[0mVarianceThreshold\u001b[0m\u001b[0;34m(\u001b[0m\u001b[0mthreshold\u001b[0m\u001b[0;34m=\u001b[0m\u001b[0;36m0.05\u001b[0m\u001b[0;34m)\u001b[0m \u001b[0;31m# 0.05 is 5% of the variance of the column^\u001b[0m\u001b[0;34m\u001b[0m\u001b[0;34m\u001b[0m\u001b[0m\n\u001b[0;32m----> 2\u001b[0;31m \u001b[0mdf_filtered\u001b[0m \u001b[0;34m=\u001b[0m \u001b[0mselector\u001b[0m\u001b[0;34m.\u001b[0m\u001b[0mfit_transform\u001b[0m\u001b[0;34m(\u001b[0m\u001b[0mdf\u001b[0m\u001b[0;34m)\u001b[0m \u001b[0;31m# fit and transform the data\u001b[0m\u001b[0;34m\u001b[0m\u001b[0;34m\u001b[0m\u001b[0m\n\u001b[0m",
      "\u001b[0;32m~/.local/lib/python3.8/site-packages/sklearn/base.py\u001b[0m in \u001b[0;36mfit_transform\u001b[0;34m(self, X, y, **fit_params)\u001b[0m\n\u001b[1;32m    865\u001b[0m         \u001b[0;32mif\u001b[0m \u001b[0my\u001b[0m \u001b[0;32mis\u001b[0m \u001b[0;32mNone\u001b[0m\u001b[0;34m:\u001b[0m\u001b[0;34m\u001b[0m\u001b[0;34m\u001b[0m\u001b[0m\n\u001b[1;32m    866\u001b[0m             \u001b[0;31m# fit method of arity 1 (unsupervised transformation)\u001b[0m\u001b[0;34m\u001b[0m\u001b[0;34m\u001b[0m\u001b[0;34m\u001b[0m\u001b[0m\n\u001b[0;32m--> 867\u001b[0;31m             \u001b[0;32mreturn\u001b[0m \u001b[0mself\u001b[0m\u001b[0;34m.\u001b[0m\u001b[0mfit\u001b[0m\u001b[0;34m(\u001b[0m\u001b[0mX\u001b[0m\u001b[0;34m,\u001b[0m \u001b[0;34m**\u001b[0m\u001b[0mfit_params\u001b[0m\u001b[0;34m)\u001b[0m\u001b[0;34m.\u001b[0m\u001b[0mtransform\u001b[0m\u001b[0;34m(\u001b[0m\u001b[0mX\u001b[0m\u001b[0;34m)\u001b[0m\u001b[0;34m\u001b[0m\u001b[0;34m\u001b[0m\u001b[0m\n\u001b[0m\u001b[1;32m    868\u001b[0m         \u001b[0;32melse\u001b[0m\u001b[0;34m:\u001b[0m\u001b[0;34m\u001b[0m\u001b[0;34m\u001b[0m\u001b[0m\n\u001b[1;32m    869\u001b[0m             \u001b[0;31m# fit method of arity 2 (supervised transformation)\u001b[0m\u001b[0;34m\u001b[0m\u001b[0;34m\u001b[0m\u001b[0;34m\u001b[0m\u001b[0m\n",
      "\u001b[0;32m~/.local/lib/python3.8/site-packages/sklearn/feature_selection/_variance_threshold.py\u001b[0m in \u001b[0;36mfit\u001b[0;34m(self, X, y)\u001b[0m\n\u001b[1;32m     89\u001b[0m             \u001b[0mReturns\u001b[0m \u001b[0mthe\u001b[0m \u001b[0minstance\u001b[0m \u001b[0mitself\u001b[0m\u001b[0;34m.\u001b[0m\u001b[0;34m\u001b[0m\u001b[0;34m\u001b[0m\u001b[0m\n\u001b[1;32m     90\u001b[0m         \"\"\"\n\u001b[0;32m---> 91\u001b[0;31m         X = self._validate_data(\n\u001b[0m\u001b[1;32m     92\u001b[0m             \u001b[0mX\u001b[0m\u001b[0;34m,\u001b[0m\u001b[0;34m\u001b[0m\u001b[0;34m\u001b[0m\u001b[0m\n\u001b[1;32m     93\u001b[0m             \u001b[0maccept_sparse\u001b[0m\u001b[0;34m=\u001b[0m\u001b[0;34m(\u001b[0m\u001b[0;34m\"csr\"\u001b[0m\u001b[0;34m,\u001b[0m \u001b[0;34m\"csc\"\u001b[0m\u001b[0;34m)\u001b[0m\u001b[0;34m,\u001b[0m\u001b[0;34m\u001b[0m\u001b[0;34m\u001b[0m\u001b[0m\n",
      "\u001b[0;32m~/.local/lib/python3.8/site-packages/sklearn/base.py\u001b[0m in \u001b[0;36m_validate_data\u001b[0;34m(self, X, y, reset, validate_separately, **check_params)\u001b[0m\n\u001b[1;32m    575\u001b[0m             \u001b[0;32mraise\u001b[0m \u001b[0mValueError\u001b[0m\u001b[0;34m(\u001b[0m\u001b[0;34m\"Validation should be done on X, y or both.\"\u001b[0m\u001b[0;34m)\u001b[0m\u001b[0;34m\u001b[0m\u001b[0;34m\u001b[0m\u001b[0m\n\u001b[1;32m    576\u001b[0m         \u001b[0;32melif\u001b[0m \u001b[0;32mnot\u001b[0m \u001b[0mno_val_X\u001b[0m \u001b[0;32mand\u001b[0m \u001b[0mno_val_y\u001b[0m\u001b[0;34m:\u001b[0m\u001b[0;34m\u001b[0m\u001b[0;34m\u001b[0m\u001b[0m\n\u001b[0;32m--> 577\u001b[0;31m             \u001b[0mX\u001b[0m \u001b[0;34m=\u001b[0m \u001b[0mcheck_array\u001b[0m\u001b[0;34m(\u001b[0m\u001b[0mX\u001b[0m\u001b[0;34m,\u001b[0m \u001b[0minput_name\u001b[0m\u001b[0;34m=\u001b[0m\u001b[0;34m\"X\"\u001b[0m\u001b[0;34m,\u001b[0m \u001b[0;34m**\u001b[0m\u001b[0mcheck_params\u001b[0m\u001b[0;34m)\u001b[0m\u001b[0;34m\u001b[0m\u001b[0;34m\u001b[0m\u001b[0m\n\u001b[0m\u001b[1;32m    578\u001b[0m             \u001b[0mout\u001b[0m \u001b[0;34m=\u001b[0m \u001b[0mX\u001b[0m\u001b[0;34m\u001b[0m\u001b[0;34m\u001b[0m\u001b[0m\n\u001b[1;32m    579\u001b[0m         \u001b[0;32melif\u001b[0m \u001b[0mno_val_X\u001b[0m \u001b[0;32mand\u001b[0m \u001b[0;32mnot\u001b[0m \u001b[0mno_val_y\u001b[0m\u001b[0;34m:\u001b[0m\u001b[0;34m\u001b[0m\u001b[0;34m\u001b[0m\u001b[0m\n",
      "\u001b[0;32m~/.local/lib/python3.8/site-packages/sklearn/utils/validation.py\u001b[0m in \u001b[0;36mcheck_array\u001b[0;34m(array, accept_sparse, accept_large_sparse, dtype, order, copy, force_all_finite, ensure_2d, allow_nd, ensure_min_samples, ensure_min_features, estimator, input_name)\u001b[0m\n\u001b[1;32m    854\u001b[0m                     \u001b[0marray\u001b[0m \u001b[0;34m=\u001b[0m \u001b[0marray\u001b[0m\u001b[0;34m.\u001b[0m\u001b[0mastype\u001b[0m\u001b[0;34m(\u001b[0m\u001b[0mdtype\u001b[0m\u001b[0;34m,\u001b[0m \u001b[0mcasting\u001b[0m\u001b[0;34m=\u001b[0m\u001b[0;34m\"unsafe\"\u001b[0m\u001b[0;34m,\u001b[0m \u001b[0mcopy\u001b[0m\u001b[0;34m=\u001b[0m\u001b[0;32mFalse\u001b[0m\u001b[0;34m)\u001b[0m\u001b[0;34m\u001b[0m\u001b[0;34m\u001b[0m\u001b[0m\n\u001b[1;32m    855\u001b[0m                 \u001b[0;32melse\u001b[0m\u001b[0;34m:\u001b[0m\u001b[0;34m\u001b[0m\u001b[0;34m\u001b[0m\u001b[0m\n\u001b[0;32m--> 856\u001b[0;31m                     \u001b[0marray\u001b[0m \u001b[0;34m=\u001b[0m \u001b[0mnp\u001b[0m\u001b[0;34m.\u001b[0m\u001b[0masarray\u001b[0m\u001b[0;34m(\u001b[0m\u001b[0marray\u001b[0m\u001b[0;34m,\u001b[0m \u001b[0morder\u001b[0m\u001b[0;34m=\u001b[0m\u001b[0morder\u001b[0m\u001b[0;34m,\u001b[0m \u001b[0mdtype\u001b[0m\u001b[0;34m=\u001b[0m\u001b[0mdtype\u001b[0m\u001b[0;34m)\u001b[0m\u001b[0;34m\u001b[0m\u001b[0;34m\u001b[0m\u001b[0m\n\u001b[0m\u001b[1;32m    857\u001b[0m             \u001b[0;32mexcept\u001b[0m \u001b[0mComplexWarning\u001b[0m \u001b[0;32mas\u001b[0m \u001b[0mcomplex_warning\u001b[0m\u001b[0;34m:\u001b[0m\u001b[0;34m\u001b[0m\u001b[0;34m\u001b[0m\u001b[0m\n\u001b[1;32m    858\u001b[0m                 raise ValueError(\n",
      "\u001b[0;32m~/.local/lib/python3.8/site-packages/pandas/core/generic.py\u001b[0m in \u001b[0;36m__array__\u001b[0;34m(self, dtype)\u001b[0m\n\u001b[1;32m   2070\u001b[0m \u001b[0;34m\u001b[0m\u001b[0m\n\u001b[1;32m   2071\u001b[0m     \u001b[0;32mdef\u001b[0m \u001b[0m__array__\u001b[0m\u001b[0;34m(\u001b[0m\u001b[0mself\u001b[0m\u001b[0;34m,\u001b[0m \u001b[0mdtype\u001b[0m\u001b[0;34m:\u001b[0m \u001b[0mnpt\u001b[0m\u001b[0;34m.\u001b[0m\u001b[0mDTypeLike\u001b[0m \u001b[0;34m|\u001b[0m \u001b[0;32mNone\u001b[0m \u001b[0;34m=\u001b[0m \u001b[0;32mNone\u001b[0m\u001b[0;34m)\u001b[0m \u001b[0;34m->\u001b[0m \u001b[0mnp\u001b[0m\u001b[0;34m.\u001b[0m\u001b[0mndarray\u001b[0m\u001b[0;34m:\u001b[0m\u001b[0;34m\u001b[0m\u001b[0;34m\u001b[0m\u001b[0m\n\u001b[0;32m-> 2072\u001b[0;31m         \u001b[0;32mreturn\u001b[0m \u001b[0mnp\u001b[0m\u001b[0;34m.\u001b[0m\u001b[0masarray\u001b[0m\u001b[0;34m(\u001b[0m\u001b[0mself\u001b[0m\u001b[0;34m.\u001b[0m\u001b[0m_values\u001b[0m\u001b[0;34m,\u001b[0m \u001b[0mdtype\u001b[0m\u001b[0;34m=\u001b[0m\u001b[0mdtype\u001b[0m\u001b[0;34m)\u001b[0m\u001b[0;34m\u001b[0m\u001b[0;34m\u001b[0m\u001b[0m\n\u001b[0m\u001b[1;32m   2073\u001b[0m \u001b[0;34m\u001b[0m\u001b[0m\n\u001b[1;32m   2074\u001b[0m     def __array_wrap__(\n",
      "\u001b[0;31mValueError\u001b[0m: could not convert string to float: 'middle'"
     ]
    }
   ],
   "source": [
    "selector = VarianceThreshold(threshold=0.05) # 0.05 is 5% of the variance of the column^\n",
    "df_filtered = selector.fit_transform(df) # fit and transform the data"
   ]
  },
  {
   "cell_type": "code",
   "execution_count": null,
   "metadata": {},
   "outputs": [
    {
     "ename": "AttributeError",
     "evalue": "'VarianceThreshold' object has no attribute 'var'",
     "output_type": "error",
     "traceback": [
      "\u001b[0;31m---------------------------------------------------------------------------\u001b[0m",
      "\u001b[0;31mAttributeError\u001b[0m                            Traceback (most recent call last)",
      "\u001b[0;32m/tmp/ipykernel_10670/598807585.py\u001b[0m in \u001b[0;36m<module>\u001b[0;34m\u001b[0m\n\u001b[0;32m----> 1\u001b[0;31m \u001b[0mdf_filtered\u001b[0m\u001b[0;34m.\u001b[0m\u001b[0mvar\u001b[0m\u001b[0;34m(\u001b[0m\u001b[0;34m)\u001b[0m\u001b[0;34m\u001b[0m\u001b[0;34m\u001b[0m\u001b[0m\n\u001b[0m",
      "\u001b[0;31mAttributeError\u001b[0m: 'VarianceThreshold' object has no attribute 'var'"
     ]
    }
   ],
   "source": [
    "df_filtered"
   ]
  }
 ],
 "metadata": {
  "kernelspec": {
   "display_name": "Python 3.8.10 64-bit",
   "language": "python",
   "name": "python3"
  },
  "language_info": {
   "codemirror_mode": {
    "name": "ipython",
    "version": 3
   },
   "file_extension": ".py",
   "mimetype": "text/x-python",
   "name": "python",
   "nbconvert_exporter": "python",
   "pygments_lexer": "ipython3",
   "version": "3.8.10"
  },
  "orig_nbformat": 4,
  "vscode": {
   "interpreter": {
    "hash": "31f2aee4e71d21fbe5cf8b01ff0e069b9275f58929596ceb00d14d90e3e16cd6"
   }
  }
 },
 "nbformat": 4,
 "nbformat_minor": 2
}
