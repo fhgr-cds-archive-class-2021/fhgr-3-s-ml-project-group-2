{
 "cells": [
  {
   "attachments": {},
   "cell_type": "markdown",
   "id": "03d8ade0",
   "metadata": {},
   "source": [
    "# Beijing Housing Deep Learning - Leandro Gregorini"
   ]
  },
  {
   "attachments": {},
   "cell_type": "markdown",
   "id": "9ed24bd3",
   "metadata": {},
   "source": [
    ">Environment to run this notebook is available at **environment.yml**"
   ]
  },
  {
   "cell_type": "markdown",
   "id": "e4a79bbe",
   "metadata": {},
   "source": [
    "## Inhaltsverzeichnis"
   ]
  },
  {
   "attachments": {},
   "cell_type": "markdown",
   "id": "b256f022",
   "metadata": {},
   "source": [
    "* [Imports](#Imports)\n",
    "* [Analyse](#Analyse)\n",
    "* [Modell](#Modell)\n",
    "    * [Datensatz laden](#DatensatzLaden)\n",
    "    * [Feature Importance](#FeatureImportance)\n",
    "    * [Daten vorbereiten](#DatenVorbereiten)\n",
    "    * [Optimizer vorbereiten](#OptimizerVorbereiten)\n",
    "    * [Modell initialisieren](#ModellInitialisieren)\n",
    "    * [Modell visualisieren](#ModellVisualisieren)\n",
    "    * [Modell erstellen](#ModellErstellen)\n",
    "    * [Modell evaluieren](#ModellEvaluieren)\n",
    "    * [Modell optimieren](#ModellOptimieren)"
   ]
  },
  {
   "attachments": {},
   "cell_type": "markdown",
   "id": "6073a232",
   "metadata": {},
   "source": [
    "## Imports <a class=\"anchor\" id=\"Imports\"></a>"
   ]
  },
  {
   "cell_type": "code",
   "execution_count": 32,
   "id": "fa11181c",
   "metadata": {},
   "outputs": [
    {
     "name": "stdout",
     "output_type": "stream",
     "text": [
      "TensorFlow version: 2.4.1\n"
     ]
    }
   ],
   "source": [
    "# deep learning libraries\n",
    "import tensorflow as tf\n",
    "print(\"TensorFlow version:\", tf.__version__)\n",
    "import keras\n",
    "import keras_tuner\n",
    "from tensorflow.keras import regularizers\n",
    "\n",
    "# machine learning libraries\n",
    "import sklearn\n",
    "from sklearn.model_selection import train_test_split\n",
    "from sklearn.ensemble import GradientBoostingRegressor\n",
    "from sklearn.compose import ColumnTransformer\n",
    "from sklearn.preprocessing import StandardScaler\n",
    "\n",
    "# data handling\n",
    "import numpy as np\n",
    "import pandas as pd\n",
    "\n",
    "# visualisierung\n",
    "%matplotlib inline\n",
    "import matplotlib.pyplot as plt\n",
    "import pydot\n",
    "import graphviz\n",
    "from keras.utils.vis_utils import plot_model\n",
    "from keras_visualizer import visualizer"
   ]
  },
  {
   "cell_type": "code",
   "execution_count": 3,
   "id": "98f18f2e",
   "metadata": {},
   "outputs": [],
   "source": [
    "#run_count = 0"
   ]
  },
  {
   "cell_type": "code",
   "execution_count": 4,
   "id": "d559e18f",
   "metadata": {},
   "outputs": [
    {
     "name": "stdout",
     "output_type": "stream",
     "text": [
      "run_count: 1\n"
     ]
    }
   ],
   "source": [
    "# run count for documentation purposes and figure naming\n",
    "try:\n",
    "    run_count\n",
    "except NameError:\n",
    "    run_count = 0\n",
    "\n",
    "run_count += 1\n",
    "\n",
    "print(\"run_count:\", run_count)"
   ]
  },
  {
   "cell_type": "markdown",
   "id": "ee5db017",
   "metadata": {},
   "source": [
    "---"
   ]
  },
  {
   "attachments": {},
   "cell_type": "markdown",
   "id": "ea5d3fa1",
   "metadata": {},
   "source": [
    "## Deep Learning Modell für den Beijing Datensatz <a class=\"anchor\" id=\"Modell\"></a>"
   ]
  },
  {
   "attachments": {},
   "cell_type": "markdown",
   "id": "53f9d68a",
   "metadata": {},
   "source": [
    "### Analyse der Parameter und Begründungen <a class=\"anchor\" id=\"Analyse\"></a>"
   ]
  },
  {
   "attachments": {},
   "cell_type": "markdown",
   "id": "595fef20",
   "metadata": {},
   "source": [
    "- **Hidden Layers**\n",
    "    - **Beschreibung**: <br>\n",
    "Die mittlere Schicht bzw. Schichten eines Deep Learning Netzwerks werden als \"Hidden Layers\" bezeichnet.\n",
    "Die Neuronen dieser Schichten sind weder \"Inputs\" noch \"Outputs\".\n",
    "Die notwendige Anzahl von Ebenen kann beliebig festgelegt werden und es ist oft schwer die \"beste\" Anzahl zu finden (oft werden jedoch 2 eingesetzt).\n",
    "<br><br>\n",
    "<br> Die gängigsten Fälle die eintreten:\n",
    "<br>- 0 Hidden Layers: Nur in der Lage linear trennbare Funktionen oder Entscheidungen darzustellen\n",
    "<br>- 1 Hidden Layer: Kann jede Funktion annähern, die eine kontinuierliche Abbildung von einem endlichen Raum zu einem anderen enthält\n",
    "<br>- 2 Hidden Layers: Kann mit rationalen Aktivierungsfunktionen eine beliebige Entscheidungsgrenze mit beliebiger Genauigkeit darstellen\n",
    "    <br><br>\n",
    "    - **Begründung der Auswahl** <br>\n",
    "Dieser Parameter wurde mit dem Hyperparameter-Tuning evaluiert (min 1, max 3 Hidden Layers).\n",
    "<br><br>\n",
    "- **Nodes**\n",
    "    - **Beschreibung** <br>\n",
    "Mit der Anzahl Nodes legt man fest, wie viele Neuronen in den verschiedenen Schichten eingesetzt werden. Die Input-Nodes ergeben sich aus der Problemstellung, im Fall vom MNIST Datensatz sind es 784 Neuronen (28x28), diese Zahl wird durch die Anzahl Pixel der Bilder vorgegeben. Die Output-Nodes werden ebenfalls auf die Problemstellung angepasst, im Fall vom MNIST Datensatz sind es 10 Neuronen, da man eine Zahl zwischen 0 und 10 vorhersagen möchte.\n",
    "<br><br>\n",
    "<br> Die Anzahl Hidden-Nodes können mit folgenden Faustregeln festgelegt werden:\n",
    "<br>- Die Anzahl der Hidden-Nodes sollte zwischen der Anzahl Nodes im Input- und Output Layer liegen\n",
    "<br>- Die Anzahl der Hidden-Nodes sollte 2/3 der Anzahl Nodes im Input Layer plus der Anzahl Nodes im Output Layer sein\n",
    "<br>- Die Anzahl der Hidden-Nodes sollte weniger als die doppelte Anzahl an Nodes im Input Layer sein.\n",
    "    <br><br>\n",
    "    - **Begründung der Auswahl** <br>\n",
    "Dieser Parameter wurde mit dem Hyperparameter-Tuning evaluiert, jenachdem wieviele Hidden Layers gewählt wurden.\n",
    "<br><br>\n",
    "- **Batches**\n",
    "    - **Beschreibung** <br>\n",
    "Die batch size definiert die Anzahl an Trainingsdaten, die durch das Netzwerk in einer \"Iteration\" weitergegeben werden.\n",
    "<br><br>\n",
    "Vorteile für das Verwenden einer batch size < Anzahl aller Trainingsdaten:\n",
    "<br>- Es erfordert weniger Speicher\n",
    "<br>- Typischerweise trainieren Netzwerke mit Mini-Batches schneller.\n",
    "<br>\n",
    "Nachteile:\n",
    "<br>- Umso kleiner der Batch ist, desto ungenauer wird die Schätzung des Gradienten sein. \n",
    "<br><br> Folgende Batch sizes können je nach Hardware eingesetzt werden:\n",
    "<br>- 1, 2, 4, 8, 16 - eher lange Trainingszeit\n",
    "<br>- 32 oder 64 - Beim Rechnen mit CPU\n",
    "<br>- 128 oder 256 - Beim Rechnen mit GPU\n",
    "    <br><br>\n",
    "    - **Begründung der Auswahl** <br>\n",
    "Es wurde eine Batchsize von 32 festgelegt (Standard-Wert).\n",
    "<br><br>\n",
    "- **Epochs**\n",
    "    - **Beschreibung** <br>\n",
    "Ein kompletter Durchlauf aller Input-Daten wird als Epoche bezeichnet. Dabei können die Input-Daten je nach Größe des Datensatzes auch in gleich große Gruppen (Batches) eingeteilt werden und das Training kann jeweils pro Batch durchgeführt werden.\n",
    "    <br><br>\n",
    "    - **Begründung der Auswahl** <br>\n",
    "Die Zahl der Epochen wird festgelegt auf 10-20, da mit mehr Epochen in diesem Fall keine noch besseren Ergebnisse erzielt werden konnten.\n",
    "<br><br>\n",
    "- **Activation function**\n",
    "    - **Beschreibung** <br>\n",
    "Die Wahl der Aktivierungsfunktion im Hidden Layer bestimmt, wie gut das Modell den Trainingsdatensatz erlernt.\n",
    "<br><br>\n",
    "Folgende Funktionen gibt es für die Hidden Layers:\n",
    "<br>- Rectified Linear Activation (ReLU)\n",
    "<br>- Logistic (Sigmoid)\n",
    "<br>- Hyperbolic Tangent (Tanh)\n",
    "<br><br>\n",
    "Folgende Funktionen gibt es für den Output Layer:\n",
    "<br>- Regression: linear\n",
    "<br>- Klassifikation: softmax oder sigmoid (sollte nur verwendet werden, wenn mehrere Outputs als \"richtige\" Antworten gelten sollen)\n",
    "    <br><br>\n",
    "    - **Begründung der Auswahl** <br>\n",
    "Dieser Parameter wurde mit dem Hyperparameter-Tuning evaluiert, zur Auswahl stehen tanh oder relu.\n",
    "<br><br>\n",
    "- **Regularization**\n",
    "    - **Beschreibung** <br>\n",
    "Mit Regularisierung möchte man Overfitting in neuronalen Netzen reduzieren und somit die Genauigkeit eines Deep Learning Modells bei Anwendung auf komplett neue Daten verbessern.\n",
    "<br><br>\n",
    "Es gibt verschiedene Arten der Regularisierung:\n",
    "<br>- L1-Regularisierung: Kann als eine Art Neuronenselektion betrachtet werden, da sie die Gewichte einiger versteckter Neuronen auf Null bringt.\n",
    "<br>- L2-Regularisierung: Die Werte der Gewichte werden gegen Null gebracht, was zu einem einfacheren Modell führt.\n",
    "<br>- Dropout: Die Idee der Dropout-Regularisierung besteht darin, einige Knoten nach dem Zufallsprinzip zu entfernen. Wie bei der L2-Regularisierung vereinfacht sich das Modell und die Komplexität wird somit reduziert.\n",
    "    <br><br>\n",
    "    - **Begründung der Auswahl** <br>\n",
    "Regularisierung wird vorerst nicht verwendet.\n",
    "<br><br>\n",
    "- **Optimizer**\n",
    "    - **Beschreibung** <br>\n",
    "Optimizer sind Algorithmen oder Methoden, die zur Minimierung einer Fehlerfunktion (Verlustfunktion) oder zur Maximierung der Effizienz eingesetzt werden (Oft \"Gradient descent\"). Optimizer sind mathematische Funktionen, die von den Parametern des Modells abhängen, d.h. von den weights und biases.\n",
    "<br> Im Keras Paket gibt es viele Optimizer, welche verwendet werden können, diese sind in der <a href=\"https://keras.io/api/optimizers/\">Dokumentation</a> genauer beschrieben.\n",
    "<br><br>\n",
    "Grobe Übersicht:\n",
    "<br>- Gradient Descent: Batch gradient descent, stochastic gradient descent, mini-batch gradient descent\n",
    "<br>- Adaptive: Adagrad, Adadelta, RMSprop, Adam\n",
    "    <br><br>\n",
    "    - **Begründung der Auswahl** <br>\n",
    "Als Optimizer wird RMSProp verwendet, dieser wurde entwickelt, um den Optimierungsprozess zu beschleunigen, z.B. um die Anzahl der Funktionsauswertungen zu verringern, die zum Erreichen des Optimums erforderlich sind, oder um die Leistungsfähigkeit des Optimierungsalgorithmus zu verbessern. Es handelt sich dabei um einen Adaptiven Optimizer."
   ]
  },
  {
   "attachments": {},
   "cell_type": "markdown",
   "id": "7d1d8991",
   "metadata": {},
   "source": [
    "---"
   ]
  },
  {
   "attachments": {},
   "cell_type": "markdown",
   "id": "b2a0ba65",
   "metadata": {},
   "source": [
    "### Datensatz laden <a class=\"anchor\" id=\"DatensatzLaden\"></a>"
   ]
  },
  {
   "cell_type": "code",
   "execution_count": 52,
   "id": "a9e959ba",
   "metadata": {},
   "outputs": [],
   "source": [
    "# Preprocessed Daten laden\n",
    "trainDF = pd.read_csv('../../app/data/02_train.csv', sep=';')\n",
    "testDF = pd.read_csv('../../app/data/02_test.csv', sep=';')"
   ]
  },
  {
   "cell_type": "code",
   "execution_count": 53,
   "id": "ed3f9406",
   "metadata": {},
   "outputs": [
    {
     "data": {
      "text/html": [
       "<div>\n",
       "<style scoped>\n",
       "    .dataframe tbody tr th:only-of-type {\n",
       "        vertical-align: middle;\n",
       "    }\n",
       "\n",
       "    .dataframe tbody tr th {\n",
       "        vertical-align: top;\n",
       "    }\n",
       "\n",
       "    .dataframe thead th {\n",
       "        text-align: right;\n",
       "    }\n",
       "</style>\n",
       "<table border=\"1\" class=\"dataframe\">\n",
       "  <thead>\n",
       "    <tr style=\"text-align: right;\">\n",
       "      <th></th>\n",
       "      <th>Lng</th>\n",
       "      <th>Lat</th>\n",
       "      <th>square</th>\n",
       "      <th>livingRoom</th>\n",
       "      <th>drawingRoom</th>\n",
       "      <th>kitchen</th>\n",
       "      <th>bathRoom</th>\n",
       "      <th>floor</th>\n",
       "      <th>buildingType</th>\n",
       "      <th>renovationCondition</th>\n",
       "      <th>...</th>\n",
       "      <th>placeRank</th>\n",
       "      <th>town</th>\n",
       "      <th>districtPopulation</th>\n",
       "      <th>districtArea</th>\n",
       "      <th>tradeYear</th>\n",
       "      <th>tradeMonth</th>\n",
       "      <th>tradeDay</th>\n",
       "      <th>floorType</th>\n",
       "      <th>constructionTimePeriod</th>\n",
       "      <th>totalPrice</th>\n",
       "    </tr>\n",
       "  </thead>\n",
       "  <tbody>\n",
       "    <tr>\n",
       "      <th>0</th>\n",
       "      <td>116.346109</td>\n",
       "      <td>39.756539</td>\n",
       "      <td>73.61</td>\n",
       "      <td>3</td>\n",
       "      <td>1</td>\n",
       "      <td>1</td>\n",
       "      <td>1</td>\n",
       "      <td>6</td>\n",
       "      <td>118742</td>\n",
       "      <td>53150</td>\n",
       "      <td>...</td>\n",
       "      <td>133606</td>\n",
       "      <td>219943</td>\n",
       "      <td>1993591.0</td>\n",
       "      <td>1012.0</td>\n",
       "      <td>2017</td>\n",
       "      <td>8</td>\n",
       "      <td>6</td>\n",
       "      <td>82499</td>\n",
       "      <td>136686</td>\n",
       "      <td>347.0</td>\n",
       "    </tr>\n",
       "    <tr>\n",
       "      <th>1</th>\n",
       "      <td>116.423426</td>\n",
       "      <td>39.964365</td>\n",
       "      <td>58.29</td>\n",
       "      <td>2</td>\n",
       "      <td>1</td>\n",
       "      <td>1</td>\n",
       "      <td>1</td>\n",
       "      <td>5</td>\n",
       "      <td>118742</td>\n",
       "      <td>81641</td>\n",
       "      <td>...</td>\n",
       "      <td>133606</td>\n",
       "      <td>219943</td>\n",
       "      <td>3452460.0</td>\n",
       "      <td>470.8</td>\n",
       "      <td>2013</td>\n",
       "      <td>5</td>\n",
       "      <td>14</td>\n",
       "      <td>82499</td>\n",
       "      <td>136686</td>\n",
       "      <td>317.0</td>\n",
       "    </tr>\n",
       "    <tr>\n",
       "      <th>2</th>\n",
       "      <td>116.513137</td>\n",
       "      <td>39.978272</td>\n",
       "      <td>94.47</td>\n",
       "      <td>2</td>\n",
       "      <td>1</td>\n",
       "      <td>1</td>\n",
       "      <td>1</td>\n",
       "      <td>9</td>\n",
       "      <td>118742</td>\n",
       "      <td>81641</td>\n",
       "      <td>...</td>\n",
       "      <td>133606</td>\n",
       "      <td>219943</td>\n",
       "      <td>3452460.0</td>\n",
       "      <td>470.8</td>\n",
       "      <td>2012</td>\n",
       "      <td>12</td>\n",
       "      <td>29</td>\n",
       "      <td>18058</td>\n",
       "      <td>136686</td>\n",
       "      <td>301.5</td>\n",
       "    </tr>\n",
       "    <tr>\n",
       "      <th>3</th>\n",
       "      <td>116.473376</td>\n",
       "      <td>39.875385</td>\n",
       "      <td>131.63</td>\n",
       "      <td>3</td>\n",
       "      <td>1</td>\n",
       "      <td>1</td>\n",
       "      <td>2</td>\n",
       "      <td>22</td>\n",
       "      <td>58087</td>\n",
       "      <td>53150</td>\n",
       "      <td>...</td>\n",
       "      <td>81988</td>\n",
       "      <td>219943</td>\n",
       "      <td>3452460.0</td>\n",
       "      <td>470.8</td>\n",
       "      <td>2015</td>\n",
       "      <td>4</td>\n",
       "      <td>9</td>\n",
       "      <td>25725</td>\n",
       "      <td>136686</td>\n",
       "      <td>405.0</td>\n",
       "    </tr>\n",
       "    <tr>\n",
       "      <th>4</th>\n",
       "      <td>116.471931</td>\n",
       "      <td>40.008739</td>\n",
       "      <td>103.14</td>\n",
       "      <td>3</td>\n",
       "      <td>2</td>\n",
       "      <td>1</td>\n",
       "      <td>1</td>\n",
       "      <td>18</td>\n",
       "      <td>58087</td>\n",
       "      <td>53150</td>\n",
       "      <td>...</td>\n",
       "      <td>81988</td>\n",
       "      <td>219943</td>\n",
       "      <td>3452460.0</td>\n",
       "      <td>470.8</td>\n",
       "      <td>2017</td>\n",
       "      <td>12</td>\n",
       "      <td>7</td>\n",
       "      <td>82499</td>\n",
       "      <td>136686</td>\n",
       "      <td>670.0</td>\n",
       "    </tr>\n",
       "  </tbody>\n",
       "</table>\n",
       "<p>5 rows × 27 columns</p>\n",
       "</div>"
      ],
      "text/plain": [
       "          Lng        Lat  square  livingRoom  drawingRoom  kitchen  bathRoom  \\\n",
       "0  116.346109  39.756539   73.61           3            1        1         1   \n",
       "1  116.423426  39.964365   58.29           2            1        1         1   \n",
       "2  116.513137  39.978272   94.47           2            1        1         1   \n",
       "3  116.473376  39.875385  131.63           3            1        1         2   \n",
       "4  116.471931  40.008739  103.14           3            2        1         1   \n",
       "\n",
       "   floor  buildingType  renovationCondition  ...  placeRank    town  \\\n",
       "0      6        118742                53150  ...     133606  219943   \n",
       "1      5        118742                81641  ...     133606  219943   \n",
       "2      9        118742                81641  ...     133606  219943   \n",
       "3     22         58087                53150  ...      81988  219943   \n",
       "4     18         58087                53150  ...      81988  219943   \n",
       "\n",
       "   districtPopulation  districtArea  tradeYear  tradeMonth  tradeDay  \\\n",
       "0           1993591.0        1012.0       2017           8         6   \n",
       "1           3452460.0         470.8       2013           5        14   \n",
       "2           3452460.0         470.8       2012          12        29   \n",
       "3           3452460.0         470.8       2015           4         9   \n",
       "4           3452460.0         470.8       2017          12         7   \n",
       "\n",
       "   floorType  constructionTimePeriod  totalPrice  \n",
       "0      82499                  136686       347.0  \n",
       "1      82499                  136686       317.0  \n",
       "2      18058                  136686       301.5  \n",
       "3      25725                  136686       405.0  \n",
       "4      82499                  136686       670.0  \n",
       "\n",
       "[5 rows x 27 columns]"
      ]
     },
     "execution_count": 53,
     "metadata": {},
     "output_type": "execute_result"
    }
   ],
   "source": [
    "trainDF.head()"
   ]
  },
  {
   "cell_type": "code",
   "execution_count": 54,
   "id": "88b23dea",
   "metadata": {},
   "outputs": [],
   "source": [
    "x_train = trainDF.drop(['totalPrice'], axis=1)\n",
    "y_train = trainDF['totalPrice']\n",
    "x_test = testDF.drop(['totalPrice'], axis=1)\n",
    "y_test = testDF['totalPrice']"
   ]
  },
  {
   "cell_type": "code",
   "execution_count": 55,
   "id": "71f09262",
   "metadata": {},
   "outputs": [
    {
     "name": "stdout",
     "output_type": "stream",
     "text": [
      "Shape x_train : (219943, 26)\n",
      "Shape x_test : (94262, 26)\n",
      "Shape y_train : (219943,)\n",
      "Shape y_test : (94262,)\n"
     ]
    }
   ],
   "source": [
    "print(f'Shape x_train : {x_train.shape}')\n",
    "print(f'Shape x_test : {x_test.shape}')\n",
    "print(f'Shape y_train : {y_train.shape}')\n",
    "print(f'Shape y_test : {y_test.shape}')"
   ]
  },
  {
   "attachments": {},
   "cell_type": "markdown",
   "id": "55d96fcf",
   "metadata": {},
   "source": [
    "### Feature Importance <a class=\"anchor\" id=\"FeatureImportance\"></a>"
   ]
  },
  {
   "cell_type": "code",
   "execution_count": 9,
   "id": "73f75bfb",
   "metadata": {},
   "outputs": [
    {
     "name": "stdout",
     "output_type": "stream",
     "text": [
      "best_features: ['square', 'livingRoom', 'bathRoom', 'communityAverage', 'districtArea', 'tradeYear', 'tradeMonth']\n"
     ]
    },
    {
     "data": {
      "image/png": "[encoded data removed]",
      "text/plain": [
       "<Figure size 2000x800 with 1 Axes>"
      ]
     },
     "metadata": {},
     "output_type": "display_data"
    }
   ],
   "source": [
    "def plot_gb_feature_importance(gb_x_train, min_value=0):\n",
    "    gb = GradientBoostingRegressor(n_estimators=100)\n",
    "    gb.fit(gb_x_train, y_train.values.ravel())\n",
    "    gb_df = pd.DataFrame(gb.feature_importances_, index = gb_x_train.columns.to_list(), columns = ['feature_importance'])  # save scores to df    \n",
    "    filtered_gb_df = gb_df[gb_df[\"feature_importance\"]>min_value]\n",
    "    best_features = filtered_gb_df.index.to_list()\n",
    "\n",
    "    fig = plt.figure(figsize=(20,8))\n",
    "    plt.bar(filtered_gb_df.index, filtered_gb_df[\"feature_importance\"])\n",
    "    plt.title(\"Feature Importance\")\n",
    "    plt.plot()\n",
    "    return best_features\n",
    "\n",
    "features_to_analyze = x_train.columns.to_list()\n",
    "gb_x_train = x_train[features_to_analyze]\n",
    "best_features = plot_gb_feature_importance(gb_x_train=gb_x_train, min_value=0.001)\n",
    "print(\"best_features:\", best_features)"
   ]
  },
  {
   "cell_type": "code",
   "execution_count": 56,
   "id": "c9cae953",
   "metadata": {},
   "outputs": [],
   "source": [
    "x_train = x_train[best_features]\n",
    "x_test = x_test[best_features]"
   ]
  },
  {
   "cell_type": "code",
   "execution_count": 57,
   "id": "98cb2022",
   "metadata": {},
   "outputs": [
    {
     "data": {
      "text/html": [
       "<div>\n",
       "<style scoped>\n",
       "    .dataframe tbody tr th:only-of-type {\n",
       "        vertical-align: middle;\n",
       "    }\n",
       "\n",
       "    .dataframe tbody tr th {\n",
       "        vertical-align: top;\n",
       "    }\n",
       "\n",
       "    .dataframe thead th {\n",
       "        text-align: right;\n",
       "    }\n",
       "</style>\n",
       "<table border=\"1\" class=\"dataframe\">\n",
       "  <thead>\n",
       "    <tr style=\"text-align: right;\">\n",
       "      <th></th>\n",
       "      <th>square</th>\n",
       "      <th>livingRoom</th>\n",
       "      <th>bathRoom</th>\n",
       "      <th>communityAverage</th>\n",
       "      <th>districtArea</th>\n",
       "      <th>tradeYear</th>\n",
       "      <th>tradeMonth</th>\n",
       "    </tr>\n",
       "  </thead>\n",
       "  <tbody>\n",
       "    <tr>\n",
       "      <th>0</th>\n",
       "      <td>73.61</td>\n",
       "      <td>3</td>\n",
       "      <td>1</td>\n",
       "      <td>39243.0</td>\n",
       "      <td>1012.0</td>\n",
       "      <td>2017</td>\n",
       "      <td>8</td>\n",
       "    </tr>\n",
       "    <tr>\n",
       "      <th>1</th>\n",
       "      <td>58.29</td>\n",
       "      <td>2</td>\n",
       "      <td>1</td>\n",
       "      <td>92516.0</td>\n",
       "      <td>470.8</td>\n",
       "      <td>2013</td>\n",
       "      <td>5</td>\n",
       "    </tr>\n",
       "    <tr>\n",
       "      <th>2</th>\n",
       "      <td>94.47</td>\n",
       "      <td>2</td>\n",
       "      <td>1</td>\n",
       "      <td>73113.0</td>\n",
       "      <td>470.8</td>\n",
       "      <td>2012</td>\n",
       "      <td>12</td>\n",
       "    </tr>\n",
       "    <tr>\n",
       "      <th>3</th>\n",
       "      <td>131.63</td>\n",
       "      <td>3</td>\n",
       "      <td>2</td>\n",
       "      <td>54612.0</td>\n",
       "      <td>470.8</td>\n",
       "      <td>2015</td>\n",
       "      <td>4</td>\n",
       "    </tr>\n",
       "    <tr>\n",
       "      <th>4</th>\n",
       "      <td>103.14</td>\n",
       "      <td>3</td>\n",
       "      <td>1</td>\n",
       "      <td>57510.0</td>\n",
       "      <td>470.8</td>\n",
       "      <td>2017</td>\n",
       "      <td>12</td>\n",
       "    </tr>\n",
       "  </tbody>\n",
       "</table>\n",
       "</div>"
      ],
      "text/plain": [
       "   square  livingRoom  bathRoom  communityAverage  districtArea  tradeYear  \\\n",
       "0   73.61           3         1           39243.0        1012.0       2017   \n",
       "1   58.29           2         1           92516.0         470.8       2013   \n",
       "2   94.47           2         1           73113.0         470.8       2012   \n",
       "3  131.63           3         2           54612.0         470.8       2015   \n",
       "4  103.14           3         1           57510.0         470.8       2017   \n",
       "\n",
       "   tradeMonth  \n",
       "0           8  \n",
       "1           5  \n",
       "2          12  \n",
       "3           4  \n",
       "4          12  "
      ]
     },
     "execution_count": 57,
     "metadata": {},
     "output_type": "execute_result"
    }
   ],
   "source": [
    "x_train.head()"
   ]
  },
  {
   "attachments": {},
   "cell_type": "markdown",
   "id": "7cec9bd3",
   "metadata": {},
   "source": [
    "### Daten vorbereiten/skalieren <a class=\"anchor\" id=\"DatenVorbereiten\"></a>"
   ]
  },
  {
   "cell_type": "markdown",
   "id": "6eddd388",
   "metadata": {},
   "source": [
    "> Skalieren der Spalten mit kontinuierlichen Werten"
   ]
  },
  {
   "cell_type": "code",
   "execution_count": 58,
   "id": "89fcab0f",
   "metadata": {},
   "outputs": [],
   "source": [
    "col_names = ['square', 'communityAverage']\n",
    "x_train_features = x_train[col_names]\n",
    "x_test_features = x_test[col_names]\n",
    "\n",
    "scaler = StandardScaler().fit(x_train_features.values)  # Fit scaler on train data"
   ]
  },
  {
   "cell_type": "code",
   "execution_count": 59,
   "id": "243808f3",
   "metadata": {},
   "outputs": [],
   "source": [
    "# apply scaler to train/test data\n",
    "x_train_features_scaled = scaler.transform(x_train_features.values)\n",
    "x_train[col_names] = x_train_features_scaled\n",
    "x_test_features_scaled = scaler.transform(x_test_features.values)\n",
    "x_test[col_names] = x_test_features_scaled"
   ]
  },
  {
   "cell_type": "code",
   "execution_count": 60,
   "id": "2e180412",
   "metadata": {},
   "outputs": [
    {
     "data": {
      "text/html": [
       "<div>\n",
       "<style scoped>\n",
       "    .dataframe tbody tr th:only-of-type {\n",
       "        vertical-align: middle;\n",
       "    }\n",
       "\n",
       "    .dataframe tbody tr th {\n",
       "        vertical-align: top;\n",
       "    }\n",
       "\n",
       "    .dataframe thead th {\n",
       "        text-align: right;\n",
       "    }\n",
       "</style>\n",
       "<table border=\"1\" class=\"dataframe\">\n",
       "  <thead>\n",
       "    <tr style=\"text-align: right;\">\n",
       "      <th></th>\n",
       "      <th>square</th>\n",
       "      <th>livingRoom</th>\n",
       "      <th>bathRoom</th>\n",
       "      <th>communityAverage</th>\n",
       "      <th>districtArea</th>\n",
       "      <th>tradeYear</th>\n",
       "      <th>tradeMonth</th>\n",
       "    </tr>\n",
       "  </thead>\n",
       "  <tbody>\n",
       "    <tr>\n",
       "      <th>0</th>\n",
       "      <td>-0.259247</td>\n",
       "      <td>3</td>\n",
       "      <td>1</td>\n",
       "      <td>-1.099733</td>\n",
       "      <td>1012.0</td>\n",
       "      <td>2017</td>\n",
       "      <td>8</td>\n",
       "    </tr>\n",
       "    <tr>\n",
       "      <th>1</th>\n",
       "      <td>-0.668724</td>\n",
       "      <td>2</td>\n",
       "      <td>1</td>\n",
       "      <td>1.288390</td>\n",
       "      <td>470.8</td>\n",
       "      <td>2013</td>\n",
       "      <td>5</td>\n",
       "    </tr>\n",
       "    <tr>\n",
       "      <th>2</th>\n",
       "      <td>0.298304</td>\n",
       "      <td>2</td>\n",
       "      <td>1</td>\n",
       "      <td>0.418592</td>\n",
       "      <td>470.8</td>\n",
       "      <td>2012</td>\n",
       "      <td>12</td>\n",
       "    </tr>\n",
       "    <tr>\n",
       "      <th>3</th>\n",
       "      <td>1.291527</td>\n",
       "      <td>3</td>\n",
       "      <td>2</td>\n",
       "      <td>-0.410771</td>\n",
       "      <td>470.8</td>\n",
       "      <td>2015</td>\n",
       "      <td>4</td>\n",
       "    </tr>\n",
       "    <tr>\n",
       "      <th>4</th>\n",
       "      <td>0.530038</td>\n",
       "      <td>3</td>\n",
       "      <td>1</td>\n",
       "      <td>-0.280859</td>\n",
       "      <td>470.8</td>\n",
       "      <td>2017</td>\n",
       "      <td>12</td>\n",
       "    </tr>\n",
       "    <tr>\n",
       "      <th>...</th>\n",
       "      <td>...</td>\n",
       "      <td>...</td>\n",
       "      <td>...</td>\n",
       "      <td>...</td>\n",
       "      <td>...</td>\n",
       "      <td>...</td>\n",
       "      <td>...</td>\n",
       "    </tr>\n",
       "    <tr>\n",
       "      <th>219938</th>\n",
       "      <td>-0.690107</td>\n",
       "      <td>2</td>\n",
       "      <td>1</td>\n",
       "      <td>0.374840</td>\n",
       "      <td>470.8</td>\n",
       "      <td>2012</td>\n",
       "      <td>12</td>\n",
       "    </tr>\n",
       "    <tr>\n",
       "      <th>219939</th>\n",
       "      <td>-1.047998</td>\n",
       "      <td>1</td>\n",
       "      <td>1</td>\n",
       "      <td>-0.551576</td>\n",
       "      <td>426.0</td>\n",
       "      <td>2012</td>\n",
       "      <td>7</td>\n",
       "    </tr>\n",
       "    <tr>\n",
       "      <th>219940</th>\n",
       "      <td>1.465528</td>\n",
       "      <td>3</td>\n",
       "      <td>2</td>\n",
       "      <td>0.724050</td>\n",
       "      <td>426.0</td>\n",
       "      <td>2011</td>\n",
       "      <td>12</td>\n",
       "    </tr>\n",
       "    <tr>\n",
       "      <th>219941</th>\n",
       "      <td>0.363254</td>\n",
       "      <td>2</td>\n",
       "      <td>1</td>\n",
       "      <td>1.243158</td>\n",
       "      <td>46.5</td>\n",
       "      <td>2015</td>\n",
       "      <td>3</td>\n",
       "    </tr>\n",
       "    <tr>\n",
       "      <th>219942</th>\n",
       "      <td>-0.202850</td>\n",
       "      <td>2</td>\n",
       "      <td>1</td>\n",
       "      <td>0.366816</td>\n",
       "      <td>470.8</td>\n",
       "      <td>2015</td>\n",
       "      <td>7</td>\n",
       "    </tr>\n",
       "  </tbody>\n",
       "</table>\n",
       "<p>219943 rows × 7 columns</p>\n",
       "</div>"
      ],
      "text/plain": [
       "          square  livingRoom  bathRoom  communityAverage  districtArea  \\\n",
       "0      -0.259247           3         1         -1.099733        1012.0   \n",
       "1      -0.668724           2         1          1.288390         470.8   \n",
       "2       0.298304           2         1          0.418592         470.8   \n",
       "3       1.291527           3         2         -0.410771         470.8   \n",
       "4       0.530038           3         1         -0.280859         470.8   \n",
       "...          ...         ...       ...               ...           ...   \n",
       "219938 -0.690107           2         1          0.374840         470.8   \n",
       "219939 -1.047998           1         1         -0.551576         426.0   \n",
       "219940  1.465528           3         2          0.724050         426.0   \n",
       "219941  0.363254           2         1          1.243158          46.5   \n",
       "219942 -0.202850           2         1          0.366816         470.8   \n",
       "\n",
       "        tradeYear  tradeMonth  \n",
       "0            2017           8  \n",
       "1            2013           5  \n",
       "2            2012          12  \n",
       "3            2015           4  \n",
       "4            2017          12  \n",
       "...           ...         ...  \n",
       "219938       2012          12  \n",
       "219939       2012           7  \n",
       "219940       2011          12  \n",
       "219941       2015           3  \n",
       "219942       2015           7  \n",
       "\n",
       "[219943 rows x 7 columns]"
      ]
     },
     "execution_count": 60,
     "metadata": {},
     "output_type": "execute_result"
    }
   ],
   "source": [
    "x_train"
   ]
  },
  {
   "cell_type": "code",
   "execution_count": 61,
   "id": "c1aae4ab",
   "metadata": {},
   "outputs": [
    {
     "data": {
      "text/html": [
       "<div>\n",
       "<style scoped>\n",
       "    .dataframe tbody tr th:only-of-type {\n",
       "        vertical-align: middle;\n",
       "    }\n",
       "\n",
       "    .dataframe tbody tr th {\n",
       "        vertical-align: top;\n",
       "    }\n",
       "\n",
       "    .dataframe thead th {\n",
       "        text-align: right;\n",
       "    }\n",
       "</style>\n",
       "<table border=\"1\" class=\"dataframe\">\n",
       "  <thead>\n",
       "    <tr style=\"text-align: right;\">\n",
       "      <th></th>\n",
       "      <th>square</th>\n",
       "      <th>livingRoom</th>\n",
       "      <th>bathRoom</th>\n",
       "      <th>communityAverage</th>\n",
       "      <th>districtArea</th>\n",
       "      <th>tradeYear</th>\n",
       "      <th>tradeMonth</th>\n",
       "    </tr>\n",
       "  </thead>\n",
       "  <tbody>\n",
       "    <tr>\n",
       "      <th>0</th>\n",
       "      <td>0.553559</td>\n",
       "      <td>2</td>\n",
       "      <td>1</td>\n",
       "      <td>-1.138240</td>\n",
       "      <td>1430.0</td>\n",
       "      <td>2015</td>\n",
       "      <td>11</td>\n",
       "    </tr>\n",
       "    <tr>\n",
       "      <th>1</th>\n",
       "      <td>0.506785</td>\n",
       "      <td>2</td>\n",
       "      <td>1</td>\n",
       "      <td>-1.138240</td>\n",
       "      <td>1430.0</td>\n",
       "      <td>2013</td>\n",
       "      <td>7</td>\n",
       "    </tr>\n",
       "    <tr>\n",
       "      <th>2</th>\n",
       "      <td>-0.810117</td>\n",
       "      <td>2</td>\n",
       "      <td>2</td>\n",
       "      <td>0.623994</td>\n",
       "      <td>470.8</td>\n",
       "      <td>2016</td>\n",
       "      <td>10</td>\n",
       "    </tr>\n",
       "    <tr>\n",
       "      <th>3</th>\n",
       "      <td>-0.492050</td>\n",
       "      <td>2</td>\n",
       "      <td>1</td>\n",
       "      <td>0.524610</td>\n",
       "      <td>46.5</td>\n",
       "      <td>2016</td>\n",
       "      <td>7</td>\n",
       "    </tr>\n",
       "    <tr>\n",
       "      <th>4</th>\n",
       "      <td>-0.379792</td>\n",
       "      <td>2</td>\n",
       "      <td>1</td>\n",
       "      <td>-0.074964</td>\n",
       "      <td>46.5</td>\n",
       "      <td>2016</td>\n",
       "      <td>2</td>\n",
       "    </tr>\n",
       "    <tr>\n",
       "      <th>...</th>\n",
       "      <td>...</td>\n",
       "      <td>...</td>\n",
       "      <td>...</td>\n",
       "      <td>...</td>\n",
       "      <td>...</td>\n",
       "      <td>...</td>\n",
       "      <td>...</td>\n",
       "    </tr>\n",
       "    <tr>\n",
       "      <th>94257</th>\n",
       "      <td>0.750547</td>\n",
       "      <td>2</td>\n",
       "      <td>2</td>\n",
       "      <td>-0.506972</td>\n",
       "      <td>1430.0</td>\n",
       "      <td>2012</td>\n",
       "      <td>12</td>\n",
       "    </tr>\n",
       "    <tr>\n",
       "      <th>94258</th>\n",
       "      <td>0.376618</td>\n",
       "      <td>2</td>\n",
       "      <td>1</td>\n",
       "      <td>-1.070505</td>\n",
       "      <td>980.0</td>\n",
       "      <td>2013</td>\n",
       "      <td>10</td>\n",
       "    </tr>\n",
       "    <tr>\n",
       "      <th>94259</th>\n",
       "      <td>0.280664</td>\n",
       "      <td>3</td>\n",
       "      <td>1</td>\n",
       "      <td>0.265504</td>\n",
       "      <td>470.8</td>\n",
       "      <td>2012</td>\n",
       "      <td>8</td>\n",
       "    </tr>\n",
       "    <tr>\n",
       "      <th>94260</th>\n",
       "      <td>-0.455165</td>\n",
       "      <td>1</td>\n",
       "      <td>1</td>\n",
       "      <td>-0.696236</td>\n",
       "      <td>870.0</td>\n",
       "      <td>2015</td>\n",
       "      <td>8</td>\n",
       "    </tr>\n",
       "    <tr>\n",
       "      <th>94261</th>\n",
       "      <td>-0.954716</td>\n",
       "      <td>2</td>\n",
       "      <td>1</td>\n",
       "      <td>0.462613</td>\n",
       "      <td>40.6</td>\n",
       "      <td>2013</td>\n",
       "      <td>3</td>\n",
       "    </tr>\n",
       "  </tbody>\n",
       "</table>\n",
       "<p>94262 rows × 7 columns</p>\n",
       "</div>"
      ],
      "text/plain": [
       "         square  livingRoom  bathRoom  communityAverage  districtArea  \\\n",
       "0      0.553559           2         1         -1.138240        1430.0   \n",
       "1      0.506785           2         1         -1.138240        1430.0   \n",
       "2     -0.810117           2         2          0.623994         470.8   \n",
       "3     -0.492050           2         1          0.524610          46.5   \n",
       "4     -0.379792           2         1         -0.074964          46.5   \n",
       "...         ...         ...       ...               ...           ...   \n",
       "94257  0.750547           2         2         -0.506972        1430.0   \n",
       "94258  0.376618           2         1         -1.070505         980.0   \n",
       "94259  0.280664           3         1          0.265504         470.8   \n",
       "94260 -0.455165           1         1         -0.696236         870.0   \n",
       "94261 -0.954716           2         1          0.462613          40.6   \n",
       "\n",
       "       tradeYear  tradeMonth  \n",
       "0           2015          11  \n",
       "1           2013           7  \n",
       "2           2016          10  \n",
       "3           2016           7  \n",
       "4           2016           2  \n",
       "...          ...         ...  \n",
       "94257       2012          12  \n",
       "94258       2013          10  \n",
       "94259       2012           8  \n",
       "94260       2015           8  \n",
       "94261       2013           3  \n",
       "\n",
       "[94262 rows x 7 columns]"
      ]
     },
     "execution_count": 61,
     "metadata": {},
     "output_type": "execute_result"
    }
   ],
   "source": [
    "x_test"
   ]
  },
  {
   "attachments": {},
   "cell_type": "markdown",
   "id": "5974e500",
   "metadata": {},
   "source": [
    "### Optimizer vorbereiten <a class=\"anchor\" id=\"OptimizerVorbereiten\"></a>"
   ]
  },
  {
   "cell_type": "code",
   "execution_count": 62,
   "id": "5e309a89",
   "metadata": {},
   "outputs": [],
   "source": [
    "# Funktion für Optimizer je nach Auswahl in der Konfiguration\n",
    "def get_optimizer(optimizer_name, learning_rate):\n",
    "    #'sgd','rmsprop','adam','adagrad'\n",
    "    optimizer=None\n",
    "\n",
    "    if optimizer_name == 'adagrad':\n",
    "        optimizer = keras.optimizers.Adagrad(learning_rate=learning_rate)\n",
    "\n",
    "    elif 'rmsprop':\n",
    "        optimizer = keras.optimizers.RMSprop(learning_rate=learning_rate)\n",
    "\n",
    "    elif 'adam':\n",
    "        optimizer = keras.optimizers.Adam(learning_rate=learning_rate)\n",
    "\n",
    "    else:\n",
    "        optimizer = keras.optimizers.SGD(learning_rate=learning_rate)\n",
    "\n",
    "    return optimizer"
   ]
  },
  {
   "attachments": {},
   "cell_type": "markdown",
   "id": "b058c592",
   "metadata": {},
   "source": [
    "### Modell initialisieren - Base Model <a class=\"anchor\" id=\"ModellInitialisieren\"></a>"
   ]
  },
  {
   "attachments": {},
   "cell_type": "markdown",
   "id": "5650b482",
   "metadata": {},
   "source": [
    "> Hier wird ein erstes Modell vorbereitet um es später mit dem optimierten Modell vergleichen zu können"
   ]
  },
  {
   "cell_type": "markdown",
   "id": "0363980b",
   "metadata": {},
   "source": [
    "> Code-Snippets aus Kurs CDS-108 (siehe Referenzen unten im Dokument)"
   ]
  },
  {
   "cell_type": "code",
   "execution_count": 63,
   "id": "c2f77583",
   "metadata": {},
   "outputs": [],
   "source": [
    "# Konfiguration des Models (gespeichert in einem dict)\n",
    "model_config = {\n",
    "            \"INPUT_SHAPE\" : (x_train.shape[1],),                # Form des Inputs (Für Boston Housing: Anzahl features)\n",
    "            \"HIDDEN_NODES\" : [4,4],                             # Anzahl Neuronen im Hidde Layer (Es werden 2 Hidden-Layers eingesetzt) -> ungefähr 2/3 der Anzahl Input Nodes + Anzahl Output Nodes\n",
    "            \"HIDDEN_ACTIVATION\" : \"relu\",                       # Aktivierungsfunktion im Hidden Layer\n",
    "            \"OUTPUT_NODES\" : 1,                                 # Output nodes des Output Layers\n",
    "            \"OUTPUT_ACTIVATION\" : None,\n",
    "            \"WEIGHTS_INITIALIZER\" : \"random_normal\",            # Initialisierung der Gewichte\n",
    "            \"BIAS_INITIALIZER\" : \"ones\",                        # Initialisierung des Bias\n",
    "            \"OPTIMIZER\" : \"rmsprop\",                            # Root Mean Square Propagation\n",
    "            \"LEARNING_RATE\" : 0.001,                            # Lernrate für \"Gradient descent\" (0.01 oder 0.1 meist standard)\n",
    "            \"REGULARIZER\" : None,                               # Regularisierung (L1, L2)\n",
    "            \"DROPOUT_RATE\" : 0.25,                              # Regularisierung (Dropout)\n",
    "            \"DROPOUT\": True,                                    # Dropout verwenden oder nicht\n",
    "            \"EPOCHS\" : 10,                                      # Anzahl der Epochen, welche trainiert werden sollen\n",
    "            \"BATCH_SIZE\" : 32,                                  # Anzahl Daten pro batch\n",
    "            \"VALIDATION_SPLIT\" : 0.2,                           # Grösse des Validierungs-Datensatzes\n",
    "            \"VERBOSE\" : 1,                                      # Bestimmt die Ausgabe von Infos beim Tranieren des Modells (verbose=0: silent, verbose=1: animierte Anzeige, verbose=2: Zeigt nur die Anzahl Epochen an, welche abgearbeitet wurden)\n",
    "            \"LOSS_FUNCTION\" : \"mse\",                            # Kostenfunktion (MSE für Regression)\n",
    "            \"METRICS\" : [\"MeanSquaredError\"]                    # Optimierungs-Metrik\n",
    "            }"
   ]
  },
  {
   "cell_type": "code",
   "execution_count": 64,
   "id": "b5bdb05d",
   "metadata": {},
   "outputs": [],
   "source": [
    "def prepare_model(model_name, model_config):\n",
    "    model=tf.keras.models.Sequential(name=model_name)  # Keras Layers in sequentieller Ordnung aufbauen\n",
    "\n",
    "    for layer in range(len(model_config[\"HIDDEN_NODES\"])):  # Anzahl Hidden Layers\n",
    "        if layer == 0:\n",
    "            # Erster Hidden Layer und Input Layer hinzufügen\n",
    "            model.add(\n",
    "                    tf.keras.layers.Dense(units=model_config[\"HIDDEN_NODES\"][layer],\n",
    "                    input_shape=model_config[\"INPUT_SHAPE\"],\n",
    "                    name=\"Dense-Layer-\" + str(layer),\n",
    "                    kernel_initializer = model_config[\"WEIGHTS_INITIALIZER\"],\n",
    "                    bias_initializer = model_config[\"BIAS_INITIALIZER\"],\n",
    "                    kernel_regularizer=model_config[\"REGULARIZER\"],\n",
    "                    activation=model_config[\"HIDDEN_ACTIVATION\"]))\n",
    "        \n",
    "        else:\n",
    "            # Dropout Normalisierung\n",
    "            if model_config[\"DROPOUT\"]:\n",
    "                model.add(tf.keras.layers.Dropout(model_config[\"DROPOUT_RATE\"]))\n",
    "\n",
    "            # Weitere Hidden Layers hinzufügen\n",
    "            model.add(\n",
    "                    tf.keras.layers.Dense(units=model_config[\"HIDDEN_NODES\"][layer],\n",
    "                    name=\"Dense-Layer-\" + str(layer),\n",
    "                    kernel_initializer = model_config[\"WEIGHTS_INITIALIZER\"],\n",
    "                    bias_initializer = model_config[\"BIAS_INITIALIZER\"],\n",
    "                    kernel_regularizer=model_config[\"REGULARIZER\"],\n",
    "                    activation=model_config[\"HIDDEN_ACTIVATION\"]))\n",
    "\n",
    "\n",
    "    model.add(tf.keras.layers.Dense(model_config[\"OUTPUT_NODES\"],\n",
    "                    name=\"Output-Layer\",\n",
    "                    activation=model_config[\"OUTPUT_ACTIVATION\"]))\n",
    "\n",
    "    optimizer = get_optimizer(model_config[\"OPTIMIZER\"],\n",
    "                              model_config[\"LEARNING_RATE\"])\n",
    "\n",
    "    model.compile(loss=model_config[\"LOSS_FUNCTION\"],\n",
    "                  optimizer=optimizer,\n",
    "                   metrics=model_config[\"METRICS\"])\n",
    "    return model"
   ]
  },
  {
   "cell_type": "code",
   "execution_count": 65,
   "id": "cd20010b",
   "metadata": {},
   "outputs": [],
   "source": [
    "model = prepare_model(model_name = \"BEIJING-MODEL\", model_config = model_config)  # load/prepare model"
   ]
  },
  {
   "attachments": {},
   "cell_type": "markdown",
   "id": "da2ee646",
   "metadata": {},
   "source": [
    "### Modell visualisieren <a class=\"anchor\" id=\"ModellVisualisieren\"></a>"
   ]
  },
  {
   "cell_type": "code",
   "execution_count": 43,
   "id": "63907791",
   "metadata": {},
   "outputs": [],
   "source": [
    "visualizer(model, file_name=\"BEIJING-MODEL\", file_format='png')  # visualizer from keras_visualizer package"
   ]
  },
  {
   "attachments": {},
   "cell_type": "markdown",
   "id": "2e2d5a1a",
   "metadata": {},
   "source": [
    "<img src=\"BEIJING-MODEL.png\" style=\"width: 1000px\">"
   ]
  },
  {
   "cell_type": "code",
   "execution_count": 66,
   "id": "6f26aa5c",
   "metadata": {},
   "outputs": [
    {
     "data": {
      "image/png": "[encoded data removed]",
      "text/plain": [
       "<IPython.core.display.Image object>"
      ]
     },
     "execution_count": 66,
     "metadata": {},
     "output_type": "execute_result"
    }
   ],
   "source": [
    "plot_model(model, to_file=\"BEIJING-MODEL_KERAS.png\", show_shapes=True, show_layer_names=True)  # visualizer integrated in keras package"
   ]
  },
  {
   "attachments": {},
   "cell_type": "markdown",
   "id": "218fdad4",
   "metadata": {},
   "source": [
    "### Modell erstellen und trainieren <a class=\"anchor\" id=\"ModellErstellen\"></a>"
   ]
  },
  {
   "cell_type": "code",
   "execution_count": 67,
   "id": "af0cd9b7",
   "metadata": {},
   "outputs": [
    {
     "name": "stdout",
     "output_type": "stream",
     "text": [
      "Model: \"BEIJING-MODEL\"\n",
      "_________________________________________________________________\n",
      "Layer (type)                 Output Shape              Param #   \n",
      "=================================================================\n",
      "Dense-Layer-0 (Dense)        (None, 4)                 32        \n",
      "_________________________________________________________________\n",
      "dropout_2 (Dropout)          (None, 4)                 0         \n",
      "_________________________________________________________________\n",
      "Dense-Layer-1 (Dense)        (None, 4)                 20        \n",
      "_________________________________________________________________\n",
      "Output-Layer (Dense)         (None, 1)                 5         \n",
      "=================================================================\n",
      "Total params: 57\n",
      "Trainable params: 57\n",
      "Non-trainable params: 0\n",
      "_________________________________________________________________\n"
     ]
    }
   ],
   "source": [
    "model.summary()"
   ]
  },
  {
   "cell_type": "code",
   "execution_count": 68,
   "id": "3ebca25b",
   "metadata": {},
   "outputs": [],
   "source": [
    "def run_model(model, x_train, y_train, stratify):\n",
    "    X_train, X_val, Y_train, Y_val = train_test_split(\n",
    "                            x_train, y_train,\n",
    "                            stratify=stratify,\n",
    "                            test_size=model_config[\"VALIDATION_SPLIT\"])\n",
    "\n",
    "    history=model.fit(X_train,\n",
    "              Y_train,\n",
    "              batch_size=model_config[\"BATCH_SIZE\"],\n",
    "              epochs=model_config[\"EPOCHS\"],\n",
    "              verbose=model_config[\"VERBOSE\"],\n",
    "              validation_data= (X_val, Y_val))\n",
    "    return history, model, X_train, Y_train, X_val, Y_val"
   ]
  },
  {
   "cell_type": "code",
   "execution_count": 69,
   "id": "d073b859",
   "metadata": {},
   "outputs": [
    {
     "name": "stdout",
     "output_type": "stream",
     "text": [
      "Epoch 1/10\n",
      "5499/5499 [==============================] - 11s 2ms/step - loss: 67960.8945 - mean_squared_error: 67960.8945 - val_loss: 52343.6172 - val_mean_squared_error: 52343.6172\n",
      "Epoch 2/10\n",
      "5499/5499 [==============================] - 10s 2ms/step - loss: 50530.1782 - mean_squared_error: 50530.1782 - val_loss: 28811.7617 - val_mean_squared_error: 28811.7617\n",
      "Epoch 3/10\n",
      "5499/5499 [==============================] - 10s 2ms/step - loss: 32007.1488 - mean_squared_error: 32007.1488 - val_loss: 23489.7207 - val_mean_squared_error: 23489.7207\n",
      "Epoch 4/10\n",
      "5499/5499 [==============================] - 10s 2ms/step - loss: 27466.7415 - mean_squared_error: 27466.7415 - val_loss: 28079.0117 - val_mean_squared_error: 28079.0117\n",
      "Epoch 5/10\n",
      "5499/5499 [==============================] - 10s 2ms/step - loss: 26081.6833 - mean_squared_error: 26081.6833 - val_loss: 27414.4316 - val_mean_squared_error: 27414.4316\n",
      "Epoch 6/10\n",
      "5499/5499 [==============================] - 10s 2ms/step - loss: 27836.7190 - mean_squared_error: 27836.7190 - val_loss: 26132.3770 - val_mean_squared_error: 26132.3770\n",
      "Epoch 7/10\n",
      "5499/5499 [==============================] - 10s 2ms/step - loss: 24382.9166 - mean_squared_error: 24382.9166 - val_loss: 22087.4238 - val_mean_squared_error: 22087.4238\n",
      "Epoch 8/10\n",
      "5499/5499 [==============================] - 10s 2ms/step - loss: 24450.6413 - mean_squared_error: 24450.6413 - val_loss: 22434.8809 - val_mean_squared_error: 22434.8809\n",
      "Epoch 9/10\n",
      "5499/5499 [==============================] - 10s 2ms/step - loss: 25334.7164 - mean_squared_error: 25334.7164 - val_loss: 22725.4727 - val_mean_squared_error: 22725.4727\n",
      "Epoch 10/10\n",
      "5499/5499 [==============================] - 10s 2ms/step - loss: 24352.3588 - mean_squared_error: 24352.3588 - val_loss: 25137.9375 - val_mean_squared_error: 25137.9375\n"
     ]
    }
   ],
   "source": [
    "history, model, X_train, Y_train, X_val, Y_val = run_model(model=model, x_train=x_train, y_train=y_train, stratify=None)  # save trained model and data"
   ]
  },
  {
   "attachments": {},
   "cell_type": "markdown",
   "id": "cc348840",
   "metadata": {},
   "source": [
    "### Modell evaluieren <a class=\"anchor\" id=\"ModellEvaluieren\"></a>"
   ]
  },
  {
   "cell_type": "code",
   "execution_count": 70,
   "id": "e8dbb09d",
   "metadata": {},
   "outputs": [
    {
     "name": "stdout",
     "output_type": "stream",
     "text": [
      "\n",
      "------------------------------------------------------------------------------\n",
      "Scores\n",
      "------------------------------------------------------------------------------\n",
      "\n",
      "Train data\n",
      "5499/5499 - 3s - loss: 27025.6230 - mean_squared_error: 27025.6230\n",
      "x_train MSE: 27025.623046875\n",
      "\n",
      "------------------------------------------------------------------------------\n",
      "Test data\n",
      "2946/2946 - 2s - loss: 25523.5039 - mean_squared_error: 25523.5039\n",
      "x_test MSE: 25523.50390625\n",
      "\n",
      "------------------------------------------------------------------------------\n",
      "Validation data\n",
      "1375/1375 - 1s - loss: 25137.9375 - mean_squared_error: 25137.9375\n",
      "x_val MSE: 25137.9375\n"
     ]
    }
   ],
   "source": [
    "print(\"\\n------------------------------------------------------------------------------\")\n",
    "print(\"Scores\")\n",
    "print(\"------------------------------------------------------------------------------\\n\")\n",
    "print(\"Train data\")\n",
    "print(\"x_train MSE:\", model.evaluate(X_train, Y_train, verbose=2)[1])\n",
    "print(\"\\n------------------------------------------------------------------------------\")\n",
    "print(\"Test data\")\n",
    "print(\"x_test MSE:\", model.evaluate(x_test, y_test, verbose=2)[1])\n",
    "print(\"\\n------------------------------------------------------------------------------\")\n",
    "print(\"Validation data\")\n",
    "print(\"x_val MSE:\", model.evaluate(X_val, Y_val, verbose=2)[1])"
   ]
  },
  {
   "cell_type": "code",
   "execution_count": 71,
   "id": "8732959f",
   "metadata": {},
   "outputs": [
    {
     "data": {
      "text/plain": [
       "dict_keys(['loss', 'mean_squared_error', 'val_loss', 'val_mean_squared_error'])"
      ]
     },
     "execution_count": 71,
     "metadata": {},
     "output_type": "execute_result"
    }
   ],
   "source": [
    "history.history.keys()"
   ]
  },
  {
   "cell_type": "code",
   "execution_count": 72,
   "id": "9645bbc6",
   "metadata": {},
   "outputs": [],
   "source": [
    "def plot_measures_regression(model_name, history=history, title=\"Measures\", accuracy_measures_to_plot=[\"train_loss\", \"train_mean_squared_error\", \"val_loss\", \"val_mean_squared_error\"], savefig=False):\n",
    "    accuracy_measures={}\n",
    "    accuracy_measures[\"train_loss\"] = history.history[\"loss\"]\n",
    "    accuracy_measures[\"train_mean_squared_error\"] = history.history[\"mean_squared_error\"]\n",
    "    accuracy_measures[\"val_loss\"] = history.history[\"val_loss\"]\n",
    "    accuracy_measures[\"val_mean_squared_error\"] = history.history[\"val_mean_squared_error\"]\n",
    "    plt.figure(figsize=(15, 8))\n",
    "    for measure in accuracy_measures.keys():\n",
    "        if measure in accuracy_measures_to_plot:\n",
    "            plt.plot(accuracy_measures[measure], label=measure, linewidth=3)\n",
    "\n",
    "    plt.title(title)\n",
    "    plt.xlabel(\"Epochs\")\n",
    "    plt.ylabel(\"Measure\")\n",
    "    plt.legend()\n",
    "    if savefig:\n",
    "        plt.savefig(f'figures/{title}.png')\n",
    "    plt.show()"
   ]
  },
  {
   "cell_type": "code",
   "execution_count": 73,
   "id": "3f147c4e",
   "metadata": {},
   "outputs": [
    {
     "data": {
      "image/png": "[encoded data removed]",
      "text/plain": [
       "<Figure size 1500x800 with 1 Axes>"
      ]
     },
     "metadata": {},
     "output_type": "display_data"
    }
   ],
   "source": [
    "plot_measures_regression(model_name=\"BEIJING-MODEL\", history=history, title=f\"MSE_{run_count}\",accuracy_measures_to_plot=[\"train_mean_squared_error\", \"val_mean_squared_error\"], savefig=True)"
   ]
  },
  {
   "cell_type": "code",
   "execution_count": 74,
   "id": "da668e77",
   "metadata": {},
   "outputs": [
    {
     "data": {
      "image/png": "[encoded data removed]",
      "text/plain": [
       "<Figure size 1500x800 with 1 Axes>"
      ]
     },
     "metadata": {},
     "output_type": "display_data"
    }
   ],
   "source": [
    "plot_measures_regression(model_name=\"BEIJING-MODEL\", history=history, title=f\"Loss_{run_count}\", accuracy_measures_to_plot=[\"train_loss\", \"val_loss\"], savefig=True)"
   ]
  },
  {
   "attachments": {},
   "cell_type": "markdown",
   "id": "d2f12ff7",
   "metadata": {},
   "source": [
    "### Modell optimieren - Hyperparameter Tuning <a class=\"anchor\" id=\"ModellOptimieren\"></a>"
   ]
  },
  {
   "attachments": {},
   "cell_type": "markdown",
   "id": "8f564e34",
   "metadata": {},
   "source": [
    "> Keras Tuner: https://keras.io/guides/keras_tuner/getting_started/"
   ]
  },
  {
   "cell_type": "code",
   "execution_count": 78,
   "id": "3849d036",
   "metadata": {},
   "outputs": [
    {
     "data": {
      "text/plain": [
       "<tensorflow.python.keras.engine.sequential.Sequential at 0x7f4e43054370>"
      ]
     },
     "execution_count": 78,
     "metadata": {},
     "output_type": "execute_result"
    }
   ],
   "source": [
    "def build_model(hp):\n",
    "    model = keras.Sequential()\n",
    "    tf.keras.layers.Flatten(input_shape=(x_train.shape[1],))\n",
    "    # Tune the number of layers.\n",
    "    for i in range(hp.Int(\"num_layers\", 1, 3)):\n",
    "        model.add(\n",
    "            tf.keras.layers.Dense(\n",
    "                # Tune number of units separately.\n",
    "                units=hp.Int(f\"units_{i}\", min_value=4, max_value=32, step=4, default=4),\n",
    "                activation=hp.Choice(\"activation\", [\"relu\", \"tanh\"], default=\"relu\"),\n",
    "                kernel_initializer=hp.Choice(\"kernel_initializer\", [\"ones\", \"zeros\", \"random_normal\", \"random_uniform\"], default=\"ones\"),\n",
    "                bias_initializer=hp.Choice(\"bias_initializer\", [\"ones\", \"zeros\", \"random_normal\", \"random_uniform\"], default=\"random_normal\"),\n",
    "            )\n",
    "        )\n",
    "    if hp.Boolean(\"dropout\"):\n",
    "        model.add(tf.keras.layers.Dropout(rate=hp.Float('dropout_rate', min_value=0.01, max_value=0.5, default=0.1, step=0.05)))\n",
    "    model.add(tf.keras.layers.Dense(1, activation=None))\n",
    "    learning_rate = hp.Float(\"lr\", min_value=1e-5, max_value=1e-3, sampling=\"log\")\n",
    "    model.compile(\n",
    "        optimizer=keras.optimizers.RMSprop(learning_rate=learning_rate),\n",
    "        loss=\"mean_squared_error\",\n",
    "        metrics=[keras.metrics.MeanSquaredError()],\n",
    "    )\n",
    "    return model\n",
    "\n",
    "\n",
    "build_model(keras_tuner.HyperParameters())"
   ]
  },
  {
   "cell_type": "code",
   "execution_count": 79,
   "id": "448351cb",
   "metadata": {},
   "outputs": [
    {
     "name": "stdout",
     "output_type": "stream",
     "text": [
      "INFO:tensorflow:Reloading Tuner from keras_tuner_beijing_housing/BEIJING-HOUSING-TUNE/tuner0.json\n"
     ]
    }
   ],
   "source": [
    "# Setup des Tuners\n",
    "tuner_rs = keras_tuner.RandomSearch(\n",
    "            hypermodel=build_model,\n",
    "            objective=keras_tuner.Objective(\"val_mean_squared_error\", direction=\"min\"),\n",
    "            seed=42,\n",
    "            max_trials=10,\n",
    "            executions_per_trial=1,\n",
    "            project_name=\"BEIJING-HOUSING-TUNE\",\n",
    "            directory=\"keras_tuner_beijing_housing\"\n",
    "            )"
   ]
  },
  {
   "cell_type": "code",
   "execution_count": 80,
   "id": "caed567e",
   "metadata": {},
   "outputs": [
    {
     "name": "stdout",
     "output_type": "stream",
     "text": [
      "Search space summary\n",
      "Default search space size: 10\n",
      "num_layers (Int)\n",
      "{'default': None, 'conditions': [], 'min_value': 1, 'max_value': 3, 'step': 1, 'sampling': 'linear'}\n",
      "units_0 (Int)\n",
      "{'default': 4, 'conditions': [], 'min_value': 4, 'max_value': 32, 'step': 4, 'sampling': 'linear'}\n",
      "activation (Choice)\n",
      "{'default': 'relu', 'conditions': [], 'values': ['relu', 'tanh'], 'ordered': False}\n",
      "kernel_initializer (Choice)\n",
      "{'default': 'ones', 'conditions': [], 'values': ['ones', 'zeros', 'random_normal', 'random_uniform'], 'ordered': False}\n",
      "bias_initializer (Choice)\n",
      "{'default': 'random_normal', 'conditions': [], 'values': ['ones', 'zeros', 'random_normal', 'random_uniform'], 'ordered': False}\n",
      "dropout (Boolean)\n",
      "{'default': False, 'conditions': []}\n",
      "lr (Float)\n",
      "{'default': 1e-05, 'conditions': [], 'min_value': 1e-05, 'max_value': 0.001, 'step': None, 'sampling': 'log'}\n",
      "units_1 (Int)\n",
      "{'default': 4, 'conditions': [], 'min_value': 4, 'max_value': 32, 'step': 4, 'sampling': 'linear'}\n",
      "dropout_rate (Float)\n",
      "{'default': 0.1, 'conditions': [], 'min_value': 0.01, 'max_value': 0.5, 'step': 0.05, 'sampling': 'linear'}\n",
      "units_2 (Int)\n",
      "{'default': 4, 'conditions': [], 'min_value': 4, 'max_value': 32, 'step': 4, 'sampling': 'linear'}\n"
     ]
    }
   ],
   "source": [
    "tuner_rs.search_space_summary()"
   ]
  },
  {
   "cell_type": "code",
   "execution_count": 82,
   "id": "54087f8f",
   "metadata": {},
   "outputs": [],
   "source": [
    "# create val set\n",
    "X_train, X_val, Y_train, Y_val = train_test_split(\n",
    "                        x_train, y_train,\n",
    "                        stratify=None,\n",
    "                        test_size=0.2)"
   ]
  },
  {
   "cell_type": "code",
   "execution_count": 83,
   "id": "7806d97f",
   "metadata": {},
   "outputs": [
    {
     "name": "stdout",
     "output_type": "stream",
     "text": [
      "shape X_train/Y_train: (175954, 7) (175954,)\n",
      "shape x_test/y_test: (94262, 7) (94262,)\n",
      "shape x_val/y_val: (43989, 7) (43989,)\n"
     ]
    }
   ],
   "source": [
    "print(\"shape X_train/Y_train:\", np.shape(X_train), np.shape(Y_train))\n",
    "print(\"shape x_test/y_test:\", np.shape(x_test), np.shape(y_test))\n",
    "print(\"shape x_val/y_val:\", np.shape(X_val), np.shape(Y_val))"
   ]
  },
  {
   "cell_type": "code",
   "execution_count": 84,
   "id": "b7c11aef",
   "metadata": {},
   "outputs": [
    {
     "name": "stdout",
     "output_type": "stream",
     "text": [
      "INFO:tensorflow:Oracle triggered exit\n"
     ]
    }
   ],
   "source": [
    "tuner_rs.search(X_train, Y_train, epochs=10, batch_size=32, validation_data=(X_val, Y_val))  # Hyperparameter Tuning"
   ]
  },
  {
   "cell_type": "code",
   "execution_count": 60,
   "id": "8396ec39",
   "metadata": {},
   "outputs": [
    {
     "name": "stdout",
     "output_type": "stream",
     "text": [
      "num_layers: 2\n",
      "units_0: 4\n",
      "units_1: 4\n",
      "activation: relu\n",
      "dropout: False\n",
      "lr: 0.00012482904754698164\n",
      "bias_initializer: random_uniform\n",
      "kernel_initializer: zeros\n"
     ]
    }
   ],
   "source": [
    "print(\"num_layers:\", tuner_rs.get_best_hyperparameters()[0].get(\"num_layers\"))\n",
    "print(\"units_0:\", tuner_rs.get_best_hyperparameters()[0].get(\"units_0\"))\n",
    "print(\"units_1:\", tuner_rs.get_best_hyperparameters()[0].get(\"units_1\"))\n",
    "print(\"activation:\", tuner_rs.get_best_hyperparameters()[0].get(\"activation\"))\n",
    "print(\"dropout:\", tuner_rs.get_best_hyperparameters()[0].get(\"dropout\"))\n",
    "print(\"lr:\", tuner_rs.get_best_hyperparameters()[0].get(\"lr\"))\n",
    "print(\"bias_initializer:\", tuner_rs.get_best_hyperparameters()[0].get(\"bias_initializer\"))\n",
    "print(\"kernel_initializer:\", tuner_rs.get_best_hyperparameters()[0].get(\"kernel_initializer\"))"
   ]
  },
  {
   "cell_type": "code",
   "execution_count": 66,
   "id": "b33ed921",
   "metadata": {},
   "outputs": [],
   "source": [
    "best_hp = tuner_rs.get_best_hyperparameters()[0]  # Beste Hyperparameter von Keras Tuner speichern\n",
    "best_model = build_model(best_hp)  # Model direkt mit besten Hyperparameter von Keras Tuner erstellen"
   ]
  },
  {
   "cell_type": "code",
   "execution_count": 67,
   "id": "d4add683",
   "metadata": {},
   "outputs": [
    {
     "name": "stdout",
     "output_type": "stream",
     "text": [
      "Epoch 1/10\n",
      "10998/10998 - 17s - loss: 45730.0781 - mean_squared_error: 45730.0781 - val_loss: 39795.0938 - val_mean_squared_error: 39795.0938\n",
      "Epoch 2/10\n",
      "10998/10998 - 16s - loss: 38985.9492 - mean_squared_error: 38985.9492 - val_loss: 28891.5898 - val_mean_squared_error: 28891.5898\n",
      "Epoch 3/10\n",
      "10998/10998 - 17s - loss: 24912.7070 - mean_squared_error: 24912.7070 - val_loss: 20961.7949 - val_mean_squared_error: 20961.7949\n",
      "Epoch 4/10\n",
      "10998/10998 - 17s - loss: 22931.8750 - mean_squared_error: 22931.8750 - val_loss: 20928.3262 - val_mean_squared_error: 20928.3262\n",
      "Epoch 5/10\n",
      "10998/10998 - 16s - loss: 22895.8574 - mean_squared_error: 22895.8574 - val_loss: 21143.0527 - val_mean_squared_error: 21143.0527\n",
      "Epoch 6/10\n",
      "10998/10998 - 16s - loss: 22863.7402 - mean_squared_error: 22863.7402 - val_loss: 20911.4219 - val_mean_squared_error: 20911.4219\n",
      "Epoch 7/10\n",
      "10998/10998 - 16s - loss: 22891.6113 - mean_squared_error: 22891.6113 - val_loss: 21435.1309 - val_mean_squared_error: 21435.1309\n",
      "Epoch 8/10\n",
      "10998/10998 - 16s - loss: 22856.8301 - mean_squared_error: 22856.8301 - val_loss: 20961.2109 - val_mean_squared_error: 20961.2109\n",
      "Epoch 9/10\n",
      "10998/10998 - 16s - loss: 22877.0352 - mean_squared_error: 22877.0352 - val_loss: 21164.8613 - val_mean_squared_error: 21164.8613\n",
      "Epoch 10/10\n",
      "10998/10998 - 16s - loss: 22845.1816 - mean_squared_error: 22845.1816 - val_loss: 21477.3086 - val_mean_squared_error: 21477.3086\n"
     ]
    }
   ],
   "source": [
    "callback = tf.keras.callbacks.EarlyStopping(monitor='loss', patience=5)  # patience: Number of epochs with no improvement after which training will be stopped.\n",
    "\n",
    "history=best_model.fit(X_train,\n",
    "              Y_train,\n",
    "              batch_size=32,\n",
    "              epochs=10, \n",
    "              callbacks=[callback],\n",
    "              verbose=2,\n",
    "              validation_data= (X_val, Y_val))"
   ]
  },
  {
   "cell_type": "code",
   "execution_count": 71,
   "id": "a78a9e52",
   "metadata": {},
   "outputs": [
    {
     "name": "stdout",
     "output_type": "stream",
     "text": [
      "\n",
      "------------------------------------------------------------------------------\n",
      "Scores\n",
      "------------------------------------------------------------------------------\n",
      "\n",
      "Train data\n",
      "5499/5499 - 3s - loss: 22918.2168 - mean_squared_error: 22918.2168\n",
      "x_train MSE: 22918.216796875\n",
      "\n",
      "------------------------------------------------------------------------------\n",
      "Test data\n",
      "2946/2946 - 2s - loss: 21856.6230 - mean_squared_error: 21856.6230\n",
      "x_test MSE: 21856.623046875\n",
      "\n",
      "------------------------------------------------------------------------------\n",
      "Validation data\n",
      "1375/1375 - 1s - loss: 21477.2988 - mean_squared_error: 21477.2988\n",
      "x_val MSE: 21477.298828125\n"
     ]
    }
   ],
   "source": [
    "print(\"\\n------------------------------------------------------------------------------\")\n",
    "print(\"Scores\")\n",
    "print(\"------------------------------------------------------------------------------\\n\")\n",
    "print(\"Train data\")\n",
    "print(\"x_train MSE:\", best_model.evaluate(X_train, Y_train, verbose=2)[1])\n",
    "print(\"\\n------------------------------------------------------------------------------\")\n",
    "print(\"Test data\")\n",
    "print(\"x_test MSE:\", best_model.evaluate(x_test, y_test, verbose=2)[1])\n",
    "print(\"\\n------------------------------------------------------------------------------\")\n",
    "print(\"Validation data\")\n",
    "print(\"x_val MSE:\", best_model.evaluate(X_val, Y_val, verbose=2)[1])"
   ]
  },
  {
   "cell_type": "code",
   "execution_count": 72,
   "id": "a0efabb4",
   "metadata": {},
   "outputs": [
    {
     "data": {
      "image/png": "[encoded data removed]",
      "text/plain": [
       "<IPython.core.display.Image object>"
      ]
     },
     "execution_count": 72,
     "metadata": {},
     "output_type": "execute_result"
    }
   ],
   "source": [
    "plot_model(best_model, to_file=\"BEIJING-HOUSING-MODEL-TUNED_KERAS.png\", show_shapes=True, show_layer_names=True)  # visualizer integrated in keras package"
   ]
  },
  {
   "cell_type": "code",
   "execution_count": 73,
   "id": "a646b3df",
   "metadata": {},
   "outputs": [
    {
     "data": {
      "image/png": "[encoded data removed]",
      "text/plain": [
       "<Figure size 1500x800 with 1 Axes>"
      ]
     },
     "metadata": {},
     "output_type": "display_data"
    }
   ],
   "source": [
    "plot_measures_regression(model_name=\"BEIJING-MODEL\", history=history, title=f\"MSE_{run_count}\",accuracy_measures_to_plot=[\"train_mean_squared_error\", \"val_mean_squared_error\"], savefig=True)"
   ]
  },
  {
   "cell_type": "markdown",
   "id": "73741e7a",
   "metadata": {},
   "source": [
    "---"
   ]
  },
  {
   "cell_type": "markdown",
   "id": "15aa52d0",
   "metadata": {},
   "source": [
    "## Referenzen"
   ]
  },
  {
   "attachments": {},
   "cell_type": "markdown",
   "id": "fbca18c3",
   "metadata": {},
   "source": [
    "- Code Snippets/Informationen aus Kurs CDS-108: https://moodle.fhgr.ch/course/view.php?id=14551\n",
    "- Tensorflow/Keras Doku: https://www.tensorflow.org/datasets/keras_example\n",
    "- Feature Importance: https://towardsdatascience.com/feature-importance-with-neural-network-346eb6205743\n",
    "- Hidden Layers: https://medium.com/geekculture/introduction-to-neural-network-2f8b8221fbd3\n",
    "- Batches: https://stats.stackexchange.com/questions/153531/what-is-batch-size-in-neural-network\n",
    "- Batch and Epoch: https://machinelearningmastery.com/difference-between-a-batch-and-an-epoch/\n",
    "- Batch Size: https://stackoverflow.com/questions/35050753/how-big-should-batch-size-and-number-of-epochs-be-when-fitting-a-model#:~:text=Generally%20batch%20size%20of%2032,have%20worked%20fine%20for%20me.\n",
    "- Activation Function: https://machinelearningmastery.com/choose-an-activation-function-for-deep-learning/\n",
    "- Regularization: https://towardsdatascience.com/regularization-techniques-for-neural-networks-379f5b4c9ac3\n",
    "- Optimizer: https://medium.com/mlearning-ai/optimizers-in-deep-learning-7bf81fed78a0\n",
    "- Optimizer wählen: https://towardsdatascience.com/7-tips-to-choose-the-best-optimizer-47bb9c1219e\n",
    "- Best optimizer MNIST: https://towardsdatascience.com/neural-network-optimization-algorithms-1a44c282f61d#:~:text=We%20compared%20different%20optimizers%20used,on%20MNIST%20data%20in%20TensorFlow.\n",
    "- Boston Housing: https://www.kaggle.com/code/manishkc06/build-your-first-deep-learning-model\n",
    "- Keras Tuner (Hyperparameter Tuning/Optimization): https://keras.io/keras_tuner/"
   ]
  },
  {
   "cell_type": "markdown",
   "id": "e540b3fc",
   "metadata": {},
   "source": [
    "---"
   ]
  }
 ],
 "metadata": {
  "kernelspec": {
   "display_name": "Python 3 (ipykernel)",
   "language": "python",
   "name": "python3"
  },
  "language_info": {
   "codemirror_mode": {
    "name": "ipython",
    "version": 3
   },
   "file_extension": ".py",
   "mimetype": "text/x-python",
   "name": "python",
   "nbconvert_exporter": "python",
   "pygments_lexer": "ipython3",
   "version": "3.9.16"
  }
 },
 "nbformat": 4,
 "nbformat_minor": 5
}
